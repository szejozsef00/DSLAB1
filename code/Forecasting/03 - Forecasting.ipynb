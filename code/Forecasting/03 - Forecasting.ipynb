{
 "cells": [
  {
   "cell_type": "markdown",
   "metadata": {},
   "source": [
    "## 03 - Forecasting"
   ]
  },
  {
   "cell_type": "markdown",
   "metadata": {},
   "source": [
    "### Import packages and load the data"
   ]
  },
  {
   "cell_type": "code",
   "execution_count": 1,
   "metadata": {},
   "outputs": [],
   "source": [
    "import pandas as pd\n",
    "import lightgbm as lgb\n",
    "from sklearn.preprocessing import OneHotEncoder\n",
    "from sklearn.model_selection import train_test_split\n",
    "from sklearn.preprocessing import MinMaxScaler\n",
    "from sklearn.metrics import mean_squared_error, mean_absolute_percentage_error\n",
    "import math\n",
    "import matplotlib.pyplot as plt\n",
    "import numpy as np\n",
    "import datetime\n",
    "# from flaml import AutoML\n",
    "import plotly.express as px\n",
    "import pickle\n",
    "import plotly.graph_objects as go"
   ]
  },
  {
   "cell_type": "code",
   "execution_count": 2,
   "metadata": {},
   "outputs": [
    {
     "data": {
      "text/html": [
       "<div>\n",
       "<style scoped>\n",
       "    .dataframe tbody tr th:only-of-type {\n",
       "        vertical-align: middle;\n",
       "    }\n",
       "\n",
       "    .dataframe tbody tr th {\n",
       "        vertical-align: top;\n",
       "    }\n",
       "\n",
       "    .dataframe thead th {\n",
       "        text-align: right;\n",
       "    }\n",
       "</style>\n",
       "<table border=\"1\" class=\"dataframe\">\n",
       "  <thead>\n",
       "    <tr style=\"text-align: right;\">\n",
       "      <th></th>\n",
       "      <th>DATE</th>\n",
       "      <th>DATETIME</th>\n",
       "      <th>LOCATION</th>\n",
       "      <th>VALUE</th>\n",
       "      <th>VALUE_SCALED</th>\n",
       "      <th>All Saints' Day</th>\n",
       "      <th>Christmas Day</th>\n",
       "      <th>Easter Monday</th>\n",
       "      <th>Labor Day</th>\n",
       "      <th>New Year's Day</th>\n",
       "      <th>...</th>\n",
       "      <th>minute_10</th>\n",
       "      <th>minute_15</th>\n",
       "      <th>minute_20</th>\n",
       "      <th>minute_25</th>\n",
       "      <th>minute_30</th>\n",
       "      <th>minute_35</th>\n",
       "      <th>minute_40</th>\n",
       "      <th>minute_45</th>\n",
       "      <th>minute_50</th>\n",
       "      <th>minute_55</th>\n",
       "    </tr>\n",
       "  </thead>\n",
       "  <tbody>\n",
       "    <tr>\n",
       "      <th>0</th>\n",
       "      <td>2009-07-02</td>\n",
       "      <td>2009-07-02 00:00:00</td>\n",
       "      <td>0</td>\n",
       "      <td>-79.50</td>\n",
       "      <td>0.425602</td>\n",
       "      <td>0</td>\n",
       "      <td>0</td>\n",
       "      <td>0</td>\n",
       "      <td>0</td>\n",
       "      <td>0</td>\n",
       "      <td>...</td>\n",
       "      <td>0</td>\n",
       "      <td>0</td>\n",
       "      <td>0</td>\n",
       "      <td>0</td>\n",
       "      <td>0</td>\n",
       "      <td>0</td>\n",
       "      <td>0</td>\n",
       "      <td>0</td>\n",
       "      <td>0</td>\n",
       "      <td>0</td>\n",
       "    </tr>\n",
       "    <tr>\n",
       "      <th>1</th>\n",
       "      <td>2009-07-02</td>\n",
       "      <td>2009-07-02 00:05:00</td>\n",
       "      <td>0</td>\n",
       "      <td>-22.81</td>\n",
       "      <td>0.463518</td>\n",
       "      <td>0</td>\n",
       "      <td>0</td>\n",
       "      <td>0</td>\n",
       "      <td>0</td>\n",
       "      <td>0</td>\n",
       "      <td>...</td>\n",
       "      <td>0</td>\n",
       "      <td>0</td>\n",
       "      <td>0</td>\n",
       "      <td>0</td>\n",
       "      <td>0</td>\n",
       "      <td>0</td>\n",
       "      <td>0</td>\n",
       "      <td>0</td>\n",
       "      <td>0</td>\n",
       "      <td>0</td>\n",
       "    </tr>\n",
       "    <tr>\n",
       "      <th>2</th>\n",
       "      <td>2009-07-02</td>\n",
       "      <td>2009-07-02 00:10:00</td>\n",
       "      <td>0</td>\n",
       "      <td>23.02</td>\n",
       "      <td>0.494171</td>\n",
       "      <td>0</td>\n",
       "      <td>0</td>\n",
       "      <td>0</td>\n",
       "      <td>0</td>\n",
       "      <td>0</td>\n",
       "      <td>...</td>\n",
       "      <td>1</td>\n",
       "      <td>0</td>\n",
       "      <td>0</td>\n",
       "      <td>0</td>\n",
       "      <td>0</td>\n",
       "      <td>0</td>\n",
       "      <td>0</td>\n",
       "      <td>0</td>\n",
       "      <td>0</td>\n",
       "      <td>0</td>\n",
       "    </tr>\n",
       "    <tr>\n",
       "      <th>3</th>\n",
       "      <td>2009-07-02</td>\n",
       "      <td>2009-07-02 00:15:00</td>\n",
       "      <td>0</td>\n",
       "      <td>21.36</td>\n",
       "      <td>0.493061</td>\n",
       "      <td>0</td>\n",
       "      <td>0</td>\n",
       "      <td>0</td>\n",
       "      <td>0</td>\n",
       "      <td>0</td>\n",
       "      <td>...</td>\n",
       "      <td>0</td>\n",
       "      <td>1</td>\n",
       "      <td>0</td>\n",
       "      <td>0</td>\n",
       "      <td>0</td>\n",
       "      <td>0</td>\n",
       "      <td>0</td>\n",
       "      <td>0</td>\n",
       "      <td>0</td>\n",
       "      <td>0</td>\n",
       "    </tr>\n",
       "    <tr>\n",
       "      <th>4</th>\n",
       "      <td>2009-07-02</td>\n",
       "      <td>2009-07-02 00:20:00</td>\n",
       "      <td>0</td>\n",
       "      <td>25.18</td>\n",
       "      <td>0.495616</td>\n",
       "      <td>0</td>\n",
       "      <td>0</td>\n",
       "      <td>0</td>\n",
       "      <td>0</td>\n",
       "      <td>0</td>\n",
       "      <td>...</td>\n",
       "      <td>0</td>\n",
       "      <td>0</td>\n",
       "      <td>1</td>\n",
       "      <td>0</td>\n",
       "      <td>0</td>\n",
       "      <td>0</td>\n",
       "      <td>0</td>\n",
       "      <td>0</td>\n",
       "      <td>0</td>\n",
       "      <td>0</td>\n",
       "    </tr>\n",
       "  </tbody>\n",
       "</table>\n",
       "<p>5 rows × 97 columns</p>\n",
       "</div>"
      ],
      "text/plain": [
       "         DATE            DATETIME  LOCATION  VALUE  VALUE_SCALED  \\\n",
       "0  2009-07-02 2009-07-02 00:00:00         0 -79.50      0.425602   \n",
       "1  2009-07-02 2009-07-02 00:05:00         0 -22.81      0.463518   \n",
       "2  2009-07-02 2009-07-02 00:10:00         0  23.02      0.494171   \n",
       "3  2009-07-02 2009-07-02 00:15:00         0  21.36      0.493061   \n",
       "4  2009-07-02 2009-07-02 00:20:00         0  25.18      0.495616   \n",
       "\n",
       "   All Saints' Day  Christmas Day  Easter Monday  Labor Day  New Year's Day  \\\n",
       "0                0              0              0          0               0   \n",
       "1                0              0              0          0               0   \n",
       "2                0              0              0          0               0   \n",
       "3                0              0              0          0               0   \n",
       "4                0              0              0          0               0   \n",
       "\n",
       "   ...  minute_10  minute_15  minute_20  minute_25  minute_30  minute_35  \\\n",
       "0  ...          0          0          0          0          0          0   \n",
       "1  ...          0          0          0          0          0          0   \n",
       "2  ...          1          0          0          0          0          0   \n",
       "3  ...          0          1          0          0          0          0   \n",
       "4  ...          0          0          1          0          0          0   \n",
       "\n",
       "   minute_40  minute_45  minute_50  minute_55  \n",
       "0          0          0          0          0  \n",
       "1          0          0          0          0  \n",
       "2          0          0          0          0  \n",
       "3          0          0          0          0  \n",
       "4          0          0          0          0  \n",
       "\n",
       "[5 rows x 97 columns]"
      ]
     },
     "execution_count": 2,
     "metadata": {},
     "output_type": "execute_result"
    }
   ],
   "source": [
    "data_input_path = '/Users/szejozsef00/Desktop/MSC/MSC 2. félév/DS Lab I/DSLAB1/data/processed/'\n",
    "prediction_output_path = '/Users/szejozsef00/Desktop/MSC/MSC 2. félév/DS Lab I/DSLAB1/data/predictions/'\n",
    "\n",
    "data = pd.read_csv(data_input_path + 'modelling_df_0120.csv',parse_dates=['DATETIME'])\n",
    "data.head(5)"
   ]
  },
  {
   "cell_type": "code",
   "execution_count": 6,
   "metadata": {},
   "outputs": [
    {
     "data": {
      "text/plain": [
       "100"
      ]
     },
     "execution_count": 6,
     "metadata": {},
     "output_type": "execute_result"
    }
   ],
   "source": [
    "data = data[data['LOCATION'] < 100].copy(deep=True)\n",
    "data['LOCATION'].nunique()"
   ]
  },
  {
   "cell_type": "markdown",
   "metadata": {},
   "source": [
    "### Create features"
   ]
  },
  {
   "cell_type": "code",
   "execution_count": 7,
   "metadata": {},
   "outputs": [],
   "source": [
    "# Creating the features used for prediction\n",
    "def create_features(data, n_lags=7, feature_name=None, horizont=7):\n",
    "    features = data.sort_values(['LOCATION', 'DATETIME'])\n",
    "    features.drop(columns=[feature_name], inplace=True)\n",
    "\n",
    "    # Create lag features\n",
    "\n",
    "    for lag in range(horizont, 7*horizont+1, horizont):\n",
    "        features[f'{feature_name}_lag{lag}'] = data[['LOCATION', f'{feature_name}']].groupby('LOCATION').shift(lag)\n",
    "\n",
    "    \n",
    "    features[feature_name] = data[f'{feature_name}']\n",
    "    feature_list = features.columns.tolist()\n",
    "\n",
    "    return features, feature_list"
   ]
  },
  {
   "cell_type": "code",
   "execution_count": 8,
   "metadata": {},
   "outputs": [],
   "source": [
    "# Defining parameters for the prediction\n",
    "# The target variable we want to predict\n",
    "target = 'VALUE_SCALED'\n",
    "\n",
    "# The start date for the predictions\n",
    "prediction_start_date = '2010-07-01'\n",
    "\n",
    "# Confidence level for the lower/upper bound\n",
    "alpha = 0.7\n",
    "\n",
    "# Horizont of the predictions\n",
    "horizont = 288\n",
    "\n",
    "# Preparing data\n",
    "data.reset_index(drop=True, inplace=True)\n",
    "data.loc[data['DATE'] >= prediction_start_date, target] = None\n",
    "\n",
    "\n",
    "# Creating features\n",
    "data_all, feature_list = create_features(data, \n",
    "                                         2*horizont, \n",
    "                                         feature_name=target, \n",
    "                                         horizont=horizont)\n",
    "\n",
    "# LightGBM parameters\n",
    "params = {\n",
    "       'objective': 'regression', \n",
    "       'metric': 'mape',\n",
    "       'boosting_type': 'gbdt',  # Gradient boosting decision tree\n",
    "       'learning_rate': 0.05,\n",
    "       'num_leaves': 100, #31\n",
    "       'feature_fraction': 0.9,\n",
    "       'bagging_fraction': 0.8,\n",
    "       'bagging_freq': 5\n",
    "}\n",
    "\n",
    "# Alternative parameters for quantile regression\n",
    "lower_params = {\n",
    "    'objective': 'quantile',  \n",
    "    'alpha': 1 - alpha, \n",
    "    'boosting_type': 'gbdt', \n",
    "    'learning_rate': 0.05,\n",
    "    'num_leaves': 100,  # 31\n",
    "    'feature_fraction': 0.9,\n",
    "    'bagging_fraction': 0.8,\n",
    "    'bagging_freq': 5,\n",
    "}\n",
    "\n",
    "upper_params = {\n",
    "    'objective': 'quantile',  \n",
    "    'alpha': alpha, \n",
    "    'boosting_type': 'gbdt', \n",
    "    'learning_rate': 0.05,\n",
    "    'num_leaves': 100,  # 31\n",
    "    'feature_fraction': 0.9,\n",
    "    'bagging_fraction': 0.8,\n",
    "    'bagging_freq': 5,\n",
    "}"
   ]
  },
  {
   "cell_type": "code",
   "execution_count": 9,
   "metadata": {},
   "outputs": [],
   "source": [
    "# Finding the start and end of the prediction period\n",
    "prediction_start_date = pd.to_datetime(prediction_start_date)\n",
    "prediction_end_date = pd.to_datetime(prediction_start_date) + datetime.timedelta(days=1) - datetime.timedelta(minutes=5)"
   ]
  },
  {
   "cell_type": "code",
   "execution_count": 10,
   "metadata": {},
   "outputs": [],
   "source": [
    "# Creating the list of dates for prediction\n",
    "dates = pd.date_range(start=prediction_start_date, end=prediction_end_date, freq='5T')\n",
    "dates = dates.append(pd.DatetimeIndex([prediction_end_date]))"
   ]
  },
  {
   "cell_type": "code",
   "execution_count": 11,
   "metadata": {},
   "outputs": [],
   "source": [
    "def inverse_transform_by_location(df_scaled, scalers_path, value_col='predicted', result_col = 'predicted_scaled', location_col='LOCATION'):\n",
    "    # Load the scalers from the pickle file\n",
    "    with open(scalers_path, 'rb') as f:\n",
    "        scalers = pickle.load(f)\n",
    "    \n",
    "    # Create a copy of the dataframe to avoid modifying the original one\n",
    "    df_original = df_scaled.copy()\n",
    "    \n",
    "    # Iterate over each unique location\n",
    "    for location in df_scaled[location_col].unique():\n",
    "        # Filter the dataframe for the current location\n",
    "        location_df = df_scaled[df_scaled[location_col] == location]\n",
    "        \n",
    "        # Get the scaler for the current location\n",
    "        scaler = scalers[location]\n",
    "        \n",
    "        # Inverse transform the VALUE_SCALED column for the current location\n",
    "        df_original.loc[df_scaled[location_col] == location, result_col] = scaler.inverse_transform(location_df[[value_col]])\n",
    "    \n",
    "    return df_original"
   ]
  },
  {
   "cell_type": "code",
   "execution_count": 12,
   "metadata": {},
   "outputs": [],
   "source": [
    "# Defining the function for the prediction\n",
    "def predict_future(data, prediction_start_date, prediction_end_date, target, horizont):\n",
    "\n",
    "    # Separating past and future data\n",
    "    dt_past = data[data['DATETIME'] < prediction_start_date].dropna()\n",
    "    dt_future = data[(data['DATETIME'] >= prediction_start_date) & (data['DATETIME'] <= prediction_end_date)]      \n",
    "\n",
    "    # Separating predictors and target \n",
    "    X = dt_past.drop(columns=['DATE','LOCATION', 'DATETIME', target])\n",
    "    y = dt_past[target]  \n",
    "\n",
    "    # Split data into training and test sets\n",
    "    X_train, X_test, y_train, y_test = train_test_split(X, y, test_size=0.2, shuffle=False)\n",
    "\n",
    "    # Create LightGBM dataset\n",
    "    train_data = lgb.Dataset(X_train, label=y_train)\n",
    "    test_data = lgb.Dataset(X_test, label=y_test, reference=train_data)\n",
    "\n",
    "    # Train the main regression model\n",
    "    model = lgb.train(\n",
    "        params,\n",
    "        train_data,\n",
    "        valid_sets=[train_data, test_data],\n",
    "        num_boost_round=100,\n",
    "        callbacks=[lgb.early_stopping(stopping_rounds=100)]\n",
    "    )\n",
    "\n",
    "    # Train lower quantile model\n",
    "    lower = lgb.train(\n",
    "        lower_params,\n",
    "        train_data,\n",
    "        valid_sets=[train_data, test_data],\n",
    "        num_boost_round=100,\n",
    "        callbacks=[lgb.early_stopping(stopping_rounds=100)]\n",
    "    )\n",
    "\n",
    "    # Train upper quantile model\n",
    "    upper = lgb.train(\n",
    "        upper_params,\n",
    "        train_data,\n",
    "        valid_sets=[train_data, test_data],\n",
    "        num_boost_round=100,\n",
    "        callbacks=[lgb.early_stopping(stopping_rounds=100)]\n",
    "    )\n",
    "\n",
    "    # Calculate contributions and predictions\n",
    "    contributions = model.predict(\n",
    "        dt_future.drop(columns=['DATE','LOCATION', 'DATETIME', target]),\n",
    "        num_iteration=model.best_iteration,\n",
    "        pred_contrib=True\n",
    "    )\n",
    "\n",
    "    dt_future['predicted_scaled'] = model.predict(\n",
    "        dt_future.drop(columns=['DATE','LOCATION', 'DATETIME', target]),\n",
    "        num_iteration=model.best_iteration, predict_disable_shape_check=True\n",
    "    )\n",
    "    dt_future['lower_scaled'] = lower.predict(\n",
    "        dt_future.drop(columns=['DATE','LOCATION', 'DATETIME', target]),\n",
    "        num_iteration=model.best_iteration, predict_disable_shape_check=True\n",
    "    )\n",
    "    dt_future['upper_scaled'] = upper.predict(\n",
    "        dt_future.drop(columns=['DATE','LOCATION', 'DATETIME', target]),\n",
    "        num_iteration=model.best_iteration, predict_disable_shape_check=True\n",
    "    )\n",
    "\n",
    "    # Example usage\n",
    "    scalers_path = data_input_path + 'scalers.pkl'\n",
    "    dt_future = inverse_transform_by_location(dt_future, scalers_path,value_col='predicted_scaled',result_col='prediction', location_col='LOCATION')\n",
    "    dt_future = inverse_transform_by_location(dt_future, scalers_path,value_col='lower_scaled',result_col='lower_bound', location_col='LOCATION')\n",
    "    dt_future = inverse_transform_by_location(dt_future, scalers_path,value_col='upper_scaled',result_col='upper_bound', location_col='LOCATION')\n",
    "  \n",
    "    # Add the prediction horizon\n",
    "    dt_future['horizont'] = horizont\n",
    "\n",
    "    return dt_future[['LOCATION', 'DATETIME', 'horizont', 'prediction', 'lower_bound', 'upper_bound']]"
   ]
  },
  {
   "cell_type": "code",
   "execution_count": 13,
   "metadata": {},
   "outputs": [],
   "source": [
    "# Get the feature list\n",
    "features_wo_lag = [f for f in feature_list if \"lag\" not in f]\n",
    "features_w_lag = [f for f in feature_list if \"lag\" in f]\n",
    "features = features_wo_lag + features_w_lag\n",
    "# features = features_w_lag + ['DATETIME','DATE','LOCATION','VALUE_SCALED']"
   ]
  },
  {
   "cell_type": "code",
   "execution_count": 14,
   "metadata": {},
   "outputs": [],
   "source": [
    "\n",
    "df = data_all[features]"
   ]
  },
  {
   "cell_type": "code",
   "execution_count": 15,
   "metadata": {},
   "outputs": [
    {
     "name": "stdout",
     "output_type": "stream",
     "text": [
      "[LightGBM] [Warning] Found whitespace in feature_names, replace with underlines\n",
      "[LightGBM] [Info] Auto-choosing row-wise multi-threading, the overhead of testing was 0.077181 seconds.\n",
      "You can set `force_row_wise=true` to remove the overhead.\n",
      "And if memory is not enough, you can set `force_col_wise=true`.\n",
      "[LightGBM] [Info] Total Bins 2224\n",
      "[LightGBM] [Info] Number of data points in the train set: 8225280, number of used features: 100\n",
      "[LightGBM] [Warning] Found whitespace in feature_names, replace with underlines\n",
      "[LightGBM] [Info] Start training from score 0.438601\n",
      "Training until validation scores don't improve for 100 rounds\n",
      "Did not meet early stopping. Best iteration is:\n",
      "[100]\ttraining's mape: 0.0418478\tvalid_1's mape: 0.0493018\n",
      "[LightGBM] [Info] Auto-choosing row-wise multi-threading, the overhead of testing was 0.075071 seconds.\n",
      "You can set `force_row_wise=true` to remove the overhead.\n",
      "And if memory is not enough, you can set `force_col_wise=true`.\n",
      "[LightGBM] [Info] Total Bins 2224\n",
      "[LightGBM] [Info] Number of data points in the train set: 8225280, number of used features: 100\n",
      "[LightGBM] [Info] Start training from score 0.331230\n",
      "Training until validation scores don't improve for 100 rounds\n",
      "Did not meet early stopping. Best iteration is:\n",
      "[100]\ttraining's quantile: 0.0188206\tvalid_1's quantile: 0.0228666\n",
      "[LightGBM] [Info] Auto-choosing row-wise multi-threading, the overhead of testing was 0.075070 seconds.\n",
      "You can set `force_row_wise=true` to remove the overhead.\n",
      "And if memory is not enough, you can set `force_col_wise=true`.\n",
      "[LightGBM] [Info] Total Bins 2224\n",
      "[LightGBM] [Info] Number of data points in the train set: 8225280, number of used features: 100\n",
      "[LightGBM] [Info] Start training from score 0.589918\n",
      "Training until validation scores don't improve for 100 rounds\n",
      "Did not meet early stopping. Best iteration is:\n",
      "[97]\ttraining's quantile: 0.0188571\tvalid_1's quantile: 0.0225634\n"
     ]
    },
    {
     "name": "stderr",
     "output_type": "stream",
     "text": [
      "/var/folders/80/jvk9kxf57t13l590hz_z_jcr0000gn/T/ipykernel_8559/689576697.py:53: SettingWithCopyWarning: \n",
      "A value is trying to be set on a copy of a slice from a DataFrame.\n",
      "Try using .loc[row_indexer,col_indexer] = value instead\n",
      "\n",
      "See the caveats in the documentation: https://pandas.pydata.org/pandas-docs/stable/user_guide/indexing.html#returning-a-view-versus-a-copy\n",
      "  dt_future['predicted_scaled'] = model.predict(\n",
      "/var/folders/80/jvk9kxf57t13l590hz_z_jcr0000gn/T/ipykernel_8559/689576697.py:57: SettingWithCopyWarning: \n",
      "A value is trying to be set on a copy of a slice from a DataFrame.\n",
      "Try using .loc[row_indexer,col_indexer] = value instead\n",
      "\n",
      "See the caveats in the documentation: https://pandas.pydata.org/pandas-docs/stable/user_guide/indexing.html#returning-a-view-versus-a-copy\n",
      "  dt_future['lower_scaled'] = lower.predict(\n",
      "/var/folders/80/jvk9kxf57t13l590hz_z_jcr0000gn/T/ipykernel_8559/689576697.py:61: SettingWithCopyWarning: \n",
      "A value is trying to be set on a copy of a slice from a DataFrame.\n",
      "Try using .loc[row_indexer,col_indexer] = value instead\n",
      "\n",
      "See the caveats in the documentation: https://pandas.pydata.org/pandas-docs/stable/user_guide/indexing.html#returning-a-view-versus-a-copy\n",
      "  dt_future['upper_scaled'] = upper.predict(\n"
     ]
    }
   ],
   "source": [
    "# Prediction\n",
    "prediction = predict_future(df, prediction_start_date, prediction_end_date, target, horizont=288)"
   ]
  },
  {
   "cell_type": "code",
   "execution_count": 16,
   "metadata": {},
   "outputs": [],
   "source": [
    "# Calculate MAPE fpr all predictions\n",
    "dt_plot = data_all[['DATETIME', 'LOCATION', 'VALUE']].merge(prediction, how='left', on = ['LOCATION', 'DATETIME'])\n",
    "a = dt_plot[(~dt_plot.prediction.isna())].sort_values(by=['LOCATION','DATETIME'])"
   ]
  },
  {
   "cell_type": "code",
   "execution_count": 17,
   "metadata": {},
   "outputs": [],
   "source": [
    "# Calculate MAPE by location\n",
    "mape_by_location = a.groupby('LOCATION').apply(lambda x: mean_absolute_percentage_error(x['VALUE'], x['prediction'])).reset_index(name='MAPE')\n",
    "rmse_by_location = a.groupby('LOCATION').apply(lambda x: math.sqrt(mean_squared_error(x['VALUE'], x['prediction']))).reset_index(name='RMSE')\n",
    "stat_df = pd.concat([mape_by_location, rmse_by_location['RMSE']], axis=1)"
   ]
  },
  {
   "cell_type": "code",
   "execution_count": 18,
   "metadata": {},
   "outputs": [
    {
     "name": "stdout",
     "output_type": "stream",
     "text": [
      "MAPE 7251235403542688.0\n",
      "RMSE 105.313300788914\n"
     ]
    }
   ],
   "source": [
    "print(\"MAPE\" ,mean_absolute_percentage_error(a['VALUE'], a['prediction']))\n",
    "print(\"RMSE\" ,math.sqrt(mean_squared_error(a['VALUE'], a['prediction'])))"
   ]
  },
  {
   "cell_type": "code",
   "execution_count": null,
   "metadata": {},
   "outputs": [],
   "source": [
    "stat_df.sort_values(by='MAPE', ascending=True).head(10)"
   ]
  },
  {
   "cell_type": "code",
   "execution_count": 20,
   "metadata": {},
   "outputs": [
    {
     "data": {
      "application/vnd.plotly.v1+json": {
       "config": {
        "plotlyServerURL": "https://plot.ly"
       },
       "data": [
        {
         "hovertemplate": "variable=VALUE<br>Datetime=%{x}<br>Value=%{y}<extra></extra>",
         "legendgroup": "VALUE",
         "line": {
          "color": "#636efa",
          "dash": "solid"
         },
         "marker": {
          "symbol": "circle"
         },
         "mode": "lines",
         "name": "VALUE",
         "orientation": "v",
         "showlegend": true,
         "type": "scatter",
         "x": [
          "2010-07-01T00:00:00",
          "2010-07-01T00:05:00",
          "2010-07-01T00:10:00",
          "2010-07-01T00:15:00",
          "2010-07-01T00:20:00",
          "2010-07-01T00:25:00",
          "2010-07-01T00:30:00",
          "2010-07-01T00:35:00",
          "2010-07-01T00:40:00",
          "2010-07-01T00:45:00",
          "2010-07-01T00:50:00",
          "2010-07-01T00:55:00",
          "2010-07-01T01:00:00",
          "2010-07-01T01:05:00",
          "2010-07-01T01:10:00",
          "2010-07-01T01:15:00",
          "2010-07-01T01:20:00",
          "2010-07-01T01:25:00",
          "2010-07-01T01:30:00",
          "2010-07-01T01:35:00",
          "2010-07-01T01:40:00",
          "2010-07-01T01:45:00",
          "2010-07-01T01:50:00",
          "2010-07-01T01:55:00",
          "2010-07-01T02:00:00",
          "2010-07-01T02:05:00",
          "2010-07-01T02:10:00",
          "2010-07-01T02:15:00",
          "2010-07-01T02:20:00",
          "2010-07-01T02:25:00",
          "2010-07-01T02:30:00",
          "2010-07-01T02:35:00",
          "2010-07-01T02:40:00",
          "2010-07-01T02:45:00",
          "2010-07-01T02:50:00",
          "2010-07-01T02:55:00",
          "2010-07-01T03:00:00",
          "2010-07-01T03:05:00",
          "2010-07-01T03:10:00",
          "2010-07-01T03:15:00",
          "2010-07-01T03:20:00",
          "2010-07-01T03:25:00",
          "2010-07-01T03:30:00",
          "2010-07-01T03:35:00",
          "2010-07-01T03:40:00",
          "2010-07-01T03:45:00",
          "2010-07-01T03:50:00",
          "2010-07-01T03:55:00",
          "2010-07-01T04:00:00",
          "2010-07-01T04:05:00",
          "2010-07-01T04:10:00",
          "2010-07-01T04:15:00",
          "2010-07-01T04:20:00",
          "2010-07-01T04:25:00",
          "2010-07-01T04:30:00",
          "2010-07-01T04:35:00",
          "2010-07-01T04:40:00",
          "2010-07-01T04:45:00",
          "2010-07-01T04:50:00",
          "2010-07-01T04:55:00",
          "2010-07-01T05:00:00",
          "2010-07-01T05:05:00",
          "2010-07-01T05:10:00",
          "2010-07-01T05:15:00",
          "2010-07-01T05:20:00",
          "2010-07-01T05:25:00",
          "2010-07-01T05:30:00",
          "2010-07-01T05:35:00",
          "2010-07-01T05:40:00",
          "2010-07-01T05:45:00",
          "2010-07-01T05:50:00",
          "2010-07-01T05:55:00",
          "2010-07-01T06:00:00",
          "2010-07-01T06:05:00",
          "2010-07-01T06:10:00",
          "2010-07-01T06:15:00",
          "2010-07-01T06:20:00",
          "2010-07-01T06:25:00",
          "2010-07-01T06:30:00",
          "2010-07-01T06:35:00",
          "2010-07-01T06:40:00",
          "2010-07-01T06:45:00",
          "2010-07-01T06:50:00",
          "2010-07-01T06:55:00",
          "2010-07-01T07:00:00",
          "2010-07-01T07:05:00",
          "2010-07-01T07:10:00",
          "2010-07-01T07:15:00",
          "2010-07-01T07:20:00",
          "2010-07-01T07:25:00",
          "2010-07-01T07:30:00",
          "2010-07-01T07:35:00",
          "2010-07-01T07:40:00",
          "2010-07-01T07:45:00",
          "2010-07-01T07:50:00",
          "2010-07-01T07:55:00",
          "2010-07-01T08:00:00",
          "2010-07-01T08:05:00",
          "2010-07-01T08:10:00",
          "2010-07-01T08:15:00",
          "2010-07-01T08:20:00",
          "2010-07-01T08:25:00",
          "2010-07-01T08:30:00",
          "2010-07-01T08:35:00",
          "2010-07-01T08:40:00",
          "2010-07-01T08:45:00",
          "2010-07-01T08:50:00",
          "2010-07-01T08:55:00",
          "2010-07-01T09:00:00",
          "2010-07-01T09:05:00",
          "2010-07-01T09:10:00",
          "2010-07-01T09:15:00",
          "2010-07-01T09:20:00",
          "2010-07-01T09:25:00",
          "2010-07-01T09:30:00",
          "2010-07-01T09:35:00",
          "2010-07-01T09:40:00",
          "2010-07-01T09:45:00",
          "2010-07-01T09:50:00",
          "2010-07-01T09:55:00",
          "2010-07-01T10:00:00",
          "2010-07-01T10:05:00",
          "2010-07-01T10:10:00",
          "2010-07-01T10:15:00",
          "2010-07-01T10:20:00",
          "2010-07-01T10:25:00",
          "2010-07-01T10:30:00",
          "2010-07-01T10:35:00",
          "2010-07-01T10:40:00",
          "2010-07-01T10:45:00",
          "2010-07-01T10:50:00",
          "2010-07-01T10:55:00",
          "2010-07-01T11:00:00",
          "2010-07-01T11:05:00",
          "2010-07-01T11:10:00",
          "2010-07-01T11:15:00",
          "2010-07-01T11:20:00",
          "2010-07-01T11:25:00",
          "2010-07-01T11:30:00",
          "2010-07-01T11:35:00",
          "2010-07-01T11:40:00",
          "2010-07-01T11:45:00",
          "2010-07-01T11:50:00",
          "2010-07-01T11:55:00",
          "2010-07-01T12:00:00",
          "2010-07-01T12:05:00",
          "2010-07-01T12:10:00",
          "2010-07-01T12:15:00",
          "2010-07-01T12:20:00",
          "2010-07-01T12:25:00",
          "2010-07-01T12:30:00",
          "2010-07-01T12:35:00",
          "2010-07-01T12:40:00",
          "2010-07-01T12:45:00",
          "2010-07-01T12:50:00",
          "2010-07-01T12:55:00",
          "2010-07-01T13:00:00",
          "2010-07-01T13:05:00",
          "2010-07-01T13:10:00",
          "2010-07-01T13:15:00",
          "2010-07-01T13:20:00",
          "2010-07-01T13:25:00",
          "2010-07-01T13:30:00",
          "2010-07-01T13:35:00",
          "2010-07-01T13:40:00",
          "2010-07-01T13:45:00",
          "2010-07-01T13:50:00",
          "2010-07-01T13:55:00",
          "2010-07-01T14:00:00",
          "2010-07-01T14:05:00",
          "2010-07-01T14:10:00",
          "2010-07-01T14:15:00",
          "2010-07-01T14:20:00",
          "2010-07-01T14:25:00",
          "2010-07-01T14:30:00",
          "2010-07-01T14:35:00",
          "2010-07-01T14:40:00",
          "2010-07-01T14:45:00",
          "2010-07-01T14:50:00",
          "2010-07-01T14:55:00",
          "2010-07-01T15:00:00",
          "2010-07-01T15:05:00",
          "2010-07-01T15:10:00",
          "2010-07-01T15:15:00",
          "2010-07-01T15:20:00",
          "2010-07-01T15:25:00",
          "2010-07-01T15:30:00",
          "2010-07-01T15:35:00",
          "2010-07-01T15:40:00",
          "2010-07-01T15:45:00",
          "2010-07-01T15:50:00",
          "2010-07-01T15:55:00",
          "2010-07-01T16:00:00",
          "2010-07-01T16:05:00",
          "2010-07-01T16:10:00",
          "2010-07-01T16:15:00",
          "2010-07-01T16:20:00",
          "2010-07-01T16:25:00",
          "2010-07-01T16:30:00",
          "2010-07-01T16:35:00",
          "2010-07-01T16:40:00",
          "2010-07-01T16:45:00",
          "2010-07-01T16:50:00",
          "2010-07-01T16:55:00",
          "2010-07-01T17:00:00",
          "2010-07-01T17:05:00",
          "2010-07-01T17:10:00",
          "2010-07-01T17:15:00",
          "2010-07-01T17:20:00",
          "2010-07-01T17:25:00",
          "2010-07-01T17:30:00",
          "2010-07-01T17:35:00",
          "2010-07-01T17:40:00",
          "2010-07-01T17:45:00",
          "2010-07-01T17:50:00",
          "2010-07-01T17:55:00",
          "2010-07-01T18:00:00",
          "2010-07-01T18:05:00",
          "2010-07-01T18:10:00",
          "2010-07-01T18:15:00",
          "2010-07-01T18:20:00",
          "2010-07-01T18:25:00",
          "2010-07-01T18:30:00",
          "2010-07-01T18:35:00",
          "2010-07-01T18:40:00",
          "2010-07-01T18:45:00",
          "2010-07-01T18:50:00",
          "2010-07-01T18:55:00",
          "2010-07-01T19:00:00",
          "2010-07-01T19:05:00",
          "2010-07-01T19:10:00",
          "2010-07-01T19:15:00",
          "2010-07-01T19:20:00",
          "2010-07-01T19:25:00",
          "2010-07-01T19:30:00",
          "2010-07-01T19:35:00",
          "2010-07-01T19:40:00",
          "2010-07-01T19:45:00",
          "2010-07-01T19:50:00",
          "2010-07-01T19:55:00",
          "2010-07-01T20:00:00",
          "2010-07-01T20:05:00",
          "2010-07-01T20:10:00",
          "2010-07-01T20:15:00",
          "2010-07-01T20:20:00",
          "2010-07-01T20:25:00",
          "2010-07-01T20:30:00",
          "2010-07-01T20:35:00",
          "2010-07-01T20:40:00",
          "2010-07-01T20:45:00",
          "2010-07-01T20:50:00",
          "2010-07-01T20:55:00",
          "2010-07-01T21:00:00",
          "2010-07-01T21:05:00",
          "2010-07-01T21:10:00",
          "2010-07-01T21:15:00",
          "2010-07-01T21:20:00",
          "2010-07-01T21:25:00",
          "2010-07-01T21:30:00",
          "2010-07-01T21:35:00",
          "2010-07-01T21:40:00",
          "2010-07-01T21:45:00",
          "2010-07-01T21:50:00",
          "2010-07-01T21:55:00",
          "2010-07-01T22:00:00",
          "2010-07-01T22:05:00",
          "2010-07-01T22:10:00",
          "2010-07-01T22:15:00",
          "2010-07-01T22:20:00",
          "2010-07-01T22:25:00",
          "2010-07-01T22:30:00",
          "2010-07-01T22:35:00",
          "2010-07-01T22:40:00",
          "2010-07-01T22:45:00",
          "2010-07-01T22:50:00",
          "2010-07-01T22:55:00",
          "2010-07-01T23:00:00",
          "2010-07-01T23:05:00",
          "2010-07-01T23:10:00",
          "2010-07-01T23:15:00",
          "2010-07-01T23:20:00",
          "2010-07-01T23:25:00",
          "2010-07-01T23:30:00",
          "2010-07-01T23:35:00",
          "2010-07-01T23:40:00",
          "2010-07-01T23:45:00",
          "2010-07-01T23:50:00",
          "2010-07-01T23:55:00"
         ],
         "xaxis": "x",
         "y": [
          611.96,
          682.5,
          734.79,
          763.94,
          773.8,
          759.84,
          782.64,
          750.56,
          692.72,
          741.84,
          787.1,
          780.66,
          826.2,
          854.23,
          819.26,
          808.2,
          788.2,
          776.28,
          753.95,
          774.11,
          766.39,
          773.72,
          782.86,
          763.74,
          795.1,
          814.42,
          842.96,
          855.62,
          874.79,
          891.14,
          875.17,
          857.55,
          856.97,
          941.5,
          915.78,
          911.08,
          933.5,
          959.53,
          939.4,
          899.52,
          941.31,
          938.68,
          967.27,
          942.87,
          960.84,
          955.29,
          963.39,
          939.92,
          953.8,
          963.94,
          972.93,
          925.65,
          941.98,
          959.16,
          952.16,
          945.16,
          925.98,
          945.91,
          958.7,
          955.49,
          944.97,
          971.74,
          980.73,
          1009.81,
          961.96,
          956.61,
          964.74,
          956.84,
          965.22,
          935.65,
          943.44,
          951.69,
          944.09,
          987.36,
          1046.19,
          1017.97,
          1048.85,
          1056.85,
          987.16,
          1015.21,
          981.49,
          1004.54,
          975.79,
          949.2,
          945.29,
          969.02,
          942.01,
          960.79,
          960.32,
          988.39,
          1018.64,
          1022.04,
          979.78,
          1005.88,
          1009.3,
          1008.73,
          948.45,
          881.63,
          926.77,
          895.33,
          947.12,
          967.84,
          980.27,
          973.11,
          965.27,
          968.89,
          942.26,
          955,
          870.05,
          785.4,
          782.98,
          799.63,
          800.35,
          801.07,
          801.98,
          799.23,
          796.48,
          793.74,
          796.47,
          755.41,
          718.29,
          646.88,
          593.85,
          615.66,
          594.28,
          603.64,
          599.97,
          608.19,
          593.16,
          602.76,
          595.68,
          588.18,
          538.02,
          532.56,
          571.68,
          553.52,
          506.08,
          533.54,
          553.67,
          547.86,
          527.48,
          495.55,
          477.08,
          494.46,
          457.59,
          409.36,
          344.21,
          363.26,
          350.86,
          308.5,
          346.4,
          347.56,
          347.4,
          364.51,
          358.53,
          342.85,
          347.07,
          335.48,
          335.56,
          363.37,
          328.47,
          327.12,
          324.88,
          354.41,
          364.56,
          366.24,
          326.26,
          288.3,
          281.44,
          282.21,
          243.02,
          269.69,
          264.58,
          263.21,
          282.62,
          253.78,
          227.81,
          230.29,
          222.57,
          218.82,
          255.95,
          272.83,
          298.49,
          321.7,
          299.79,
          302.32,
          273.78,
          303.72,
          307.96,
          321.26,
          342.1,
          328.02,
          326.4,
          353.62,
          330.27,
          320.6,
          331.46,
          348.48,
          348.58,
          362.18,
          339.06,
          327.49,
          314.72,
          338.8,
          425.9,
          423.62,
          481.09,
          421.09,
          427.83,
          462.29,
          453.23,
          461.65,
          466.17,
          453.52,
          443.5,
          441.01,
          436.2,
          504.9,
          465.29,
          481.13,
          490.68,
          487.97,
          477.6,
          485.83,
          462.01,
          460.1,
          459.08,
          434.11,
          505.69,
          582.91,
          604.89,
          616.16,
          639.56,
          623.08,
          591.04,
          595.92,
          591.75,
          604.85,
          584.08,
          573.09,
          621.8,
          574.43,
          596.32,
          550.6,
          591.42,
          618.55,
          593.83,
          573.79,
          645.72,
          603.87,
          661.71,
          672.53,
          668.64,
          730.11,
          708.32,
          687.49,
          733.78,
          727.65,
          737.23,
          734.43,
          720.73,
          731.35,
          716.14,
          742.35,
          664.09,
          645.32,
          650.11,
          620.42,
          629.13,
          552.75,
          533.7,
          478.13998,
          464.72,
          506.27,
          529.11,
          521.64,
          582.03,
          585.27,
          551.89,
          546.25,
          562.14,
          517.08,
          527.19,
          505.06,
          527.08,
          529.04,
          510.31,
          461.9
         ],
         "yaxis": "y"
        },
        {
         "hovertemplate": "variable=prediction<br>Datetime=%{x}<br>Value=%{y}<extra></extra>",
         "legendgroup": "prediction",
         "line": {
          "color": "#EF553B",
          "dash": "solid"
         },
         "marker": {
          "symbol": "circle"
         },
         "mode": "lines",
         "name": "prediction",
         "orientation": "v",
         "showlegend": true,
         "type": "scatter",
         "x": [
          "2010-07-01T00:00:00",
          "2010-07-01T00:05:00",
          "2010-07-01T00:10:00",
          "2010-07-01T00:15:00",
          "2010-07-01T00:20:00",
          "2010-07-01T00:25:00",
          "2010-07-01T00:30:00",
          "2010-07-01T00:35:00",
          "2010-07-01T00:40:00",
          "2010-07-01T00:45:00",
          "2010-07-01T00:50:00",
          "2010-07-01T00:55:00",
          "2010-07-01T01:00:00",
          "2010-07-01T01:05:00",
          "2010-07-01T01:10:00",
          "2010-07-01T01:15:00",
          "2010-07-01T01:20:00",
          "2010-07-01T01:25:00",
          "2010-07-01T01:30:00",
          "2010-07-01T01:35:00",
          "2010-07-01T01:40:00",
          "2010-07-01T01:45:00",
          "2010-07-01T01:50:00",
          "2010-07-01T01:55:00",
          "2010-07-01T02:00:00",
          "2010-07-01T02:05:00",
          "2010-07-01T02:10:00",
          "2010-07-01T02:15:00",
          "2010-07-01T02:20:00",
          "2010-07-01T02:25:00",
          "2010-07-01T02:30:00",
          "2010-07-01T02:35:00",
          "2010-07-01T02:40:00",
          "2010-07-01T02:45:00",
          "2010-07-01T02:50:00",
          "2010-07-01T02:55:00",
          "2010-07-01T03:00:00",
          "2010-07-01T03:05:00",
          "2010-07-01T03:10:00",
          "2010-07-01T03:15:00",
          "2010-07-01T03:20:00",
          "2010-07-01T03:25:00",
          "2010-07-01T03:30:00",
          "2010-07-01T03:35:00",
          "2010-07-01T03:40:00",
          "2010-07-01T03:45:00",
          "2010-07-01T03:50:00",
          "2010-07-01T03:55:00",
          "2010-07-01T04:00:00",
          "2010-07-01T04:05:00",
          "2010-07-01T04:10:00",
          "2010-07-01T04:15:00",
          "2010-07-01T04:20:00",
          "2010-07-01T04:25:00",
          "2010-07-01T04:30:00",
          "2010-07-01T04:35:00",
          "2010-07-01T04:40:00",
          "2010-07-01T04:45:00",
          "2010-07-01T04:50:00",
          "2010-07-01T04:55:00",
          "2010-07-01T05:00:00",
          "2010-07-01T05:05:00",
          "2010-07-01T05:10:00",
          "2010-07-01T05:15:00",
          "2010-07-01T05:20:00",
          "2010-07-01T05:25:00",
          "2010-07-01T05:30:00",
          "2010-07-01T05:35:00",
          "2010-07-01T05:40:00",
          "2010-07-01T05:45:00",
          "2010-07-01T05:50:00",
          "2010-07-01T05:55:00",
          "2010-07-01T06:00:00",
          "2010-07-01T06:05:00",
          "2010-07-01T06:10:00",
          "2010-07-01T06:15:00",
          "2010-07-01T06:20:00",
          "2010-07-01T06:25:00",
          "2010-07-01T06:30:00",
          "2010-07-01T06:35:00",
          "2010-07-01T06:40:00",
          "2010-07-01T06:45:00",
          "2010-07-01T06:50:00",
          "2010-07-01T06:55:00",
          "2010-07-01T07:00:00",
          "2010-07-01T07:05:00",
          "2010-07-01T07:10:00",
          "2010-07-01T07:15:00",
          "2010-07-01T07:20:00",
          "2010-07-01T07:25:00",
          "2010-07-01T07:30:00",
          "2010-07-01T07:35:00",
          "2010-07-01T07:40:00",
          "2010-07-01T07:45:00",
          "2010-07-01T07:50:00",
          "2010-07-01T07:55:00",
          "2010-07-01T08:00:00",
          "2010-07-01T08:05:00",
          "2010-07-01T08:10:00",
          "2010-07-01T08:15:00",
          "2010-07-01T08:20:00",
          "2010-07-01T08:25:00",
          "2010-07-01T08:30:00",
          "2010-07-01T08:35:00",
          "2010-07-01T08:40:00",
          "2010-07-01T08:45:00",
          "2010-07-01T08:50:00",
          "2010-07-01T08:55:00",
          "2010-07-01T09:00:00",
          "2010-07-01T09:05:00",
          "2010-07-01T09:10:00",
          "2010-07-01T09:15:00",
          "2010-07-01T09:20:00",
          "2010-07-01T09:25:00",
          "2010-07-01T09:30:00",
          "2010-07-01T09:35:00",
          "2010-07-01T09:40:00",
          "2010-07-01T09:45:00",
          "2010-07-01T09:50:00",
          "2010-07-01T09:55:00",
          "2010-07-01T10:00:00",
          "2010-07-01T10:05:00",
          "2010-07-01T10:10:00",
          "2010-07-01T10:15:00",
          "2010-07-01T10:20:00",
          "2010-07-01T10:25:00",
          "2010-07-01T10:30:00",
          "2010-07-01T10:35:00",
          "2010-07-01T10:40:00",
          "2010-07-01T10:45:00",
          "2010-07-01T10:50:00",
          "2010-07-01T10:55:00",
          "2010-07-01T11:00:00",
          "2010-07-01T11:05:00",
          "2010-07-01T11:10:00",
          "2010-07-01T11:15:00",
          "2010-07-01T11:20:00",
          "2010-07-01T11:25:00",
          "2010-07-01T11:30:00",
          "2010-07-01T11:35:00",
          "2010-07-01T11:40:00",
          "2010-07-01T11:45:00",
          "2010-07-01T11:50:00",
          "2010-07-01T11:55:00",
          "2010-07-01T12:00:00",
          "2010-07-01T12:05:00",
          "2010-07-01T12:10:00",
          "2010-07-01T12:15:00",
          "2010-07-01T12:20:00",
          "2010-07-01T12:25:00",
          "2010-07-01T12:30:00",
          "2010-07-01T12:35:00",
          "2010-07-01T12:40:00",
          "2010-07-01T12:45:00",
          "2010-07-01T12:50:00",
          "2010-07-01T12:55:00",
          "2010-07-01T13:00:00",
          "2010-07-01T13:05:00",
          "2010-07-01T13:10:00",
          "2010-07-01T13:15:00",
          "2010-07-01T13:20:00",
          "2010-07-01T13:25:00",
          "2010-07-01T13:30:00",
          "2010-07-01T13:35:00",
          "2010-07-01T13:40:00",
          "2010-07-01T13:45:00",
          "2010-07-01T13:50:00",
          "2010-07-01T13:55:00",
          "2010-07-01T14:00:00",
          "2010-07-01T14:05:00",
          "2010-07-01T14:10:00",
          "2010-07-01T14:15:00",
          "2010-07-01T14:20:00",
          "2010-07-01T14:25:00",
          "2010-07-01T14:30:00",
          "2010-07-01T14:35:00",
          "2010-07-01T14:40:00",
          "2010-07-01T14:45:00",
          "2010-07-01T14:50:00",
          "2010-07-01T14:55:00",
          "2010-07-01T15:00:00",
          "2010-07-01T15:05:00",
          "2010-07-01T15:10:00",
          "2010-07-01T15:15:00",
          "2010-07-01T15:20:00",
          "2010-07-01T15:25:00",
          "2010-07-01T15:30:00",
          "2010-07-01T15:35:00",
          "2010-07-01T15:40:00",
          "2010-07-01T15:45:00",
          "2010-07-01T15:50:00",
          "2010-07-01T15:55:00",
          "2010-07-01T16:00:00",
          "2010-07-01T16:05:00",
          "2010-07-01T16:10:00",
          "2010-07-01T16:15:00",
          "2010-07-01T16:20:00",
          "2010-07-01T16:25:00",
          "2010-07-01T16:30:00",
          "2010-07-01T16:35:00",
          "2010-07-01T16:40:00",
          "2010-07-01T16:45:00",
          "2010-07-01T16:50:00",
          "2010-07-01T16:55:00",
          "2010-07-01T17:00:00",
          "2010-07-01T17:05:00",
          "2010-07-01T17:10:00",
          "2010-07-01T17:15:00",
          "2010-07-01T17:20:00",
          "2010-07-01T17:25:00",
          "2010-07-01T17:30:00",
          "2010-07-01T17:35:00",
          "2010-07-01T17:40:00",
          "2010-07-01T17:45:00",
          "2010-07-01T17:50:00",
          "2010-07-01T17:55:00",
          "2010-07-01T18:00:00",
          "2010-07-01T18:05:00",
          "2010-07-01T18:10:00",
          "2010-07-01T18:15:00",
          "2010-07-01T18:20:00",
          "2010-07-01T18:25:00",
          "2010-07-01T18:30:00",
          "2010-07-01T18:35:00",
          "2010-07-01T18:40:00",
          "2010-07-01T18:45:00",
          "2010-07-01T18:50:00",
          "2010-07-01T18:55:00",
          "2010-07-01T19:00:00",
          "2010-07-01T19:05:00",
          "2010-07-01T19:10:00",
          "2010-07-01T19:15:00",
          "2010-07-01T19:20:00",
          "2010-07-01T19:25:00",
          "2010-07-01T19:30:00",
          "2010-07-01T19:35:00",
          "2010-07-01T19:40:00",
          "2010-07-01T19:45:00",
          "2010-07-01T19:50:00",
          "2010-07-01T19:55:00",
          "2010-07-01T20:00:00",
          "2010-07-01T20:05:00",
          "2010-07-01T20:10:00",
          "2010-07-01T20:15:00",
          "2010-07-01T20:20:00",
          "2010-07-01T20:25:00",
          "2010-07-01T20:30:00",
          "2010-07-01T20:35:00",
          "2010-07-01T20:40:00",
          "2010-07-01T20:45:00",
          "2010-07-01T20:50:00",
          "2010-07-01T20:55:00",
          "2010-07-01T21:00:00",
          "2010-07-01T21:05:00",
          "2010-07-01T21:10:00",
          "2010-07-01T21:15:00",
          "2010-07-01T21:20:00",
          "2010-07-01T21:25:00",
          "2010-07-01T21:30:00",
          "2010-07-01T21:35:00",
          "2010-07-01T21:40:00",
          "2010-07-01T21:45:00",
          "2010-07-01T21:50:00",
          "2010-07-01T21:55:00",
          "2010-07-01T22:00:00",
          "2010-07-01T22:05:00",
          "2010-07-01T22:10:00",
          "2010-07-01T22:15:00",
          "2010-07-01T22:20:00",
          "2010-07-01T22:25:00",
          "2010-07-01T22:30:00",
          "2010-07-01T22:35:00",
          "2010-07-01T22:40:00",
          "2010-07-01T22:45:00",
          "2010-07-01T22:50:00",
          "2010-07-01T22:55:00",
          "2010-07-01T23:00:00",
          "2010-07-01T23:05:00",
          "2010-07-01T23:10:00",
          "2010-07-01T23:15:00",
          "2010-07-01T23:20:00",
          "2010-07-01T23:25:00",
          "2010-07-01T23:30:00",
          "2010-07-01T23:35:00",
          "2010-07-01T23:40:00",
          "2010-07-01T23:45:00",
          "2010-07-01T23:50:00",
          "2010-07-01T23:55:00"
         ],
         "xaxis": "x",
         "y": [
          713.3344456654387,
          786.6052106040471,
          780.1150331058071,
          778.2150918893549,
          780.0974118375048,
          774.357464189211,
          765.3593507303399,
          780.0974118375048,
          774.239478477163,
          774.2570997454653,
          765.2237437499894,
          754.7680952288363,
          795.3714699941362,
          801.4635378772332,
          766.3919961584909,
          752.454704434377,
          768.073481884253,
          765.2237437499894,
          768.073481884253,
          747.7711218628099,
          712.3958287750417,
          769.1349674485652,
          776.2254672336649,
          784.7811567176428,
          795.6033240629183,
          760.1784236165915,
          774.1562511931759,
          782.8858318177653,
          791.0167021008674,
          794.3567567294069,
          795.7269873918525,
          794.8906450486388,
          790.1968307179543,
          875.3293750669008,
          858.7844417389198,
          830.1869718932139,
          858.8876973708568,
          878.9256408067805,
          889.7050269526403,
          842.2578747441819,
          889.3702377662587,
          889.3702377662587,
          894.1553287765672,
          903.5655415502109,
          903.5655415502109,
          889.3702377662587,
          894.1553287765672,
          889.3702377662587,
          892.3121427905469,
          910.6839315902145,
          910.6839315902145,
          872.2317728638589,
          905.8988405799059,
          905.8988405799059,
          905.8988405799059,
          905.8988405799059,
          872.2317728638589,
          905.8988405799059,
          905.8988405799059,
          905.8988405799059,
          904.2369897552397,
          895.7678490403243,
          909.0220807655483,
          916.5702719887977,
          909.0220807655483,
          907.4993523535143,
          909.0220807655483,
          906.5582802947864,
          909.0220807655483,
          881.9878373054773,
          907.4993523535143,
          907.4993523535143,
          905.2248540215329,
          913.7879563191475,
          923.6729195585883,
          928.0961305780888,
          923.2306215271943,
          929.1440161218691,
          907.1808371546259,
          928.0961305780888,
          917.5174427688006,
          913.7879563191475,
          907.1808371546259,
          904.7170366838641,
          904.7170366838641,
          906.6559278221201,
          904.7170366838641,
          904.7170366838641,
          904.7170366838641,
          913.7879563191475,
          917.7595249639136,
          923.5638963780762,
          907.1808371546259,
          924.1245619333222,
          919.7013509138222,
          913.7879563191475,
          892.5792282909023,
          823.245948269841,
          837.5989529360647,
          807.0838075359053,
          880.858770086314,
          883.3225705570759,
          859.2944060130436,
          859.2944060130436,
          883.3225705570759,
          883.3225705570759,
          840.3201870174223,
          840.3201870174223,
          722.8036927959428,
          663.6918721414744,
          609.448233522826,
          623.5563054649754,
          632.8084107767962,
          642.9635399071049,
          639.6782661721857,
          653.1344315267639,
          643.2590191957466,
          628.0181204211315,
          632.8084107767962,
          627.930290375227,
          572.2428281857667,
          558.799639304361,
          545.0490076265542,
          563.3696174767464,
          560.5227881529495,
          546.5175815106882,
          530.2484357334541,
          546.1509648579413,
          532.7625490552961,
          526.4964600841996,
          514.8726462983483,
          559.5032815056425,
          539.4336415721951,
          554.6662779102564,
          568.9829645972951,
          569.482582341452,
          565.6938752466333,
          552.6748523216507,
          547.0441543248811,
          547.8286983594469,
          547.6153872438713,
          533.9514323416671,
          530.3858514293515,
          476.4240619841767,
          499.44480756979556,
          471.22545636538723,
          436.2165162589706,
          456.5529318529315,
          455.51887456839404,
          450.53192637649363,
          451.9337210107379,
          441.2385832560556,
          441.94074666815624,
          444.2536732896203,
          458.2742467557289,
          472.69280284366175,
          457.42210136022163,
          504.78618211553777,
          461.88847850945064,
          458.8150129233284,
          461.88847850945064,
          464.89256265964457,
          494.23188379688116,
          492.5602128450032,
          462.61002969226314,
          463.24627912973153,
          453.6996650816991,
          475.96926578801055,
          471.9585367088506,
          442.0769333578515,
          442.4729902350571,
          453.9038927146222,
          463.28720156084864,
          444.20500920492833,
          437.0283196234257,
          442.1323916074545,
          450.9716728652174,
          415.57692102512794,
          459.30274182808404,
          452.4075220882912,
          482.1439417133382,
          517.2026594634285,
          534.1374172648506,
          543.1201712752674,
          546.7198803701256,
          543.8837419881357,
          553.2131578891546,
          532.5026753794049,
          556.5511855230721,
          548.001814011148,
          547.2217696220534,
          547.2217696220534,
          541.392542934038,
          516.0360349566346,
          497.4968322931006,
          516.084596737386,
          508.98516489484484,
          462.7688561985881,
          471.41814378089276,
          491.0554200445137,
          507.3331023626199,
          522.580998747586,
          499.8595930287376,
          483.114396559575,
          515.2511409619382,
          565.401485474937,
          550.843443034448,
          555.8889747404746,
          524.999956864729,
          547.3217642913604,
          547.3217642913604,
          548.7448763014853,
          546.5843085365136,
          530.7660645341911,
          541.0639179777603,
          540.3670838734563,
          547.0211043427239,
          567.7825993373699,
          570.150000889166,
          563.8732537708772,
          547.0211043427239,
          549.8642156671722,
          525.0681666440661,
          525.0681666440661,
          516.9249217988537,
          517.7020656724351,
          547.0211043427239,
          535.4257980098378,
          544.2851167640549,
          588.1849533081298,
          594.3379459761995,
          601.5005016230966,
          602.018402905436,
          601.3819252419148,
          594.471525650321,
          611.8802192605921,
          601.3819252419148,
          598.7267478819763,
          615.4481894687787,
          587.5689442124105,
          625.3124884252367,
          667.471396635962,
          681.5110064651701,
          685.3365270982438,
          700.9454150431027,
          708.051679099056,
          687.2646378123944,
          682.0033291786941,
          712.2861299761533,
          726.5953500308777,
          740.3388699653221,
          774.6876346584432,
          787.5082364178076,
          786.146351406725,
          775.1839164810107,
          786.0502955969838,
          791.5221837459436,
          785.0038228180752,
          788.5467164843235,
          795.3902352827283,
          793.4393108977094,
          789.8964172314611,
          792.8936664037519,
          792.8936664037519,
          726.5098834538695,
          693.4410878541188,
          644.4115595350622,
          625.8156639471515,
          634.867723525745,
          571.6557631184263,
          562.4687531835565,
          514.2704666864963,
          503.013198544686,
          534.522684799847,
          571.1278772365513,
          543.5948474068592,
          593.6712256668301,
          578.1597010214903,
          573.4461732080476,
          577.7411910576857,
          573.7773046621483,
          521.058121219104,
          570.9353770748202,
          526.7164507940118,
          537.9528309454014,
          545.2389186343038,
          561.3576066806811,
          547.4796332161178
         ],
         "yaxis": "y"
        }
       ],
       "layout": {
        "legend": {
         "title": {
          "text": "variable"
         },
         "tracegroupgap": 0
        },
        "template": {
         "data": {
          "bar": [
           {
            "error_x": {
             "color": "#2a3f5f"
            },
            "error_y": {
             "color": "#2a3f5f"
            },
            "marker": {
             "line": {
              "color": "#E5ECF6",
              "width": 0.5
             },
             "pattern": {
              "fillmode": "overlay",
              "size": 10,
              "solidity": 0.2
             }
            },
            "type": "bar"
           }
          ],
          "barpolar": [
           {
            "marker": {
             "line": {
              "color": "#E5ECF6",
              "width": 0.5
             },
             "pattern": {
              "fillmode": "overlay",
              "size": 10,
              "solidity": 0.2
             }
            },
            "type": "barpolar"
           }
          ],
          "carpet": [
           {
            "aaxis": {
             "endlinecolor": "#2a3f5f",
             "gridcolor": "white",
             "linecolor": "white",
             "minorgridcolor": "white",
             "startlinecolor": "#2a3f5f"
            },
            "baxis": {
             "endlinecolor": "#2a3f5f",
             "gridcolor": "white",
             "linecolor": "white",
             "minorgridcolor": "white",
             "startlinecolor": "#2a3f5f"
            },
            "type": "carpet"
           }
          ],
          "choropleth": [
           {
            "colorbar": {
             "outlinewidth": 0,
             "ticks": ""
            },
            "type": "choropleth"
           }
          ],
          "contour": [
           {
            "colorbar": {
             "outlinewidth": 0,
             "ticks": ""
            },
            "colorscale": [
             [
              0,
              "#0d0887"
             ],
             [
              0.1111111111111111,
              "#46039f"
             ],
             [
              0.2222222222222222,
              "#7201a8"
             ],
             [
              0.3333333333333333,
              "#9c179e"
             ],
             [
              0.4444444444444444,
              "#bd3786"
             ],
             [
              0.5555555555555556,
              "#d8576b"
             ],
             [
              0.6666666666666666,
              "#ed7953"
             ],
             [
              0.7777777777777778,
              "#fb9f3a"
             ],
             [
              0.8888888888888888,
              "#fdca26"
             ],
             [
              1,
              "#f0f921"
             ]
            ],
            "type": "contour"
           }
          ],
          "contourcarpet": [
           {
            "colorbar": {
             "outlinewidth": 0,
             "ticks": ""
            },
            "type": "contourcarpet"
           }
          ],
          "heatmap": [
           {
            "colorbar": {
             "outlinewidth": 0,
             "ticks": ""
            },
            "colorscale": [
             [
              0,
              "#0d0887"
             ],
             [
              0.1111111111111111,
              "#46039f"
             ],
             [
              0.2222222222222222,
              "#7201a8"
             ],
             [
              0.3333333333333333,
              "#9c179e"
             ],
             [
              0.4444444444444444,
              "#bd3786"
             ],
             [
              0.5555555555555556,
              "#d8576b"
             ],
             [
              0.6666666666666666,
              "#ed7953"
             ],
             [
              0.7777777777777778,
              "#fb9f3a"
             ],
             [
              0.8888888888888888,
              "#fdca26"
             ],
             [
              1,
              "#f0f921"
             ]
            ],
            "type": "heatmap"
           }
          ],
          "heatmapgl": [
           {
            "colorbar": {
             "outlinewidth": 0,
             "ticks": ""
            },
            "colorscale": [
             [
              0,
              "#0d0887"
             ],
             [
              0.1111111111111111,
              "#46039f"
             ],
             [
              0.2222222222222222,
              "#7201a8"
             ],
             [
              0.3333333333333333,
              "#9c179e"
             ],
             [
              0.4444444444444444,
              "#bd3786"
             ],
             [
              0.5555555555555556,
              "#d8576b"
             ],
             [
              0.6666666666666666,
              "#ed7953"
             ],
             [
              0.7777777777777778,
              "#fb9f3a"
             ],
             [
              0.8888888888888888,
              "#fdca26"
             ],
             [
              1,
              "#f0f921"
             ]
            ],
            "type": "heatmapgl"
           }
          ],
          "histogram": [
           {
            "marker": {
             "pattern": {
              "fillmode": "overlay",
              "size": 10,
              "solidity": 0.2
             }
            },
            "type": "histogram"
           }
          ],
          "histogram2d": [
           {
            "colorbar": {
             "outlinewidth": 0,
             "ticks": ""
            },
            "colorscale": [
             [
              0,
              "#0d0887"
             ],
             [
              0.1111111111111111,
              "#46039f"
             ],
             [
              0.2222222222222222,
              "#7201a8"
             ],
             [
              0.3333333333333333,
              "#9c179e"
             ],
             [
              0.4444444444444444,
              "#bd3786"
             ],
             [
              0.5555555555555556,
              "#d8576b"
             ],
             [
              0.6666666666666666,
              "#ed7953"
             ],
             [
              0.7777777777777778,
              "#fb9f3a"
             ],
             [
              0.8888888888888888,
              "#fdca26"
             ],
             [
              1,
              "#f0f921"
             ]
            ],
            "type": "histogram2d"
           }
          ],
          "histogram2dcontour": [
           {
            "colorbar": {
             "outlinewidth": 0,
             "ticks": ""
            },
            "colorscale": [
             [
              0,
              "#0d0887"
             ],
             [
              0.1111111111111111,
              "#46039f"
             ],
             [
              0.2222222222222222,
              "#7201a8"
             ],
             [
              0.3333333333333333,
              "#9c179e"
             ],
             [
              0.4444444444444444,
              "#bd3786"
             ],
             [
              0.5555555555555556,
              "#d8576b"
             ],
             [
              0.6666666666666666,
              "#ed7953"
             ],
             [
              0.7777777777777778,
              "#fb9f3a"
             ],
             [
              0.8888888888888888,
              "#fdca26"
             ],
             [
              1,
              "#f0f921"
             ]
            ],
            "type": "histogram2dcontour"
           }
          ],
          "mesh3d": [
           {
            "colorbar": {
             "outlinewidth": 0,
             "ticks": ""
            },
            "type": "mesh3d"
           }
          ],
          "parcoords": [
           {
            "line": {
             "colorbar": {
              "outlinewidth": 0,
              "ticks": ""
             }
            },
            "type": "parcoords"
           }
          ],
          "pie": [
           {
            "automargin": true,
            "type": "pie"
           }
          ],
          "scatter": [
           {
            "fillpattern": {
             "fillmode": "overlay",
             "size": 10,
             "solidity": 0.2
            },
            "type": "scatter"
           }
          ],
          "scatter3d": [
           {
            "line": {
             "colorbar": {
              "outlinewidth": 0,
              "ticks": ""
             }
            },
            "marker": {
             "colorbar": {
              "outlinewidth": 0,
              "ticks": ""
             }
            },
            "type": "scatter3d"
           }
          ],
          "scattercarpet": [
           {
            "marker": {
             "colorbar": {
              "outlinewidth": 0,
              "ticks": ""
             }
            },
            "type": "scattercarpet"
           }
          ],
          "scattergeo": [
           {
            "marker": {
             "colorbar": {
              "outlinewidth": 0,
              "ticks": ""
             }
            },
            "type": "scattergeo"
           }
          ],
          "scattergl": [
           {
            "marker": {
             "colorbar": {
              "outlinewidth": 0,
              "ticks": ""
             }
            },
            "type": "scattergl"
           }
          ],
          "scattermapbox": [
           {
            "marker": {
             "colorbar": {
              "outlinewidth": 0,
              "ticks": ""
             }
            },
            "type": "scattermapbox"
           }
          ],
          "scatterpolar": [
           {
            "marker": {
             "colorbar": {
              "outlinewidth": 0,
              "ticks": ""
             }
            },
            "type": "scatterpolar"
           }
          ],
          "scatterpolargl": [
           {
            "marker": {
             "colorbar": {
              "outlinewidth": 0,
              "ticks": ""
             }
            },
            "type": "scatterpolargl"
           }
          ],
          "scatterternary": [
           {
            "marker": {
             "colorbar": {
              "outlinewidth": 0,
              "ticks": ""
             }
            },
            "type": "scatterternary"
           }
          ],
          "surface": [
           {
            "colorbar": {
             "outlinewidth": 0,
             "ticks": ""
            },
            "colorscale": [
             [
              0,
              "#0d0887"
             ],
             [
              0.1111111111111111,
              "#46039f"
             ],
             [
              0.2222222222222222,
              "#7201a8"
             ],
             [
              0.3333333333333333,
              "#9c179e"
             ],
             [
              0.4444444444444444,
              "#bd3786"
             ],
             [
              0.5555555555555556,
              "#d8576b"
             ],
             [
              0.6666666666666666,
              "#ed7953"
             ],
             [
              0.7777777777777778,
              "#fb9f3a"
             ],
             [
              0.8888888888888888,
              "#fdca26"
             ],
             [
              1,
              "#f0f921"
             ]
            ],
            "type": "surface"
           }
          ],
          "table": [
           {
            "cells": {
             "fill": {
              "color": "#EBF0F8"
             },
             "line": {
              "color": "white"
             }
            },
            "header": {
             "fill": {
              "color": "#C8D4E3"
             },
             "line": {
              "color": "white"
             }
            },
            "type": "table"
           }
          ]
         },
         "layout": {
          "annotationdefaults": {
           "arrowcolor": "#2a3f5f",
           "arrowhead": 0,
           "arrowwidth": 1
          },
          "autotypenumbers": "strict",
          "coloraxis": {
           "colorbar": {
            "outlinewidth": 0,
            "ticks": ""
           }
          },
          "colorscale": {
           "diverging": [
            [
             0,
             "#8e0152"
            ],
            [
             0.1,
             "#c51b7d"
            ],
            [
             0.2,
             "#de77ae"
            ],
            [
             0.3,
             "#f1b6da"
            ],
            [
             0.4,
             "#fde0ef"
            ],
            [
             0.5,
             "#f7f7f7"
            ],
            [
             0.6,
             "#e6f5d0"
            ],
            [
             0.7,
             "#b8e186"
            ],
            [
             0.8,
             "#7fbc41"
            ],
            [
             0.9,
             "#4d9221"
            ],
            [
             1,
             "#276419"
            ]
           ],
           "sequential": [
            [
             0,
             "#0d0887"
            ],
            [
             0.1111111111111111,
             "#46039f"
            ],
            [
             0.2222222222222222,
             "#7201a8"
            ],
            [
             0.3333333333333333,
             "#9c179e"
            ],
            [
             0.4444444444444444,
             "#bd3786"
            ],
            [
             0.5555555555555556,
             "#d8576b"
            ],
            [
             0.6666666666666666,
             "#ed7953"
            ],
            [
             0.7777777777777778,
             "#fb9f3a"
            ],
            [
             0.8888888888888888,
             "#fdca26"
            ],
            [
             1,
             "#f0f921"
            ]
           ],
           "sequentialminus": [
            [
             0,
             "#0d0887"
            ],
            [
             0.1111111111111111,
             "#46039f"
            ],
            [
             0.2222222222222222,
             "#7201a8"
            ],
            [
             0.3333333333333333,
             "#9c179e"
            ],
            [
             0.4444444444444444,
             "#bd3786"
            ],
            [
             0.5555555555555556,
             "#d8576b"
            ],
            [
             0.6666666666666666,
             "#ed7953"
            ],
            [
             0.7777777777777778,
             "#fb9f3a"
            ],
            [
             0.8888888888888888,
             "#fdca26"
            ],
            [
             1,
             "#f0f921"
            ]
           ]
          },
          "colorway": [
           "#636efa",
           "#EF553B",
           "#00cc96",
           "#ab63fa",
           "#FFA15A",
           "#19d3f3",
           "#FF6692",
           "#B6E880",
           "#FF97FF",
           "#FECB52"
          ],
          "font": {
           "color": "#2a3f5f"
          },
          "geo": {
           "bgcolor": "white",
           "lakecolor": "white",
           "landcolor": "#E5ECF6",
           "showlakes": true,
           "showland": true,
           "subunitcolor": "white"
          },
          "hoverlabel": {
           "align": "left"
          },
          "hovermode": "closest",
          "mapbox": {
           "style": "light"
          },
          "paper_bgcolor": "white",
          "plot_bgcolor": "#E5ECF6",
          "polar": {
           "angularaxis": {
            "gridcolor": "white",
            "linecolor": "white",
            "ticks": ""
           },
           "bgcolor": "#E5ECF6",
           "radialaxis": {
            "gridcolor": "white",
            "linecolor": "white",
            "ticks": ""
           }
          },
          "scene": {
           "xaxis": {
            "backgroundcolor": "#E5ECF6",
            "gridcolor": "white",
            "gridwidth": 2,
            "linecolor": "white",
            "showbackground": true,
            "ticks": "",
            "zerolinecolor": "white"
           },
           "yaxis": {
            "backgroundcolor": "#E5ECF6",
            "gridcolor": "white",
            "gridwidth": 2,
            "linecolor": "white",
            "showbackground": true,
            "ticks": "",
            "zerolinecolor": "white"
           },
           "zaxis": {
            "backgroundcolor": "#E5ECF6",
            "gridcolor": "white",
            "gridwidth": 2,
            "linecolor": "white",
            "showbackground": true,
            "ticks": "",
            "zerolinecolor": "white"
           }
          },
          "shapedefaults": {
           "line": {
            "color": "#2a3f5f"
           }
          },
          "ternary": {
           "aaxis": {
            "gridcolor": "white",
            "linecolor": "white",
            "ticks": ""
           },
           "baxis": {
            "gridcolor": "white",
            "linecolor": "white",
            "ticks": ""
           },
           "bgcolor": "#E5ECF6",
           "caxis": {
            "gridcolor": "white",
            "linecolor": "white",
            "ticks": ""
           }
          },
          "title": {
           "x": 0.05
          },
          "xaxis": {
           "automargin": true,
           "gridcolor": "white",
           "linecolor": "white",
           "ticks": "",
           "title": {
            "standoff": 15
           },
           "zerolinecolor": "white",
           "zerolinewidth": 2
          },
          "yaxis": {
           "automargin": true,
           "gridcolor": "white",
           "linecolor": "white",
           "ticks": "",
           "title": {
            "standoff": 15
           },
           "zerolinecolor": "white",
           "zerolinewidth": 2
          }
         }
        },
        "title": {
         "text": "Prediction vs Actual Values for Location 3 (MAPE: 0.18424, RMSE: 102.83678)"
        },
        "xaxis": {
         "anchor": "y",
         "domain": [
          0,
          1
         ],
         "title": {
          "text": "Datetime"
         }
        },
        "yaxis": {
         "anchor": "x",
         "domain": [
          0,
          1
         ],
         "title": {
          "text": "Value"
         }
        }
       }
      }
     },
     "metadata": {},
     "output_type": "display_data"
    },
    {
     "data": {
      "application/vnd.plotly.v1+json": {
       "config": {
        "plotlyServerURL": "https://plot.ly"
       },
       "data": [
        {
         "hovertemplate": "variable=VALUE<br>Datetime=%{x}<br>Value=%{y}<extra></extra>",
         "legendgroup": "VALUE",
         "line": {
          "color": "#636efa",
          "dash": "solid"
         },
         "marker": {
          "symbol": "circle"
         },
         "mode": "lines",
         "name": "VALUE",
         "orientation": "v",
         "showlegend": true,
         "type": "scatter",
         "x": [
          "2010-07-01T00:00:00",
          "2010-07-01T00:05:00",
          "2010-07-01T00:10:00",
          "2010-07-01T00:15:00",
          "2010-07-01T00:20:00",
          "2010-07-01T00:25:00",
          "2010-07-01T00:30:00",
          "2010-07-01T00:35:00",
          "2010-07-01T00:40:00",
          "2010-07-01T00:45:00",
          "2010-07-01T00:50:00",
          "2010-07-01T00:55:00",
          "2010-07-01T01:00:00",
          "2010-07-01T01:05:00",
          "2010-07-01T01:10:00",
          "2010-07-01T01:15:00",
          "2010-07-01T01:20:00",
          "2010-07-01T01:25:00",
          "2010-07-01T01:30:00",
          "2010-07-01T01:35:00",
          "2010-07-01T01:40:00",
          "2010-07-01T01:45:00",
          "2010-07-01T01:50:00",
          "2010-07-01T01:55:00",
          "2010-07-01T02:00:00",
          "2010-07-01T02:05:00",
          "2010-07-01T02:10:00",
          "2010-07-01T02:15:00",
          "2010-07-01T02:20:00",
          "2010-07-01T02:25:00",
          "2010-07-01T02:30:00",
          "2010-07-01T02:35:00",
          "2010-07-01T02:40:00",
          "2010-07-01T02:45:00",
          "2010-07-01T02:50:00",
          "2010-07-01T02:55:00",
          "2010-07-01T03:00:00",
          "2010-07-01T03:05:00",
          "2010-07-01T03:10:00",
          "2010-07-01T03:15:00",
          "2010-07-01T03:20:00",
          "2010-07-01T03:25:00",
          "2010-07-01T03:30:00",
          "2010-07-01T03:35:00",
          "2010-07-01T03:40:00",
          "2010-07-01T03:45:00",
          "2010-07-01T03:50:00",
          "2010-07-01T03:55:00",
          "2010-07-01T04:00:00",
          "2010-07-01T04:05:00",
          "2010-07-01T04:10:00",
          "2010-07-01T04:15:00",
          "2010-07-01T04:20:00",
          "2010-07-01T04:25:00",
          "2010-07-01T04:30:00",
          "2010-07-01T04:35:00",
          "2010-07-01T04:40:00",
          "2010-07-01T04:45:00",
          "2010-07-01T04:50:00",
          "2010-07-01T04:55:00",
          "2010-07-01T05:00:00",
          "2010-07-01T05:05:00",
          "2010-07-01T05:10:00",
          "2010-07-01T05:15:00",
          "2010-07-01T05:20:00",
          "2010-07-01T05:25:00",
          "2010-07-01T05:30:00",
          "2010-07-01T05:35:00",
          "2010-07-01T05:40:00",
          "2010-07-01T05:45:00",
          "2010-07-01T05:50:00",
          "2010-07-01T05:55:00",
          "2010-07-01T06:00:00",
          "2010-07-01T06:05:00",
          "2010-07-01T06:10:00",
          "2010-07-01T06:15:00",
          "2010-07-01T06:20:00",
          "2010-07-01T06:25:00",
          "2010-07-01T06:30:00",
          "2010-07-01T06:35:00",
          "2010-07-01T06:40:00",
          "2010-07-01T06:45:00",
          "2010-07-01T06:50:00",
          "2010-07-01T06:55:00",
          "2010-07-01T07:00:00",
          "2010-07-01T07:05:00",
          "2010-07-01T07:10:00",
          "2010-07-01T07:15:00",
          "2010-07-01T07:20:00",
          "2010-07-01T07:25:00",
          "2010-07-01T07:30:00",
          "2010-07-01T07:35:00",
          "2010-07-01T07:40:00",
          "2010-07-01T07:45:00",
          "2010-07-01T07:50:00",
          "2010-07-01T07:55:00",
          "2010-07-01T08:00:00",
          "2010-07-01T08:05:00",
          "2010-07-01T08:10:00",
          "2010-07-01T08:15:00",
          "2010-07-01T08:20:00",
          "2010-07-01T08:25:00",
          "2010-07-01T08:30:00",
          "2010-07-01T08:35:00",
          "2010-07-01T08:40:00",
          "2010-07-01T08:45:00",
          "2010-07-01T08:50:00",
          "2010-07-01T08:55:00",
          "2010-07-01T09:00:00",
          "2010-07-01T09:05:00",
          "2010-07-01T09:10:00",
          "2010-07-01T09:15:00",
          "2010-07-01T09:20:00",
          "2010-07-01T09:25:00",
          "2010-07-01T09:30:00",
          "2010-07-01T09:35:00",
          "2010-07-01T09:40:00",
          "2010-07-01T09:45:00",
          "2010-07-01T09:50:00",
          "2010-07-01T09:55:00",
          "2010-07-01T10:00:00",
          "2010-07-01T10:05:00",
          "2010-07-01T10:10:00",
          "2010-07-01T10:15:00",
          "2010-07-01T10:20:00",
          "2010-07-01T10:25:00",
          "2010-07-01T10:30:00",
          "2010-07-01T10:35:00",
          "2010-07-01T10:40:00",
          "2010-07-01T10:45:00",
          "2010-07-01T10:50:00",
          "2010-07-01T10:55:00",
          "2010-07-01T11:00:00",
          "2010-07-01T11:05:00",
          "2010-07-01T11:10:00",
          "2010-07-01T11:15:00",
          "2010-07-01T11:20:00",
          "2010-07-01T11:25:00",
          "2010-07-01T11:30:00",
          "2010-07-01T11:35:00",
          "2010-07-01T11:40:00",
          "2010-07-01T11:45:00",
          "2010-07-01T11:50:00",
          "2010-07-01T11:55:00",
          "2010-07-01T12:00:00",
          "2010-07-01T12:05:00",
          "2010-07-01T12:10:00",
          "2010-07-01T12:15:00",
          "2010-07-01T12:20:00",
          "2010-07-01T12:25:00",
          "2010-07-01T12:30:00",
          "2010-07-01T12:35:00",
          "2010-07-01T12:40:00",
          "2010-07-01T12:45:00",
          "2010-07-01T12:50:00",
          "2010-07-01T12:55:00",
          "2010-07-01T13:00:00",
          "2010-07-01T13:05:00",
          "2010-07-01T13:10:00",
          "2010-07-01T13:15:00",
          "2010-07-01T13:20:00",
          "2010-07-01T13:25:00",
          "2010-07-01T13:30:00",
          "2010-07-01T13:35:00",
          "2010-07-01T13:40:00",
          "2010-07-01T13:45:00",
          "2010-07-01T13:50:00",
          "2010-07-01T13:55:00",
          "2010-07-01T14:00:00",
          "2010-07-01T14:05:00",
          "2010-07-01T14:10:00",
          "2010-07-01T14:15:00",
          "2010-07-01T14:20:00",
          "2010-07-01T14:25:00",
          "2010-07-01T14:30:00",
          "2010-07-01T14:35:00",
          "2010-07-01T14:40:00",
          "2010-07-01T14:45:00",
          "2010-07-01T14:50:00",
          "2010-07-01T14:55:00",
          "2010-07-01T15:00:00",
          "2010-07-01T15:05:00",
          "2010-07-01T15:10:00",
          "2010-07-01T15:15:00",
          "2010-07-01T15:20:00",
          "2010-07-01T15:25:00",
          "2010-07-01T15:30:00",
          "2010-07-01T15:35:00",
          "2010-07-01T15:40:00",
          "2010-07-01T15:45:00",
          "2010-07-01T15:50:00",
          "2010-07-01T15:55:00",
          "2010-07-01T16:00:00",
          "2010-07-01T16:05:00",
          "2010-07-01T16:10:00",
          "2010-07-01T16:15:00",
          "2010-07-01T16:20:00",
          "2010-07-01T16:25:00",
          "2010-07-01T16:30:00",
          "2010-07-01T16:35:00",
          "2010-07-01T16:40:00",
          "2010-07-01T16:45:00",
          "2010-07-01T16:50:00",
          "2010-07-01T16:55:00",
          "2010-07-01T17:00:00",
          "2010-07-01T17:05:00",
          "2010-07-01T17:10:00",
          "2010-07-01T17:15:00",
          "2010-07-01T17:20:00",
          "2010-07-01T17:25:00",
          "2010-07-01T17:30:00",
          "2010-07-01T17:35:00",
          "2010-07-01T17:40:00",
          "2010-07-01T17:45:00",
          "2010-07-01T17:50:00",
          "2010-07-01T17:55:00",
          "2010-07-01T18:00:00",
          "2010-07-01T18:05:00",
          "2010-07-01T18:10:00",
          "2010-07-01T18:15:00",
          "2010-07-01T18:20:00",
          "2010-07-01T18:25:00",
          "2010-07-01T18:30:00",
          "2010-07-01T18:35:00",
          "2010-07-01T18:40:00",
          "2010-07-01T18:45:00",
          "2010-07-01T18:50:00",
          "2010-07-01T18:55:00",
          "2010-07-01T19:00:00",
          "2010-07-01T19:05:00",
          "2010-07-01T19:10:00",
          "2010-07-01T19:15:00",
          "2010-07-01T19:20:00",
          "2010-07-01T19:25:00",
          "2010-07-01T19:30:00",
          "2010-07-01T19:35:00",
          "2010-07-01T19:40:00",
          "2010-07-01T19:45:00",
          "2010-07-01T19:50:00",
          "2010-07-01T19:55:00",
          "2010-07-01T20:00:00",
          "2010-07-01T20:05:00",
          "2010-07-01T20:10:00",
          "2010-07-01T20:15:00",
          "2010-07-01T20:20:00",
          "2010-07-01T20:25:00",
          "2010-07-01T20:30:00",
          "2010-07-01T20:35:00",
          "2010-07-01T20:40:00",
          "2010-07-01T20:45:00",
          "2010-07-01T20:50:00",
          "2010-07-01T20:55:00",
          "2010-07-01T21:00:00",
          "2010-07-01T21:05:00",
          "2010-07-01T21:10:00",
          "2010-07-01T21:15:00",
          "2010-07-01T21:20:00",
          "2010-07-01T21:25:00",
          "2010-07-01T21:30:00",
          "2010-07-01T21:35:00",
          "2010-07-01T21:40:00",
          "2010-07-01T21:45:00",
          "2010-07-01T21:50:00",
          "2010-07-01T21:55:00",
          "2010-07-01T22:00:00",
          "2010-07-01T22:05:00",
          "2010-07-01T22:10:00",
          "2010-07-01T22:15:00",
          "2010-07-01T22:20:00",
          "2010-07-01T22:25:00",
          "2010-07-01T22:30:00",
          "2010-07-01T22:35:00",
          "2010-07-01T22:40:00",
          "2010-07-01T22:45:00",
          "2010-07-01T22:50:00",
          "2010-07-01T22:55:00",
          "2010-07-01T23:00:00",
          "2010-07-01T23:05:00",
          "2010-07-01T23:10:00",
          "2010-07-01T23:15:00",
          "2010-07-01T23:20:00",
          "2010-07-01T23:25:00",
          "2010-07-01T23:30:00",
          "2010-07-01T23:35:00",
          "2010-07-01T23:40:00",
          "2010-07-01T23:45:00",
          "2010-07-01T23:50:00",
          "2010-07-01T23:55:00"
         ],
         "xaxis": "x",
         "y": [
          203.48,
          245.4,
          267.11,
          279.32,
          307.89,
          306.5,
          322.32,
          309.08,
          297.7,
          311.31,
          331.74,
          329,
          352.95,
          362.97,
          347.53,
          337.1,
          338.6,
          329.43,
          314.94,
          320.28,
          314.81,
          326.68,
          332.92,
          331.04,
          339.03,
          340.23,
          343.35,
          364.71,
          372.31,
          375.09,
          369.57,
          376.34,
          361.47,
          390.51,
          382.23,
          390.37,
          398.34,
          440.3,
          438.69,
          425.29,
          430.43,
          429.46,
          441.51,
          436.43,
          439.13,
          436.58,
          446.27,
          443.65,
          439.44,
          453.91,
          452.7,
          439.65,
          439.6,
          445.65,
          442.795,
          439.94,
          435.22,
          435.77,
          441.72,
          439.63,
          443.8,
          449.65,
          452.42,
          462.8,
          444.07,
          445.1,
          450.25,
          445.92,
          444.24,
          443.01,
          449.43,
          459.8,
          449.04,
          467.82,
          489.14,
          487.54,
          492.39,
          496.04,
          475.81,
          484.4,
          457.35,
          459.26,
          421.22,
          407.81,
          412.61,
          431.75,
          423.02,
          427.81,
          424.01,
          444.11,
          451.64,
          457.52,
          429.84,
          434.48,
          438.64,
          428.08,
          411.7,
          378.99,
          392.23,
          374.94,
          394.88,
          404.68,
          411.07,
          403.14,
          407.35,
          402.83,
          396.82,
          394.18,
          353.57,
          322.31,
          315.16,
          319.96,
          310.93,
          301.9,
          276.85,
          265.575,
          254.3,
          255.1,
          222.06,
          201.15,
          184.45,
          152.69,
          121.48,
          134.98,
          144.74,
          152.86,
          149.48,
          130.79,
          130.45,
          133.42,
          124.35,
          116.43,
          99.43,
          118.91,
          154.63,
          130.27,
          112.56,
          109.46,
          107.34,
          112.03,
          105.3,
          91.49,
          202.97,
          191.18001,
          175.77,
          140.07,
          92.04,
          98.74,
          103.53,
          88.13,
          134.02,
          123.4,
          131.22,
          142.93,
          144,
          131.92,
          128.15,
          130.31,
          120.74,
          123.61,
          123.93,
          126.5,
          134.45,
          141.04,
          142.05,
          166.75,
          143.15,
          134.88,
          124.09,
          112.21,
          79.69,
          82.79,
          80.74,
          86.39,
          83.6,
          78.47,
          72.33,
          52.56,
          56.3,
          64.58,
          74.4,
          88.87,
          109.65,
          123.83,
          136.84,
          134.78,
          116,
          148.27,
          144.06,
          147.87,
          151.55,
          162.8,
          150.18,
          162.7,
          156.5,
          163.08,
          162.27,
          164.48,
          166.56,
          163.81999,
          151.69,
          159.03,
          150.03,
          152.8,
          195.1,
          228.26,
          248.1,
          223.54,
          224.05,
          237.86,
          230.67,
          231.54,
          229.94,
          228.13,
          213.04,
          210.43,
          215.28,
          245.41,
          244.77,
          240.81,
          236.6,
          212.75,
          210.72,
          212.47,
          204.64,
          210.29,
          186,
          186.36,
          226.78,
          274.87,
          302.92,
          301.09,
          321.4,
          306.63,
          300.26,
          298.14,
          302.84,
          300.98,
          283.15,
          282.43,
          302.88,
          273.87,
          284.04,
          273.69,
          291.66,
          299.6,
          300.39,
          299.66,
          314.35,
          320.78,
          317.77,
          345.36,
          383.67,
          426.86,
          417.37,
          402.25,
          430.93,
          410.67,
          414.16,
          403.5,
          398.02,
          407.76,
          430.27,
          433.61,
          425.33,
          344.05,
          347.88,
          333.6,
          342.01,
          307.35,
          288.86,
          280.97,
          277.8,
          306.83,
          314.26,
          310.56,
          330.73,
          335.79,
          314.36002,
          296.63,
          311.84,
          297.2,
          302.37,
          298.66,
          310.32,
          323.7,
          345.25,
          308.42
         ],
         "yaxis": "y"
        },
        {
         "hovertemplate": "variable=prediction<br>Datetime=%{x}<br>Value=%{y}<extra></extra>",
         "legendgroup": "prediction",
         "line": {
          "color": "#EF553B",
          "dash": "solid"
         },
         "marker": {
          "symbol": "circle"
         },
         "mode": "lines",
         "name": "prediction",
         "orientation": "v",
         "showlegend": true,
         "type": "scatter",
         "x": [
          "2010-07-01T00:00:00",
          "2010-07-01T00:05:00",
          "2010-07-01T00:10:00",
          "2010-07-01T00:15:00",
          "2010-07-01T00:20:00",
          "2010-07-01T00:25:00",
          "2010-07-01T00:30:00",
          "2010-07-01T00:35:00",
          "2010-07-01T00:40:00",
          "2010-07-01T00:45:00",
          "2010-07-01T00:50:00",
          "2010-07-01T00:55:00",
          "2010-07-01T01:00:00",
          "2010-07-01T01:05:00",
          "2010-07-01T01:10:00",
          "2010-07-01T01:15:00",
          "2010-07-01T01:20:00",
          "2010-07-01T01:25:00",
          "2010-07-01T01:30:00",
          "2010-07-01T01:35:00",
          "2010-07-01T01:40:00",
          "2010-07-01T01:45:00",
          "2010-07-01T01:50:00",
          "2010-07-01T01:55:00",
          "2010-07-01T02:00:00",
          "2010-07-01T02:05:00",
          "2010-07-01T02:10:00",
          "2010-07-01T02:15:00",
          "2010-07-01T02:20:00",
          "2010-07-01T02:25:00",
          "2010-07-01T02:30:00",
          "2010-07-01T02:35:00",
          "2010-07-01T02:40:00",
          "2010-07-01T02:45:00",
          "2010-07-01T02:50:00",
          "2010-07-01T02:55:00",
          "2010-07-01T03:00:00",
          "2010-07-01T03:05:00",
          "2010-07-01T03:10:00",
          "2010-07-01T03:15:00",
          "2010-07-01T03:20:00",
          "2010-07-01T03:25:00",
          "2010-07-01T03:30:00",
          "2010-07-01T03:35:00",
          "2010-07-01T03:40:00",
          "2010-07-01T03:45:00",
          "2010-07-01T03:50:00",
          "2010-07-01T03:55:00",
          "2010-07-01T04:00:00",
          "2010-07-01T04:05:00",
          "2010-07-01T04:10:00",
          "2010-07-01T04:15:00",
          "2010-07-01T04:20:00",
          "2010-07-01T04:25:00",
          "2010-07-01T04:30:00",
          "2010-07-01T04:35:00",
          "2010-07-01T04:40:00",
          "2010-07-01T04:45:00",
          "2010-07-01T04:50:00",
          "2010-07-01T04:55:00",
          "2010-07-01T05:00:00",
          "2010-07-01T05:05:00",
          "2010-07-01T05:10:00",
          "2010-07-01T05:15:00",
          "2010-07-01T05:20:00",
          "2010-07-01T05:25:00",
          "2010-07-01T05:30:00",
          "2010-07-01T05:35:00",
          "2010-07-01T05:40:00",
          "2010-07-01T05:45:00",
          "2010-07-01T05:50:00",
          "2010-07-01T05:55:00",
          "2010-07-01T06:00:00",
          "2010-07-01T06:05:00",
          "2010-07-01T06:10:00",
          "2010-07-01T06:15:00",
          "2010-07-01T06:20:00",
          "2010-07-01T06:25:00",
          "2010-07-01T06:30:00",
          "2010-07-01T06:35:00",
          "2010-07-01T06:40:00",
          "2010-07-01T06:45:00",
          "2010-07-01T06:50:00",
          "2010-07-01T06:55:00",
          "2010-07-01T07:00:00",
          "2010-07-01T07:05:00",
          "2010-07-01T07:10:00",
          "2010-07-01T07:15:00",
          "2010-07-01T07:20:00",
          "2010-07-01T07:25:00",
          "2010-07-01T07:30:00",
          "2010-07-01T07:35:00",
          "2010-07-01T07:40:00",
          "2010-07-01T07:45:00",
          "2010-07-01T07:50:00",
          "2010-07-01T07:55:00",
          "2010-07-01T08:00:00",
          "2010-07-01T08:05:00",
          "2010-07-01T08:10:00",
          "2010-07-01T08:15:00",
          "2010-07-01T08:20:00",
          "2010-07-01T08:25:00",
          "2010-07-01T08:30:00",
          "2010-07-01T08:35:00",
          "2010-07-01T08:40:00",
          "2010-07-01T08:45:00",
          "2010-07-01T08:50:00",
          "2010-07-01T08:55:00",
          "2010-07-01T09:00:00",
          "2010-07-01T09:05:00",
          "2010-07-01T09:10:00",
          "2010-07-01T09:15:00",
          "2010-07-01T09:20:00",
          "2010-07-01T09:25:00",
          "2010-07-01T09:30:00",
          "2010-07-01T09:35:00",
          "2010-07-01T09:40:00",
          "2010-07-01T09:45:00",
          "2010-07-01T09:50:00",
          "2010-07-01T09:55:00",
          "2010-07-01T10:00:00",
          "2010-07-01T10:05:00",
          "2010-07-01T10:10:00",
          "2010-07-01T10:15:00",
          "2010-07-01T10:20:00",
          "2010-07-01T10:25:00",
          "2010-07-01T10:30:00",
          "2010-07-01T10:35:00",
          "2010-07-01T10:40:00",
          "2010-07-01T10:45:00",
          "2010-07-01T10:50:00",
          "2010-07-01T10:55:00",
          "2010-07-01T11:00:00",
          "2010-07-01T11:05:00",
          "2010-07-01T11:10:00",
          "2010-07-01T11:15:00",
          "2010-07-01T11:20:00",
          "2010-07-01T11:25:00",
          "2010-07-01T11:30:00",
          "2010-07-01T11:35:00",
          "2010-07-01T11:40:00",
          "2010-07-01T11:45:00",
          "2010-07-01T11:50:00",
          "2010-07-01T11:55:00",
          "2010-07-01T12:00:00",
          "2010-07-01T12:05:00",
          "2010-07-01T12:10:00",
          "2010-07-01T12:15:00",
          "2010-07-01T12:20:00",
          "2010-07-01T12:25:00",
          "2010-07-01T12:30:00",
          "2010-07-01T12:35:00",
          "2010-07-01T12:40:00",
          "2010-07-01T12:45:00",
          "2010-07-01T12:50:00",
          "2010-07-01T12:55:00",
          "2010-07-01T13:00:00",
          "2010-07-01T13:05:00",
          "2010-07-01T13:10:00",
          "2010-07-01T13:15:00",
          "2010-07-01T13:20:00",
          "2010-07-01T13:25:00",
          "2010-07-01T13:30:00",
          "2010-07-01T13:35:00",
          "2010-07-01T13:40:00",
          "2010-07-01T13:45:00",
          "2010-07-01T13:50:00",
          "2010-07-01T13:55:00",
          "2010-07-01T14:00:00",
          "2010-07-01T14:05:00",
          "2010-07-01T14:10:00",
          "2010-07-01T14:15:00",
          "2010-07-01T14:20:00",
          "2010-07-01T14:25:00",
          "2010-07-01T14:30:00",
          "2010-07-01T14:35:00",
          "2010-07-01T14:40:00",
          "2010-07-01T14:45:00",
          "2010-07-01T14:50:00",
          "2010-07-01T14:55:00",
          "2010-07-01T15:00:00",
          "2010-07-01T15:05:00",
          "2010-07-01T15:10:00",
          "2010-07-01T15:15:00",
          "2010-07-01T15:20:00",
          "2010-07-01T15:25:00",
          "2010-07-01T15:30:00",
          "2010-07-01T15:35:00",
          "2010-07-01T15:40:00",
          "2010-07-01T15:45:00",
          "2010-07-01T15:50:00",
          "2010-07-01T15:55:00",
          "2010-07-01T16:00:00",
          "2010-07-01T16:05:00",
          "2010-07-01T16:10:00",
          "2010-07-01T16:15:00",
          "2010-07-01T16:20:00",
          "2010-07-01T16:25:00",
          "2010-07-01T16:30:00",
          "2010-07-01T16:35:00",
          "2010-07-01T16:40:00",
          "2010-07-01T16:45:00",
          "2010-07-01T16:50:00",
          "2010-07-01T16:55:00",
          "2010-07-01T17:00:00",
          "2010-07-01T17:05:00",
          "2010-07-01T17:10:00",
          "2010-07-01T17:15:00",
          "2010-07-01T17:20:00",
          "2010-07-01T17:25:00",
          "2010-07-01T17:30:00",
          "2010-07-01T17:35:00",
          "2010-07-01T17:40:00",
          "2010-07-01T17:45:00",
          "2010-07-01T17:50:00",
          "2010-07-01T17:55:00",
          "2010-07-01T18:00:00",
          "2010-07-01T18:05:00",
          "2010-07-01T18:10:00",
          "2010-07-01T18:15:00",
          "2010-07-01T18:20:00",
          "2010-07-01T18:25:00",
          "2010-07-01T18:30:00",
          "2010-07-01T18:35:00",
          "2010-07-01T18:40:00",
          "2010-07-01T18:45:00",
          "2010-07-01T18:50:00",
          "2010-07-01T18:55:00",
          "2010-07-01T19:00:00",
          "2010-07-01T19:05:00",
          "2010-07-01T19:10:00",
          "2010-07-01T19:15:00",
          "2010-07-01T19:20:00",
          "2010-07-01T19:25:00",
          "2010-07-01T19:30:00",
          "2010-07-01T19:35:00",
          "2010-07-01T19:40:00",
          "2010-07-01T19:45:00",
          "2010-07-01T19:50:00",
          "2010-07-01T19:55:00",
          "2010-07-01T20:00:00",
          "2010-07-01T20:05:00",
          "2010-07-01T20:10:00",
          "2010-07-01T20:15:00",
          "2010-07-01T20:20:00",
          "2010-07-01T20:25:00",
          "2010-07-01T20:30:00",
          "2010-07-01T20:35:00",
          "2010-07-01T20:40:00",
          "2010-07-01T20:45:00",
          "2010-07-01T20:50:00",
          "2010-07-01T20:55:00",
          "2010-07-01T21:00:00",
          "2010-07-01T21:05:00",
          "2010-07-01T21:10:00",
          "2010-07-01T21:15:00",
          "2010-07-01T21:20:00",
          "2010-07-01T21:25:00",
          "2010-07-01T21:30:00",
          "2010-07-01T21:35:00",
          "2010-07-01T21:40:00",
          "2010-07-01T21:45:00",
          "2010-07-01T21:50:00",
          "2010-07-01T21:55:00",
          "2010-07-01T22:00:00",
          "2010-07-01T22:05:00",
          "2010-07-01T22:10:00",
          "2010-07-01T22:15:00",
          "2010-07-01T22:20:00",
          "2010-07-01T22:25:00",
          "2010-07-01T22:30:00",
          "2010-07-01T22:35:00",
          "2010-07-01T22:40:00",
          "2010-07-01T22:45:00",
          "2010-07-01T22:50:00",
          "2010-07-01T22:55:00",
          "2010-07-01T23:00:00",
          "2010-07-01T23:05:00",
          "2010-07-01T23:10:00",
          "2010-07-01T23:15:00",
          "2010-07-01T23:20:00",
          "2010-07-01T23:25:00",
          "2010-07-01T23:30:00",
          "2010-07-01T23:35:00",
          "2010-07-01T23:40:00",
          "2010-07-01T23:45:00",
          "2010-07-01T23:50:00",
          "2010-07-01T23:55:00"
         ],
         "xaxis": "x",
         "y": [
          216.9409040801203,
          264.6531866630275,
          277.9258239585728,
          289.3150674746741,
          277.5274506753514,
          282.076356043363,
          273.0068013690859,
          285.46193073870967,
          308.6667046522673,
          296.36725386940554,
          295.11189387812954,
          287.4067839700438,
          290.16236404416895,
          275.997355374212,
          253.66158881185504,
          258.1900314609708,
          275.0244588662731,
          275.518091410671,
          271.30432114270116,
          266.3543253870935,
          254.42200294449307,
          267.146649329299,
          276.2249217695261,
          275.37516083083466,
          289.6836434014673,
          298.9608912001903,
          297.2521637693779,
          309.44949836740267,
          308.91566033095546,
          301.77310159894336,
          323.05652119407983,
          325.2854596081182,
          318.3770562862918,
          321.20533028833,
          327.5341672135642,
          323.9052824950693,
          354.97881226295317,
          346.35827728822954,
          353.2610951872542,
          363.7702274979067,
          363.085153780521,
          360.9310187699355,
          364.7133066032881,
          366.46646106855644,
          365.87170458014384,
          365.8812103788407,
          365.8812103788407,
          362.108428344185,
          367.8879587810118,
          383.8653093025727,
          388.6906132299607,
          388.7001190286576,
          375.6508945747393,
          379.6806763910943,
          379.6806763910943,
          379.6806763910943,
          383.23827893672876,
          378.8246009467874,
          388.5141098806427,
          388.5141098806427,
          377.83847808014946,
          371.0151138252756,
          382.06776796461105,
          389.5416038885026,
          390.21717180719145,
          391.1602509125728,
          392.11382666289626,
          378.95599154448576,
          374.56112131285823,
          374.5176391964597,
          375.9778007967206,
          390.8459440415834,
          371.92125896537885,
          368.2043471912249,
          388.4571164223944,
          382.73620376196106,
          371.30360300710043,
          354.761280882316,
          354.761280882316,
          354.7993869873187,
          352.7123761239492,
          346.4019871343211,
          327.9419323060862,
          324.0139472829236,
          309.4451666120554,
          336.84679603780364,
          333.6624333800606,
          346.6765058209806,
          359.6621894714849,
          371.760799948296,
          369.8824754298849,
          346.5344654092177,
          348.4712030141336,
          350.5172552801436,
          347.87361270449946,
          347.223967462305,
          311.46052188192056,
          238.07372214662914,
          236.65976765763844,
          240.20786482834524,
          260.3032399161465,
          267.2790536007067,
          256.6877808088936,
          262.6546957013954,
          259.4355531827713,
          255.02733734291536,
          241.34372453790635,
          235.0161693469987,
          206.37709582820844,
          193.69613563601928,
          166.95170392592553,
          165.11669155364672,
          165.82985432661178,
          174.69691297582494,
          165.24124039734667,
          165.63985989670573,
          161.03091126753182,
          163.0603912172717,
          160.69792875327803,
          168.3066661500908,
          139.0527317069523,
          120.37804651601867,
          103.22176961002536,
          135.68297971778384,
          142.55370030001112,
          135.65966288361653,
          131.3786693852099,
          135.7781376074755,
          133.68693860901755,
          126.10691351760786,
          122.50416790700352,
          129.89956740956848,
          130.37617648437504,
          137.50895713702005,
          146.6793967792897,
          151.52022386292737,
          152.13358483018123,
          150.18202242540286,
          122.57822048982388,
          113.03592853372582,
          112.31682368976084,
          109.81499238159122,
          109.80899937580243,
          90.21840621467507,
          82.6338677893547,
          71.73322162074682,
          51.93132457109098,
          65.23272541624065,
          66.02844127267528,
          59.88036988801825,
          60.73628838954899,
          58.37394652825442,
          55.96208206047419,
          62.78621094856201,
          69.57059523440608,
          70.24091515785796,
          71.74938869837419,
          80.31362014865601,
          75.17135244726248,
          50.948944638584756,
          55.69869283982751,
          62.50332207665698,
          74.09545698166504,
          77.9822626076157,
          73.6490445935043,
          74.11801787068816,
          81.54898697261208,
          84.3880760865541,
          83.47081081571,
          69.49238803325923,
          58.847104514306515,
          56.54102075902575,
          77.23859053344843,
          63.49466773235663,
          63.12117684704031,
          55.734562059324496,
          56.095717188231774,
          56.731570947357895,
          64.65123630184388,
          56.37002789091364,
          73.10963286490903,
          110.88391085556167,
          121.8525932925364,
          110.88391085556167,
          107.31240878230304,
          118.47186032761466,
          130.94462402288545,
          130.48369272773792,
          130.93863101709664,
          131.81603989590366,
          109.7168737186374,
          102.418403422728,
          106.68013464787948,
          108.88811041196932,
          121.47419329605364,
          122.94921407469005,
          117.61706259920813,
          106.05265545845545,
          109.25382778636727,
          111.07907225585289,
          123.57669326411407,
          125.6083012743304,
          123.93352056231215,
          118.3628490889525,
          131.30085340179852,
          153.6632841948327,
          156.7257735693262,
          154.75902435354766,
          140.93898641620422,
          142.29596750878378,
          142.02163313365028,
          139.63675140062307,
          140.63936683903813,
          140.63936683903813,
          140.75428540728254,
          141.951850692973,
          138.87102237222982,
          162.50030192353154,
          169.08650736824313,
          171.43912299037027,
          158.03577162125856,
          157.01568815613038,
          151.5462365922462,
          142.90113696102722,
          138.87102237222982,
          136.5670074088515,
          143.25697952708623,
          146.24672874998063,
          150.00143104964272,
          162.9517749781886,
          166.21126604661387,
          170.1964824639459,
          169.40333295597705,
          170.45264681579843,
          174.57082111993725,
          173.03354425594736,
          174.57082111993725,
          177.4920257665029,
          163.24618486931936,
          152.48155829523827,
          182.41340355316098,
          224.7626519849981,
          228.96926323133357,
          228.96926323133357,
          230.83365195548572,
          227.484654248741,
          229.87758309673342,
          217.9365089483356,
          232.32369221207628,
          244.4269560356591,
          243.49990172779692,
          245.53157536197145,
          267.40881622885706,
          271.3955025486545,
          260.9192414575603,
          264.38969806313554,
          286.9554952337793,
          274.2659186637181,
          272.275302064645,
          267.3199435363157,
          268.6527314801209,
          267.90070577108474,
          261.4956076952629,
          261.0615386045603,
          241.47446314170386,
          214.7571744794159,
          187.39932228133128,
          181.58896711376207,
          183.52656673909158,
          169.41543757593854,
          170.6226764484131,
          151.86132948628492,
          151.03856518398172,
          170.9410084762728,
          197.2427990626875,
          182.77051380160813,
          211.23479482792314,
          181.1767011183117,
          175.0182430898696,
          173.2600368945059,
          174.55646700948606,
          164.79384770505337,
          169.22207805014622,
          166.01328007760438,
          167.47208072993237,
          182.3033457732719,
          182.36834682841373,
          172.0934435275322
         ],
         "yaxis": "y"
        }
       ],
       "layout": {
        "legend": {
         "title": {
          "text": "variable"
         },
         "tracegroupgap": 0
        },
        "template": {
         "data": {
          "bar": [
           {
            "error_x": {
             "color": "#2a3f5f"
            },
            "error_y": {
             "color": "#2a3f5f"
            },
            "marker": {
             "line": {
              "color": "#E5ECF6",
              "width": 0.5
             },
             "pattern": {
              "fillmode": "overlay",
              "size": 10,
              "solidity": 0.2
             }
            },
            "type": "bar"
           }
          ],
          "barpolar": [
           {
            "marker": {
             "line": {
              "color": "#E5ECF6",
              "width": 0.5
             },
             "pattern": {
              "fillmode": "overlay",
              "size": 10,
              "solidity": 0.2
             }
            },
            "type": "barpolar"
           }
          ],
          "carpet": [
           {
            "aaxis": {
             "endlinecolor": "#2a3f5f",
             "gridcolor": "white",
             "linecolor": "white",
             "minorgridcolor": "white",
             "startlinecolor": "#2a3f5f"
            },
            "baxis": {
             "endlinecolor": "#2a3f5f",
             "gridcolor": "white",
             "linecolor": "white",
             "minorgridcolor": "white",
             "startlinecolor": "#2a3f5f"
            },
            "type": "carpet"
           }
          ],
          "choropleth": [
           {
            "colorbar": {
             "outlinewidth": 0,
             "ticks": ""
            },
            "type": "choropleth"
           }
          ],
          "contour": [
           {
            "colorbar": {
             "outlinewidth": 0,
             "ticks": ""
            },
            "colorscale": [
             [
              0,
              "#0d0887"
             ],
             [
              0.1111111111111111,
              "#46039f"
             ],
             [
              0.2222222222222222,
              "#7201a8"
             ],
             [
              0.3333333333333333,
              "#9c179e"
             ],
             [
              0.4444444444444444,
              "#bd3786"
             ],
             [
              0.5555555555555556,
              "#d8576b"
             ],
             [
              0.6666666666666666,
              "#ed7953"
             ],
             [
              0.7777777777777778,
              "#fb9f3a"
             ],
             [
              0.8888888888888888,
              "#fdca26"
             ],
             [
              1,
              "#f0f921"
             ]
            ],
            "type": "contour"
           }
          ],
          "contourcarpet": [
           {
            "colorbar": {
             "outlinewidth": 0,
             "ticks": ""
            },
            "type": "contourcarpet"
           }
          ],
          "heatmap": [
           {
            "colorbar": {
             "outlinewidth": 0,
             "ticks": ""
            },
            "colorscale": [
             [
              0,
              "#0d0887"
             ],
             [
              0.1111111111111111,
              "#46039f"
             ],
             [
              0.2222222222222222,
              "#7201a8"
             ],
             [
              0.3333333333333333,
              "#9c179e"
             ],
             [
              0.4444444444444444,
              "#bd3786"
             ],
             [
              0.5555555555555556,
              "#d8576b"
             ],
             [
              0.6666666666666666,
              "#ed7953"
             ],
             [
              0.7777777777777778,
              "#fb9f3a"
             ],
             [
              0.8888888888888888,
              "#fdca26"
             ],
             [
              1,
              "#f0f921"
             ]
            ],
            "type": "heatmap"
           }
          ],
          "heatmapgl": [
           {
            "colorbar": {
             "outlinewidth": 0,
             "ticks": ""
            },
            "colorscale": [
             [
              0,
              "#0d0887"
             ],
             [
              0.1111111111111111,
              "#46039f"
             ],
             [
              0.2222222222222222,
              "#7201a8"
             ],
             [
              0.3333333333333333,
              "#9c179e"
             ],
             [
              0.4444444444444444,
              "#bd3786"
             ],
             [
              0.5555555555555556,
              "#d8576b"
             ],
             [
              0.6666666666666666,
              "#ed7953"
             ],
             [
              0.7777777777777778,
              "#fb9f3a"
             ],
             [
              0.8888888888888888,
              "#fdca26"
             ],
             [
              1,
              "#f0f921"
             ]
            ],
            "type": "heatmapgl"
           }
          ],
          "histogram": [
           {
            "marker": {
             "pattern": {
              "fillmode": "overlay",
              "size": 10,
              "solidity": 0.2
             }
            },
            "type": "histogram"
           }
          ],
          "histogram2d": [
           {
            "colorbar": {
             "outlinewidth": 0,
             "ticks": ""
            },
            "colorscale": [
             [
              0,
              "#0d0887"
             ],
             [
              0.1111111111111111,
              "#46039f"
             ],
             [
              0.2222222222222222,
              "#7201a8"
             ],
             [
              0.3333333333333333,
              "#9c179e"
             ],
             [
              0.4444444444444444,
              "#bd3786"
             ],
             [
              0.5555555555555556,
              "#d8576b"
             ],
             [
              0.6666666666666666,
              "#ed7953"
             ],
             [
              0.7777777777777778,
              "#fb9f3a"
             ],
             [
              0.8888888888888888,
              "#fdca26"
             ],
             [
              1,
              "#f0f921"
             ]
            ],
            "type": "histogram2d"
           }
          ],
          "histogram2dcontour": [
           {
            "colorbar": {
             "outlinewidth": 0,
             "ticks": ""
            },
            "colorscale": [
             [
              0,
              "#0d0887"
             ],
             [
              0.1111111111111111,
              "#46039f"
             ],
             [
              0.2222222222222222,
              "#7201a8"
             ],
             [
              0.3333333333333333,
              "#9c179e"
             ],
             [
              0.4444444444444444,
              "#bd3786"
             ],
             [
              0.5555555555555556,
              "#d8576b"
             ],
             [
              0.6666666666666666,
              "#ed7953"
             ],
             [
              0.7777777777777778,
              "#fb9f3a"
             ],
             [
              0.8888888888888888,
              "#fdca26"
             ],
             [
              1,
              "#f0f921"
             ]
            ],
            "type": "histogram2dcontour"
           }
          ],
          "mesh3d": [
           {
            "colorbar": {
             "outlinewidth": 0,
             "ticks": ""
            },
            "type": "mesh3d"
           }
          ],
          "parcoords": [
           {
            "line": {
             "colorbar": {
              "outlinewidth": 0,
              "ticks": ""
             }
            },
            "type": "parcoords"
           }
          ],
          "pie": [
           {
            "automargin": true,
            "type": "pie"
           }
          ],
          "scatter": [
           {
            "fillpattern": {
             "fillmode": "overlay",
             "size": 10,
             "solidity": 0.2
            },
            "type": "scatter"
           }
          ],
          "scatter3d": [
           {
            "line": {
             "colorbar": {
              "outlinewidth": 0,
              "ticks": ""
             }
            },
            "marker": {
             "colorbar": {
              "outlinewidth": 0,
              "ticks": ""
             }
            },
            "type": "scatter3d"
           }
          ],
          "scattercarpet": [
           {
            "marker": {
             "colorbar": {
              "outlinewidth": 0,
              "ticks": ""
             }
            },
            "type": "scattercarpet"
           }
          ],
          "scattergeo": [
           {
            "marker": {
             "colorbar": {
              "outlinewidth": 0,
              "ticks": ""
             }
            },
            "type": "scattergeo"
           }
          ],
          "scattergl": [
           {
            "marker": {
             "colorbar": {
              "outlinewidth": 0,
              "ticks": ""
             }
            },
            "type": "scattergl"
           }
          ],
          "scattermapbox": [
           {
            "marker": {
             "colorbar": {
              "outlinewidth": 0,
              "ticks": ""
             }
            },
            "type": "scattermapbox"
           }
          ],
          "scatterpolar": [
           {
            "marker": {
             "colorbar": {
              "outlinewidth": 0,
              "ticks": ""
             }
            },
            "type": "scatterpolar"
           }
          ],
          "scatterpolargl": [
           {
            "marker": {
             "colorbar": {
              "outlinewidth": 0,
              "ticks": ""
             }
            },
            "type": "scatterpolargl"
           }
          ],
          "scatterternary": [
           {
            "marker": {
             "colorbar": {
              "outlinewidth": 0,
              "ticks": ""
             }
            },
            "type": "scatterternary"
           }
          ],
          "surface": [
           {
            "colorbar": {
             "outlinewidth": 0,
             "ticks": ""
            },
            "colorscale": [
             [
              0,
              "#0d0887"
             ],
             [
              0.1111111111111111,
              "#46039f"
             ],
             [
              0.2222222222222222,
              "#7201a8"
             ],
             [
              0.3333333333333333,
              "#9c179e"
             ],
             [
              0.4444444444444444,
              "#bd3786"
             ],
             [
              0.5555555555555556,
              "#d8576b"
             ],
             [
              0.6666666666666666,
              "#ed7953"
             ],
             [
              0.7777777777777778,
              "#fb9f3a"
             ],
             [
              0.8888888888888888,
              "#fdca26"
             ],
             [
              1,
              "#f0f921"
             ]
            ],
            "type": "surface"
           }
          ],
          "table": [
           {
            "cells": {
             "fill": {
              "color": "#EBF0F8"
             },
             "line": {
              "color": "white"
             }
            },
            "header": {
             "fill": {
              "color": "#C8D4E3"
             },
             "line": {
              "color": "white"
             }
            },
            "type": "table"
           }
          ]
         },
         "layout": {
          "annotationdefaults": {
           "arrowcolor": "#2a3f5f",
           "arrowhead": 0,
           "arrowwidth": 1
          },
          "autotypenumbers": "strict",
          "coloraxis": {
           "colorbar": {
            "outlinewidth": 0,
            "ticks": ""
           }
          },
          "colorscale": {
           "diverging": [
            [
             0,
             "#8e0152"
            ],
            [
             0.1,
             "#c51b7d"
            ],
            [
             0.2,
             "#de77ae"
            ],
            [
             0.3,
             "#f1b6da"
            ],
            [
             0.4,
             "#fde0ef"
            ],
            [
             0.5,
             "#f7f7f7"
            ],
            [
             0.6,
             "#e6f5d0"
            ],
            [
             0.7,
             "#b8e186"
            ],
            [
             0.8,
             "#7fbc41"
            ],
            [
             0.9,
             "#4d9221"
            ],
            [
             1,
             "#276419"
            ]
           ],
           "sequential": [
            [
             0,
             "#0d0887"
            ],
            [
             0.1111111111111111,
             "#46039f"
            ],
            [
             0.2222222222222222,
             "#7201a8"
            ],
            [
             0.3333333333333333,
             "#9c179e"
            ],
            [
             0.4444444444444444,
             "#bd3786"
            ],
            [
             0.5555555555555556,
             "#d8576b"
            ],
            [
             0.6666666666666666,
             "#ed7953"
            ],
            [
             0.7777777777777778,
             "#fb9f3a"
            ],
            [
             0.8888888888888888,
             "#fdca26"
            ],
            [
             1,
             "#f0f921"
            ]
           ],
           "sequentialminus": [
            [
             0,
             "#0d0887"
            ],
            [
             0.1111111111111111,
             "#46039f"
            ],
            [
             0.2222222222222222,
             "#7201a8"
            ],
            [
             0.3333333333333333,
             "#9c179e"
            ],
            [
             0.4444444444444444,
             "#bd3786"
            ],
            [
             0.5555555555555556,
             "#d8576b"
            ],
            [
             0.6666666666666666,
             "#ed7953"
            ],
            [
             0.7777777777777778,
             "#fb9f3a"
            ],
            [
             0.8888888888888888,
             "#fdca26"
            ],
            [
             1,
             "#f0f921"
            ]
           ]
          },
          "colorway": [
           "#636efa",
           "#EF553B",
           "#00cc96",
           "#ab63fa",
           "#FFA15A",
           "#19d3f3",
           "#FF6692",
           "#B6E880",
           "#FF97FF",
           "#FECB52"
          ],
          "font": {
           "color": "#2a3f5f"
          },
          "geo": {
           "bgcolor": "white",
           "lakecolor": "white",
           "landcolor": "#E5ECF6",
           "showlakes": true,
           "showland": true,
           "subunitcolor": "white"
          },
          "hoverlabel": {
           "align": "left"
          },
          "hovermode": "closest",
          "mapbox": {
           "style": "light"
          },
          "paper_bgcolor": "white",
          "plot_bgcolor": "#E5ECF6",
          "polar": {
           "angularaxis": {
            "gridcolor": "white",
            "linecolor": "white",
            "ticks": ""
           },
           "bgcolor": "#E5ECF6",
           "radialaxis": {
            "gridcolor": "white",
            "linecolor": "white",
            "ticks": ""
           }
          },
          "scene": {
           "xaxis": {
            "backgroundcolor": "#E5ECF6",
            "gridcolor": "white",
            "gridwidth": 2,
            "linecolor": "white",
            "showbackground": true,
            "ticks": "",
            "zerolinecolor": "white"
           },
           "yaxis": {
            "backgroundcolor": "#E5ECF6",
            "gridcolor": "white",
            "gridwidth": 2,
            "linecolor": "white",
            "showbackground": true,
            "ticks": "",
            "zerolinecolor": "white"
           },
           "zaxis": {
            "backgroundcolor": "#E5ECF6",
            "gridcolor": "white",
            "gridwidth": 2,
            "linecolor": "white",
            "showbackground": true,
            "ticks": "",
            "zerolinecolor": "white"
           }
          },
          "shapedefaults": {
           "line": {
            "color": "#2a3f5f"
           }
          },
          "ternary": {
           "aaxis": {
            "gridcolor": "white",
            "linecolor": "white",
            "ticks": ""
           },
           "baxis": {
            "gridcolor": "white",
            "linecolor": "white",
            "ticks": ""
           },
           "bgcolor": "#E5ECF6",
           "caxis": {
            "gridcolor": "white",
            "linecolor": "white",
            "ticks": ""
           }
          },
          "title": {
           "x": 0.05
          },
          "xaxis": {
           "automargin": true,
           "gridcolor": "white",
           "linecolor": "white",
           "ticks": "",
           "title": {
            "standoff": 15
           },
           "zerolinecolor": "white",
           "zerolinewidth": 2
          },
          "yaxis": {
           "automargin": true,
           "gridcolor": "white",
           "linecolor": "white",
           "ticks": "",
           "title": {
            "standoff": 15
           },
           "zerolinecolor": "white",
           "zerolinewidth": 2
          }
         }
        },
        "title": {
         "text": "Prediction vs Actual Values for Location 4 (MAPE: 0.27108, RMSE: 87.20220)"
        },
        "xaxis": {
         "anchor": "y",
         "domain": [
          0,
          1
         ],
         "title": {
          "text": "Datetime"
         }
        },
        "yaxis": {
         "anchor": "x",
         "domain": [
          0,
          1
         ],
         "title": {
          "text": "Value"
         }
        }
       }
      }
     },
     "metadata": {},
     "output_type": "display_data"
    },
    {
     "data": {
      "application/vnd.plotly.v1+json": {
       "config": {
        "plotlyServerURL": "https://plot.ly"
       },
       "data": [
        {
         "hovertemplate": "variable=VALUE<br>Datetime=%{x}<br>Value=%{y}<extra></extra>",
         "legendgroup": "VALUE",
         "line": {
          "color": "#636efa",
          "dash": "solid"
         },
         "marker": {
          "symbol": "circle"
         },
         "mode": "lines",
         "name": "VALUE",
         "orientation": "v",
         "showlegend": true,
         "type": "scatter",
         "x": [
          "2010-07-01T00:00:00",
          "2010-07-01T00:05:00",
          "2010-07-01T00:10:00",
          "2010-07-01T00:15:00",
          "2010-07-01T00:20:00",
          "2010-07-01T00:25:00",
          "2010-07-01T00:30:00",
          "2010-07-01T00:35:00",
          "2010-07-01T00:40:00",
          "2010-07-01T00:45:00",
          "2010-07-01T00:50:00",
          "2010-07-01T00:55:00",
          "2010-07-01T01:00:00",
          "2010-07-01T01:05:00",
          "2010-07-01T01:10:00",
          "2010-07-01T01:15:00",
          "2010-07-01T01:20:00",
          "2010-07-01T01:25:00",
          "2010-07-01T01:30:00",
          "2010-07-01T01:35:00",
          "2010-07-01T01:40:00",
          "2010-07-01T01:45:00",
          "2010-07-01T01:50:00",
          "2010-07-01T01:55:00",
          "2010-07-01T02:00:00",
          "2010-07-01T02:05:00",
          "2010-07-01T02:10:00",
          "2010-07-01T02:15:00",
          "2010-07-01T02:20:00",
          "2010-07-01T02:25:00",
          "2010-07-01T02:30:00",
          "2010-07-01T02:35:00",
          "2010-07-01T02:40:00",
          "2010-07-01T02:45:00",
          "2010-07-01T02:50:00",
          "2010-07-01T02:55:00",
          "2010-07-01T03:00:00",
          "2010-07-01T03:05:00",
          "2010-07-01T03:10:00",
          "2010-07-01T03:15:00",
          "2010-07-01T03:20:00",
          "2010-07-01T03:25:00",
          "2010-07-01T03:30:00",
          "2010-07-01T03:35:00",
          "2010-07-01T03:40:00",
          "2010-07-01T03:45:00",
          "2010-07-01T03:50:00",
          "2010-07-01T03:55:00",
          "2010-07-01T04:00:00",
          "2010-07-01T04:05:00",
          "2010-07-01T04:10:00",
          "2010-07-01T04:15:00",
          "2010-07-01T04:20:00",
          "2010-07-01T04:25:00",
          "2010-07-01T04:30:00",
          "2010-07-01T04:35:00",
          "2010-07-01T04:40:00",
          "2010-07-01T04:45:00",
          "2010-07-01T04:50:00",
          "2010-07-01T04:55:00",
          "2010-07-01T05:00:00",
          "2010-07-01T05:05:00",
          "2010-07-01T05:10:00",
          "2010-07-01T05:15:00",
          "2010-07-01T05:20:00",
          "2010-07-01T05:25:00",
          "2010-07-01T05:30:00",
          "2010-07-01T05:35:00",
          "2010-07-01T05:40:00",
          "2010-07-01T05:45:00",
          "2010-07-01T05:50:00",
          "2010-07-01T05:55:00",
          "2010-07-01T06:00:00",
          "2010-07-01T06:05:00",
          "2010-07-01T06:10:00",
          "2010-07-01T06:15:00",
          "2010-07-01T06:20:00",
          "2010-07-01T06:25:00",
          "2010-07-01T06:30:00",
          "2010-07-01T06:35:00",
          "2010-07-01T06:40:00",
          "2010-07-01T06:45:00",
          "2010-07-01T06:50:00",
          "2010-07-01T06:55:00",
          "2010-07-01T07:00:00",
          "2010-07-01T07:05:00",
          "2010-07-01T07:10:00",
          "2010-07-01T07:15:00",
          "2010-07-01T07:20:00",
          "2010-07-01T07:25:00",
          "2010-07-01T07:30:00",
          "2010-07-01T07:35:00",
          "2010-07-01T07:40:00",
          "2010-07-01T07:45:00",
          "2010-07-01T07:50:00",
          "2010-07-01T07:55:00",
          "2010-07-01T08:00:00",
          "2010-07-01T08:05:00",
          "2010-07-01T08:10:00",
          "2010-07-01T08:15:00",
          "2010-07-01T08:20:00",
          "2010-07-01T08:25:00",
          "2010-07-01T08:30:00",
          "2010-07-01T08:35:00",
          "2010-07-01T08:40:00",
          "2010-07-01T08:45:00",
          "2010-07-01T08:50:00",
          "2010-07-01T08:55:00",
          "2010-07-01T09:00:00",
          "2010-07-01T09:05:00",
          "2010-07-01T09:10:00",
          "2010-07-01T09:15:00",
          "2010-07-01T09:20:00",
          "2010-07-01T09:25:00",
          "2010-07-01T09:30:00",
          "2010-07-01T09:35:00",
          "2010-07-01T09:40:00",
          "2010-07-01T09:45:00",
          "2010-07-01T09:50:00",
          "2010-07-01T09:55:00",
          "2010-07-01T10:00:00",
          "2010-07-01T10:05:00",
          "2010-07-01T10:10:00",
          "2010-07-01T10:15:00",
          "2010-07-01T10:20:00",
          "2010-07-01T10:25:00",
          "2010-07-01T10:30:00",
          "2010-07-01T10:35:00",
          "2010-07-01T10:40:00",
          "2010-07-01T10:45:00",
          "2010-07-01T10:50:00",
          "2010-07-01T10:55:00",
          "2010-07-01T11:00:00",
          "2010-07-01T11:05:00",
          "2010-07-01T11:10:00",
          "2010-07-01T11:15:00",
          "2010-07-01T11:20:00",
          "2010-07-01T11:25:00",
          "2010-07-01T11:30:00",
          "2010-07-01T11:35:00",
          "2010-07-01T11:40:00",
          "2010-07-01T11:45:00",
          "2010-07-01T11:50:00",
          "2010-07-01T11:55:00",
          "2010-07-01T12:00:00",
          "2010-07-01T12:05:00",
          "2010-07-01T12:10:00",
          "2010-07-01T12:15:00",
          "2010-07-01T12:20:00",
          "2010-07-01T12:25:00",
          "2010-07-01T12:30:00",
          "2010-07-01T12:35:00",
          "2010-07-01T12:40:00",
          "2010-07-01T12:45:00",
          "2010-07-01T12:50:00",
          "2010-07-01T12:55:00",
          "2010-07-01T13:00:00",
          "2010-07-01T13:05:00",
          "2010-07-01T13:10:00",
          "2010-07-01T13:15:00",
          "2010-07-01T13:20:00",
          "2010-07-01T13:25:00",
          "2010-07-01T13:30:00",
          "2010-07-01T13:35:00",
          "2010-07-01T13:40:00",
          "2010-07-01T13:45:00",
          "2010-07-01T13:50:00",
          "2010-07-01T13:55:00",
          "2010-07-01T14:00:00",
          "2010-07-01T14:05:00",
          "2010-07-01T14:10:00",
          "2010-07-01T14:15:00",
          "2010-07-01T14:20:00",
          "2010-07-01T14:25:00",
          "2010-07-01T14:30:00",
          "2010-07-01T14:35:00",
          "2010-07-01T14:40:00",
          "2010-07-01T14:45:00",
          "2010-07-01T14:50:00",
          "2010-07-01T14:55:00",
          "2010-07-01T15:00:00",
          "2010-07-01T15:05:00",
          "2010-07-01T15:10:00",
          "2010-07-01T15:15:00",
          "2010-07-01T15:20:00",
          "2010-07-01T15:25:00",
          "2010-07-01T15:30:00",
          "2010-07-01T15:35:00",
          "2010-07-01T15:40:00",
          "2010-07-01T15:45:00",
          "2010-07-01T15:50:00",
          "2010-07-01T15:55:00",
          "2010-07-01T16:00:00",
          "2010-07-01T16:05:00",
          "2010-07-01T16:10:00",
          "2010-07-01T16:15:00",
          "2010-07-01T16:20:00",
          "2010-07-01T16:25:00",
          "2010-07-01T16:30:00",
          "2010-07-01T16:35:00",
          "2010-07-01T16:40:00",
          "2010-07-01T16:45:00",
          "2010-07-01T16:50:00",
          "2010-07-01T16:55:00",
          "2010-07-01T17:00:00",
          "2010-07-01T17:05:00",
          "2010-07-01T17:10:00",
          "2010-07-01T17:15:00",
          "2010-07-01T17:20:00",
          "2010-07-01T17:25:00",
          "2010-07-01T17:30:00",
          "2010-07-01T17:35:00",
          "2010-07-01T17:40:00",
          "2010-07-01T17:45:00",
          "2010-07-01T17:50:00",
          "2010-07-01T17:55:00",
          "2010-07-01T18:00:00",
          "2010-07-01T18:05:00",
          "2010-07-01T18:10:00",
          "2010-07-01T18:15:00",
          "2010-07-01T18:20:00",
          "2010-07-01T18:25:00",
          "2010-07-01T18:30:00",
          "2010-07-01T18:35:00",
          "2010-07-01T18:40:00",
          "2010-07-01T18:45:00",
          "2010-07-01T18:50:00",
          "2010-07-01T18:55:00",
          "2010-07-01T19:00:00",
          "2010-07-01T19:05:00",
          "2010-07-01T19:10:00",
          "2010-07-01T19:15:00",
          "2010-07-01T19:20:00",
          "2010-07-01T19:25:00",
          "2010-07-01T19:30:00",
          "2010-07-01T19:35:00",
          "2010-07-01T19:40:00",
          "2010-07-01T19:45:00",
          "2010-07-01T19:50:00",
          "2010-07-01T19:55:00",
          "2010-07-01T20:00:00",
          "2010-07-01T20:05:00",
          "2010-07-01T20:10:00",
          "2010-07-01T20:15:00",
          "2010-07-01T20:20:00",
          "2010-07-01T20:25:00",
          "2010-07-01T20:30:00",
          "2010-07-01T20:35:00",
          "2010-07-01T20:40:00",
          "2010-07-01T20:45:00",
          "2010-07-01T20:50:00",
          "2010-07-01T20:55:00",
          "2010-07-01T21:00:00",
          "2010-07-01T21:05:00",
          "2010-07-01T21:10:00",
          "2010-07-01T21:15:00",
          "2010-07-01T21:20:00",
          "2010-07-01T21:25:00",
          "2010-07-01T21:30:00",
          "2010-07-01T21:35:00",
          "2010-07-01T21:40:00",
          "2010-07-01T21:45:00",
          "2010-07-01T21:50:00",
          "2010-07-01T21:55:00",
          "2010-07-01T22:00:00",
          "2010-07-01T22:05:00",
          "2010-07-01T22:10:00",
          "2010-07-01T22:15:00",
          "2010-07-01T22:20:00",
          "2010-07-01T22:25:00",
          "2010-07-01T22:30:00",
          "2010-07-01T22:35:00",
          "2010-07-01T22:40:00",
          "2010-07-01T22:45:00",
          "2010-07-01T22:50:00",
          "2010-07-01T22:55:00",
          "2010-07-01T23:00:00",
          "2010-07-01T23:05:00",
          "2010-07-01T23:10:00",
          "2010-07-01T23:15:00",
          "2010-07-01T23:20:00",
          "2010-07-01T23:25:00",
          "2010-07-01T23:30:00",
          "2010-07-01T23:35:00",
          "2010-07-01T23:40:00",
          "2010-07-01T23:45:00",
          "2010-07-01T23:50:00",
          "2010-07-01T23:55:00"
         ],
         "xaxis": "x",
         "y": [
          769.2,
          830.81,
          875.33,
          921.64,
          914.89,
          893.27,
          895,
          879.51,
          855.24,
          877,
          896.19,
          896.09,
          923.77,
          1000.92,
          988.35,
          942.19,
          929.66,
          911.58,
          903.22,
          907.44,
          895.63,
          880.49,
          907.04,
          891.88,
          915.73,
          939.74,
          970.91,
          994.94,
          1010.29,
          1001.81,
          1002.59,
          1004.85,
          981.69,
          1032.3,
          1026.27,
          1019.03,
          1045.79,
          1055.63,
          1030.65,
          1009.89,
          1028.88,
          1017.01,
          1023.66,
          1007.58,
          1019.34,
          1019.18,
          1024.8,
          1012.47,
          1005.82,
          1019.99,
          1025.61,
          1012.69,
          1036.83,
          1037.38,
          1025.15,
          1012.92,
          1005.64,
          997.53,
          1022.96,
          996.44,
          1009.79,
          1015.07,
          1047.81,
          1072.84,
          1050.69,
          1063.14,
          1068.75,
          1074.54,
          1090.92,
          1051.6,
          1065.89,
          1050.46,
          1041.71,
          1055.39,
          1039.25,
          1033.07,
          1023.66,
          1031.96,
          1002.57,
          1063.34,
          1038.65,
          1048.11,
          1081.22,
          1064.4,
          1035.17,
          1027.69,
          981.46,
          997.34,
          986.49,
          1030.28,
          1055.76,
          1083.81,
          1061.77,
          1079.11,
          1097.08,
          1103.13,
          1040.04,
          989.4,
          1013.83,
          1008.85,
          1046.49,
          1077.78,
          1064.05,
          1089.8,
          1066.61,
          1042.4,
          1046.94,
          1034.23,
          946.1,
          898.41,
          887.25,
          897.23,
          923.815,
          950.4,
          989.27,
          990.27,
          991.27,
          986.24,
          1004.6,
          992.71,
          949.63,
          887.93,
          839.22,
          880.1,
          830.48,
          840.95,
          845.17,
          861.42,
          841.68,
          851.48,
          863.48,
          846.38,
          814.9,
          788.72,
          818.87,
          819.16,
          814.38,
          808.45,
          830.53,
          835.18,
          826.02,
          800.83,
          793.31,
          785.78,
          772.18,
          675.01,
          633.02,
          682.3,
          688.55,
          673.04,
          669.93,
          662.53,
          679.1,
          694.06,
          699.9,
          658.72,
          668.45,
          666.16,
          676.79,
          679.41,
          649.58,
          614.6,
          586.36,
          615.75,
          590.74,
          590.09,
          613.63,
          584.68,
          552.8,
          568.58,
          541.54,
          570.84,
          555.41,
          569.38,
          572.95,
          574.99,
          571.03,
          565.48,
          534.32,
          525.26,
          525.96,
          573.92,
          542.17,
          546.48,
          581.42,
          555.8,
          540.89,
          529.34,
          513.07,
          519.72,
          521.01,
          507.08,
          531.78,
          556.65,
          551.01,
          563.3,
          569.47,
          548.64,
          545.2,
          580.5,
          581.47,
          602.21,
          575.23,
          598.31,
          704.29,
          743.76,
          782.56,
          749.76,
          748.38,
          783.91,
          770.25,
          771.4,
          753.83,
          783.43,
          746.41,
          739.98,
          728.74,
          762.43,
          743.58,
          752.51,
          769.72,
          773.74,
          785.55,
          786.68,
          782.58,
          793.17,
          790.42,
          809.45,
          866.87,
          912.13,
          886.03,
          881.58,
          894.94,
          886.87,
          877.98,
          901.58,
          876.74,
          896.71,
          923.39,
          904.64,
          941.98,
          925.31,
          945.45,
          938.15,
          943.64,
          941.98,
          910.64,
          891.89,
          903.52,
          872.31,
          909.46,
          893.91,
          911.55,
          958.06,
          920.54,
          899.3,
          964.43,
          939.6,
          935.01,
          934.99,
          917.48,
          924.38,
          868.87,
          878.32,
          829.98,
          857.62,
          848.72,
          854.66,
          877.2,
          834.24,
          776.74,
          739.33,
          695.65,
          730.9,
          761.7,
          733.19,
          778.28,
          818.46,
          839.96,
          855.38,
          879.69,
          854.96,
          828.41,
          815.97,
          845.82,
          856.5,
          840.6,
          799.67
         ],
         "yaxis": "y"
        },
        {
         "hovertemplate": "variable=prediction<br>Datetime=%{x}<br>Value=%{y}<extra></extra>",
         "legendgroup": "prediction",
         "line": {
          "color": "#EF553B",
          "dash": "solid"
         },
         "marker": {
          "symbol": "circle"
         },
         "mode": "lines",
         "name": "prediction",
         "orientation": "v",
         "showlegend": true,
         "type": "scatter",
         "x": [
          "2010-07-01T00:00:00",
          "2010-07-01T00:05:00",
          "2010-07-01T00:10:00",
          "2010-07-01T00:15:00",
          "2010-07-01T00:20:00",
          "2010-07-01T00:25:00",
          "2010-07-01T00:30:00",
          "2010-07-01T00:35:00",
          "2010-07-01T00:40:00",
          "2010-07-01T00:45:00",
          "2010-07-01T00:50:00",
          "2010-07-01T00:55:00",
          "2010-07-01T01:00:00",
          "2010-07-01T01:05:00",
          "2010-07-01T01:10:00",
          "2010-07-01T01:15:00",
          "2010-07-01T01:20:00",
          "2010-07-01T01:25:00",
          "2010-07-01T01:30:00",
          "2010-07-01T01:35:00",
          "2010-07-01T01:40:00",
          "2010-07-01T01:45:00",
          "2010-07-01T01:50:00",
          "2010-07-01T01:55:00",
          "2010-07-01T02:00:00",
          "2010-07-01T02:05:00",
          "2010-07-01T02:10:00",
          "2010-07-01T02:15:00",
          "2010-07-01T02:20:00",
          "2010-07-01T02:25:00",
          "2010-07-01T02:30:00",
          "2010-07-01T02:35:00",
          "2010-07-01T02:40:00",
          "2010-07-01T02:45:00",
          "2010-07-01T02:50:00",
          "2010-07-01T02:55:00",
          "2010-07-01T03:00:00",
          "2010-07-01T03:05:00",
          "2010-07-01T03:10:00",
          "2010-07-01T03:15:00",
          "2010-07-01T03:20:00",
          "2010-07-01T03:25:00",
          "2010-07-01T03:30:00",
          "2010-07-01T03:35:00",
          "2010-07-01T03:40:00",
          "2010-07-01T03:45:00",
          "2010-07-01T03:50:00",
          "2010-07-01T03:55:00",
          "2010-07-01T04:00:00",
          "2010-07-01T04:05:00",
          "2010-07-01T04:10:00",
          "2010-07-01T04:15:00",
          "2010-07-01T04:20:00",
          "2010-07-01T04:25:00",
          "2010-07-01T04:30:00",
          "2010-07-01T04:35:00",
          "2010-07-01T04:40:00",
          "2010-07-01T04:45:00",
          "2010-07-01T04:50:00",
          "2010-07-01T04:55:00",
          "2010-07-01T05:00:00",
          "2010-07-01T05:05:00",
          "2010-07-01T05:10:00",
          "2010-07-01T05:15:00",
          "2010-07-01T05:20:00",
          "2010-07-01T05:25:00",
          "2010-07-01T05:30:00",
          "2010-07-01T05:35:00",
          "2010-07-01T05:40:00",
          "2010-07-01T05:45:00",
          "2010-07-01T05:50:00",
          "2010-07-01T05:55:00",
          "2010-07-01T06:00:00",
          "2010-07-01T06:05:00",
          "2010-07-01T06:10:00",
          "2010-07-01T06:15:00",
          "2010-07-01T06:20:00",
          "2010-07-01T06:25:00",
          "2010-07-01T06:30:00",
          "2010-07-01T06:35:00",
          "2010-07-01T06:40:00",
          "2010-07-01T06:45:00",
          "2010-07-01T06:50:00",
          "2010-07-01T06:55:00",
          "2010-07-01T07:00:00",
          "2010-07-01T07:05:00",
          "2010-07-01T07:10:00",
          "2010-07-01T07:15:00",
          "2010-07-01T07:20:00",
          "2010-07-01T07:25:00",
          "2010-07-01T07:30:00",
          "2010-07-01T07:35:00",
          "2010-07-01T07:40:00",
          "2010-07-01T07:45:00",
          "2010-07-01T07:50:00",
          "2010-07-01T07:55:00",
          "2010-07-01T08:00:00",
          "2010-07-01T08:05:00",
          "2010-07-01T08:10:00",
          "2010-07-01T08:15:00",
          "2010-07-01T08:20:00",
          "2010-07-01T08:25:00",
          "2010-07-01T08:30:00",
          "2010-07-01T08:35:00",
          "2010-07-01T08:40:00",
          "2010-07-01T08:45:00",
          "2010-07-01T08:50:00",
          "2010-07-01T08:55:00",
          "2010-07-01T09:00:00",
          "2010-07-01T09:05:00",
          "2010-07-01T09:10:00",
          "2010-07-01T09:15:00",
          "2010-07-01T09:20:00",
          "2010-07-01T09:25:00",
          "2010-07-01T09:30:00",
          "2010-07-01T09:35:00",
          "2010-07-01T09:40:00",
          "2010-07-01T09:45:00",
          "2010-07-01T09:50:00",
          "2010-07-01T09:55:00",
          "2010-07-01T10:00:00",
          "2010-07-01T10:05:00",
          "2010-07-01T10:10:00",
          "2010-07-01T10:15:00",
          "2010-07-01T10:20:00",
          "2010-07-01T10:25:00",
          "2010-07-01T10:30:00",
          "2010-07-01T10:35:00",
          "2010-07-01T10:40:00",
          "2010-07-01T10:45:00",
          "2010-07-01T10:50:00",
          "2010-07-01T10:55:00",
          "2010-07-01T11:00:00",
          "2010-07-01T11:05:00",
          "2010-07-01T11:10:00",
          "2010-07-01T11:15:00",
          "2010-07-01T11:20:00",
          "2010-07-01T11:25:00",
          "2010-07-01T11:30:00",
          "2010-07-01T11:35:00",
          "2010-07-01T11:40:00",
          "2010-07-01T11:45:00",
          "2010-07-01T11:50:00",
          "2010-07-01T11:55:00",
          "2010-07-01T12:00:00",
          "2010-07-01T12:05:00",
          "2010-07-01T12:10:00",
          "2010-07-01T12:15:00",
          "2010-07-01T12:20:00",
          "2010-07-01T12:25:00",
          "2010-07-01T12:30:00",
          "2010-07-01T12:35:00",
          "2010-07-01T12:40:00",
          "2010-07-01T12:45:00",
          "2010-07-01T12:50:00",
          "2010-07-01T12:55:00",
          "2010-07-01T13:00:00",
          "2010-07-01T13:05:00",
          "2010-07-01T13:10:00",
          "2010-07-01T13:15:00",
          "2010-07-01T13:20:00",
          "2010-07-01T13:25:00",
          "2010-07-01T13:30:00",
          "2010-07-01T13:35:00",
          "2010-07-01T13:40:00",
          "2010-07-01T13:45:00",
          "2010-07-01T13:50:00",
          "2010-07-01T13:55:00",
          "2010-07-01T14:00:00",
          "2010-07-01T14:05:00",
          "2010-07-01T14:10:00",
          "2010-07-01T14:15:00",
          "2010-07-01T14:20:00",
          "2010-07-01T14:25:00",
          "2010-07-01T14:30:00",
          "2010-07-01T14:35:00",
          "2010-07-01T14:40:00",
          "2010-07-01T14:45:00",
          "2010-07-01T14:50:00",
          "2010-07-01T14:55:00",
          "2010-07-01T15:00:00",
          "2010-07-01T15:05:00",
          "2010-07-01T15:10:00",
          "2010-07-01T15:15:00",
          "2010-07-01T15:20:00",
          "2010-07-01T15:25:00",
          "2010-07-01T15:30:00",
          "2010-07-01T15:35:00",
          "2010-07-01T15:40:00",
          "2010-07-01T15:45:00",
          "2010-07-01T15:50:00",
          "2010-07-01T15:55:00",
          "2010-07-01T16:00:00",
          "2010-07-01T16:05:00",
          "2010-07-01T16:10:00",
          "2010-07-01T16:15:00",
          "2010-07-01T16:20:00",
          "2010-07-01T16:25:00",
          "2010-07-01T16:30:00",
          "2010-07-01T16:35:00",
          "2010-07-01T16:40:00",
          "2010-07-01T16:45:00",
          "2010-07-01T16:50:00",
          "2010-07-01T16:55:00",
          "2010-07-01T17:00:00",
          "2010-07-01T17:05:00",
          "2010-07-01T17:10:00",
          "2010-07-01T17:15:00",
          "2010-07-01T17:20:00",
          "2010-07-01T17:25:00",
          "2010-07-01T17:30:00",
          "2010-07-01T17:35:00",
          "2010-07-01T17:40:00",
          "2010-07-01T17:45:00",
          "2010-07-01T17:50:00",
          "2010-07-01T17:55:00",
          "2010-07-01T18:00:00",
          "2010-07-01T18:05:00",
          "2010-07-01T18:10:00",
          "2010-07-01T18:15:00",
          "2010-07-01T18:20:00",
          "2010-07-01T18:25:00",
          "2010-07-01T18:30:00",
          "2010-07-01T18:35:00",
          "2010-07-01T18:40:00",
          "2010-07-01T18:45:00",
          "2010-07-01T18:50:00",
          "2010-07-01T18:55:00",
          "2010-07-01T19:00:00",
          "2010-07-01T19:05:00",
          "2010-07-01T19:10:00",
          "2010-07-01T19:15:00",
          "2010-07-01T19:20:00",
          "2010-07-01T19:25:00",
          "2010-07-01T19:30:00",
          "2010-07-01T19:35:00",
          "2010-07-01T19:40:00",
          "2010-07-01T19:45:00",
          "2010-07-01T19:50:00",
          "2010-07-01T19:55:00",
          "2010-07-01T20:00:00",
          "2010-07-01T20:05:00",
          "2010-07-01T20:10:00",
          "2010-07-01T20:15:00",
          "2010-07-01T20:20:00",
          "2010-07-01T20:25:00",
          "2010-07-01T20:30:00",
          "2010-07-01T20:35:00",
          "2010-07-01T20:40:00",
          "2010-07-01T20:45:00",
          "2010-07-01T20:50:00",
          "2010-07-01T20:55:00",
          "2010-07-01T21:00:00",
          "2010-07-01T21:05:00",
          "2010-07-01T21:10:00",
          "2010-07-01T21:15:00",
          "2010-07-01T21:20:00",
          "2010-07-01T21:25:00",
          "2010-07-01T21:30:00",
          "2010-07-01T21:35:00",
          "2010-07-01T21:40:00",
          "2010-07-01T21:45:00",
          "2010-07-01T21:50:00",
          "2010-07-01T21:55:00",
          "2010-07-01T22:00:00",
          "2010-07-01T22:05:00",
          "2010-07-01T22:10:00",
          "2010-07-01T22:15:00",
          "2010-07-01T22:20:00",
          "2010-07-01T22:25:00",
          "2010-07-01T22:30:00",
          "2010-07-01T22:35:00",
          "2010-07-01T22:40:00",
          "2010-07-01T22:45:00",
          "2010-07-01T22:50:00",
          "2010-07-01T22:55:00",
          "2010-07-01T23:00:00",
          "2010-07-01T23:05:00",
          "2010-07-01T23:10:00",
          "2010-07-01T23:15:00",
          "2010-07-01T23:20:00",
          "2010-07-01T23:25:00",
          "2010-07-01T23:30:00",
          "2010-07-01T23:35:00",
          "2010-07-01T23:40:00",
          "2010-07-01T23:45:00",
          "2010-07-01T23:50:00",
          "2010-07-01T23:55:00"
         ],
         "xaxis": "x",
         "y": [
          816.0212603070977,
          909.1698653872131,
          948.6424323638787,
          991.5832976178375,
          985.93776136413,
          950.4381778697257,
          942.9020480612816,
          969.8428289291821,
          924.4961386210741,
          940.2266167025025,
          934.8891863467629,
          896.4643323711039,
          910.4760105021572,
          944.9696744674027,
          879.5209346800538,
          888.1788771796782,
          901.1753673853722,
          884.7729540932452,
          921.4455044591646,
          880.1912652253603,
          853.8019276079064,
          882.9814900335688,
          877.4923190356686,
          883.1559403639387,
          925.6038764526016,
          954.8149574956632,
          926.6643556291382,
          929.3552867330513,
          945.9371090300093,
          945.1936364148961,
          978.4574896547022,
          1023.7735127338865,
          1011.7724778095807,
          983.3700323240848,
          963.5551613642881,
          919.3680404163556,
          919.4251134757134,
          918.925914199887,
          907.3795799721961,
          931.6701036020672,
          930.3620943019492,
          930.3620943019492,
          928.2095743474557,
          924.6672371043196,
          907.3795799721961,
          951.556186893222,
          923.3592278042015,
          938.094980272671,
          971.8511246692071,
          998.5395980619631,
          1004.0481373863569,
          1008.76134042938,
          1007.4533311292619,
          1022.2300345060247,
          1027.8494558752575,
          1023.5380438061425,
          1029.1574651753758,
          1044.2864566982053,
          1024.4442621323528,
          1022.8519733320255,
          1018.4498130200384,
          963.1915549044431,
          1017.2309872861064,
          950.5308732640372,
          953.2046114515023,
          950.5308732640372,
          964.4852953039717,
          945.2628797616494,
          990.1543521650032,
          987.3787740957372,
          993.9286468631343,
          1017.0231332696146,
          980.3169173566223,
          1015.0886927776821,
          1087.5025796966715,
          1095.0578321865614,
          1036.3777544219715,
          1099.0972360987246,
          1083.7424431405425,
          1134.5918169007516,
          1110.165275785434,
          1137.3048162085597,
          1135.1332616230643,
          1137.3048162085597,
          1112.6075301659105,
          1099.1784129331056,
          1057.0234868033585,
          1086.3728271516186,
          1091.436919795932,
          1122.6695432371482,
          1126.7164610336897,
          1160.022534787519,
          1151.8995826214261,
          1151.8995826214261,
          1165.820954736635,
          1168.290581149704,
          1041.1542780100385,
          1001.7965028368802,
          1022.9606382239797,
          1034.8485122484976,
          1049.9896905816415,
          1050.9226492707576,
          1054.4689297951827,
          1059.5861332978732,
          1051.6645017555463,
          1110.293745623629,
          1103.4081122194111,
          1103.4081122194111,
          1057.6392048208752,
          993.6554701604246,
          978.0748409920424,
          959.9190810576797,
          1013.5556947629658,
          1047.1932136582227,
          1059.1755935060546,
          1061.7402800922482,
          1057.4956620262699,
          1065.5127069423888,
          1062.1954345149954,
          1063.9615599189456,
          1027.9570679754245,
          950.0748343239657,
          898.7397379061551,
          953.1502060518396,
          900.79998269802,
          908.1273976071565,
          909.9603725989518,
          933.3021595895318,
          887.5205378430114,
          926.7780218760647,
          903.2368632017276,
          931.3935664496149,
          896.2926972909011,
          858.3746726104622,
          875.4366992822094,
          888.2866516016064,
          890.3037292524249,
          881.7735666638475,
          907.441485811784,
          889.6115820258323,
          889.9030095804399,
          872.1423489162024,
          854.5056090890188,
          849.4356321098879,
          830.0841450110936,
          738.9475997494545,
          718.1783253453392,
          736.9736603339425,
          760.2360251081856,
          754.1353315639458,
          743.1393753323209,
          739.56950345824,
          750.7623257833953,
          748.4342258948063,
          759.0634784256321,
          727.6496377089052,
          716.7429763759189,
          707.6736038366228,
          709.8614875269359,
          710.720495408288,
          706.6990411965096,
          687.9757736988602,
          664.5143268005664,
          694.7360464769682,
          662.0271008547137,
          649.7766452934941,
          656.2613432816183,
          656.7306925226854,
          636.9239558557407,
          661.2135905004849,
          631.0222898287124,
          646.0841354166802,
          637.80858939861,
          657.6879667854543,
          651.9368944779105,
          648.2894532146665,
          646.6029246002198,
          650.3090021910502,
          641.5861624375747,
          634.1883896516341,
          630.3540044616848,
          698.5290240588309,
          704.6148476842264,
          721.4501998612639,
          730.8182277807273,
          726.0891559828849,
          724.6633890168504,
          747.8481759484638,
          771.6445999549634,
          720.4204141947412,
          722.5322373268234,
          721.4092114923718,
          774.0553028166398,
          760.0007429373344,
          748.3743832503712,
          766.2742335996917,
          769.5888204378533,
          730.5578219424266,
          725.8504614975134,
          729.8176553677747,
          728.6640125576956,
          747.844415836259,
          735.0156645561699,
          726.0954046573595,
          765.8777926259567,
          825.0623401676798,
          850.6314621661527,
          823.1015715631805,
          819.4631212735891,
          856.7816676040303,
          843.9198917325376,
          841.680683233974,
          835.5053787986342,
          847.4411577663932,
          826.4927075375149,
          840.1541218324046,
          812.8428369467339,
          827.0154573444016,
          805.0845894504905,
          814.796869343566,
          811.9920146430849,
          816.1783453555795,
          815.9161641949412,
          837.069565230819,
          820.2505105824198,
          822.1411326835423,
          829.8410157779455,
          846.4072862063249,
          921.4997262915347,
          988.5324395931003,
          978.5847867314127,
          978.5847867314127,
          980.1836836725295,
          978.743496694797,
          981.0932518683843,
          993.5340783147393,
          979.6762369035039,
          996.3613407203665,
          1007.1647337817219,
          994.451463228807,
          1057.8255859479955,
          1037.8564992778688,
          1101.021310597057,
          1120.4462418358637,
          1099.8097121367055,
          1096.987968698576,
          1043.5069860251556,
          1037.7868881553343,
          1049.4857552075377,
          1055.7162761511659,
          1077.867012271695,
          1062.3902994695538,
          1064.2373949015887,
          1128.2140923905222,
          1118.299616529403,
          1034.9709195956013,
          1075.5715581982492,
          1063.9013711930263,
          1024.2905092964013,
          1019.2165497450972,
          1019.6839342746011,
          1018.8530012997297,
          973.1690291347883,
          991.182595213266,
          914.998953998984,
          895.1957317569589,
          863.5559199402451,
          871.8250556488854,
          892.0269190331632,
          805.3621511493551,
          789.0082576083014,
          729.3849715294479,
          720.827720755745,
          737.8105300268941,
          759.4347733540073,
          733.307202916139,
          759.5347202766737,
          808.8500543847496,
          832.3898832161348,
          881.5791198018144,
          890.5765584659151,
          835.8948687580848,
          833.8119503002755,
          784.8077202649107,
          790.6215793512837,
          798.1541602909524,
          819.1371873079033,
          812.4721110564127
         ],
         "yaxis": "y"
        }
       ],
       "layout": {
        "legend": {
         "title": {
          "text": "variable"
         },
         "tracegroupgap": 0
        },
        "template": {
         "data": {
          "bar": [
           {
            "error_x": {
             "color": "#2a3f5f"
            },
            "error_y": {
             "color": "#2a3f5f"
            },
            "marker": {
             "line": {
              "color": "#E5ECF6",
              "width": 0.5
             },
             "pattern": {
              "fillmode": "overlay",
              "size": 10,
              "solidity": 0.2
             }
            },
            "type": "bar"
           }
          ],
          "barpolar": [
           {
            "marker": {
             "line": {
              "color": "#E5ECF6",
              "width": 0.5
             },
             "pattern": {
              "fillmode": "overlay",
              "size": 10,
              "solidity": 0.2
             }
            },
            "type": "barpolar"
           }
          ],
          "carpet": [
           {
            "aaxis": {
             "endlinecolor": "#2a3f5f",
             "gridcolor": "white",
             "linecolor": "white",
             "minorgridcolor": "white",
             "startlinecolor": "#2a3f5f"
            },
            "baxis": {
             "endlinecolor": "#2a3f5f",
             "gridcolor": "white",
             "linecolor": "white",
             "minorgridcolor": "white",
             "startlinecolor": "#2a3f5f"
            },
            "type": "carpet"
           }
          ],
          "choropleth": [
           {
            "colorbar": {
             "outlinewidth": 0,
             "ticks": ""
            },
            "type": "choropleth"
           }
          ],
          "contour": [
           {
            "colorbar": {
             "outlinewidth": 0,
             "ticks": ""
            },
            "colorscale": [
             [
              0,
              "#0d0887"
             ],
             [
              0.1111111111111111,
              "#46039f"
             ],
             [
              0.2222222222222222,
              "#7201a8"
             ],
             [
              0.3333333333333333,
              "#9c179e"
             ],
             [
              0.4444444444444444,
              "#bd3786"
             ],
             [
              0.5555555555555556,
              "#d8576b"
             ],
             [
              0.6666666666666666,
              "#ed7953"
             ],
             [
              0.7777777777777778,
              "#fb9f3a"
             ],
             [
              0.8888888888888888,
              "#fdca26"
             ],
             [
              1,
              "#f0f921"
             ]
            ],
            "type": "contour"
           }
          ],
          "contourcarpet": [
           {
            "colorbar": {
             "outlinewidth": 0,
             "ticks": ""
            },
            "type": "contourcarpet"
           }
          ],
          "heatmap": [
           {
            "colorbar": {
             "outlinewidth": 0,
             "ticks": ""
            },
            "colorscale": [
             [
              0,
              "#0d0887"
             ],
             [
              0.1111111111111111,
              "#46039f"
             ],
             [
              0.2222222222222222,
              "#7201a8"
             ],
             [
              0.3333333333333333,
              "#9c179e"
             ],
             [
              0.4444444444444444,
              "#bd3786"
             ],
             [
              0.5555555555555556,
              "#d8576b"
             ],
             [
              0.6666666666666666,
              "#ed7953"
             ],
             [
              0.7777777777777778,
              "#fb9f3a"
             ],
             [
              0.8888888888888888,
              "#fdca26"
             ],
             [
              1,
              "#f0f921"
             ]
            ],
            "type": "heatmap"
           }
          ],
          "heatmapgl": [
           {
            "colorbar": {
             "outlinewidth": 0,
             "ticks": ""
            },
            "colorscale": [
             [
              0,
              "#0d0887"
             ],
             [
              0.1111111111111111,
              "#46039f"
             ],
             [
              0.2222222222222222,
              "#7201a8"
             ],
             [
              0.3333333333333333,
              "#9c179e"
             ],
             [
              0.4444444444444444,
              "#bd3786"
             ],
             [
              0.5555555555555556,
              "#d8576b"
             ],
             [
              0.6666666666666666,
              "#ed7953"
             ],
             [
              0.7777777777777778,
              "#fb9f3a"
             ],
             [
              0.8888888888888888,
              "#fdca26"
             ],
             [
              1,
              "#f0f921"
             ]
            ],
            "type": "heatmapgl"
           }
          ],
          "histogram": [
           {
            "marker": {
             "pattern": {
              "fillmode": "overlay",
              "size": 10,
              "solidity": 0.2
             }
            },
            "type": "histogram"
           }
          ],
          "histogram2d": [
           {
            "colorbar": {
             "outlinewidth": 0,
             "ticks": ""
            },
            "colorscale": [
             [
              0,
              "#0d0887"
             ],
             [
              0.1111111111111111,
              "#46039f"
             ],
             [
              0.2222222222222222,
              "#7201a8"
             ],
             [
              0.3333333333333333,
              "#9c179e"
             ],
             [
              0.4444444444444444,
              "#bd3786"
             ],
             [
              0.5555555555555556,
              "#d8576b"
             ],
             [
              0.6666666666666666,
              "#ed7953"
             ],
             [
              0.7777777777777778,
              "#fb9f3a"
             ],
             [
              0.8888888888888888,
              "#fdca26"
             ],
             [
              1,
              "#f0f921"
             ]
            ],
            "type": "histogram2d"
           }
          ],
          "histogram2dcontour": [
           {
            "colorbar": {
             "outlinewidth": 0,
             "ticks": ""
            },
            "colorscale": [
             [
              0,
              "#0d0887"
             ],
             [
              0.1111111111111111,
              "#46039f"
             ],
             [
              0.2222222222222222,
              "#7201a8"
             ],
             [
              0.3333333333333333,
              "#9c179e"
             ],
             [
              0.4444444444444444,
              "#bd3786"
             ],
             [
              0.5555555555555556,
              "#d8576b"
             ],
             [
              0.6666666666666666,
              "#ed7953"
             ],
             [
              0.7777777777777778,
              "#fb9f3a"
             ],
             [
              0.8888888888888888,
              "#fdca26"
             ],
             [
              1,
              "#f0f921"
             ]
            ],
            "type": "histogram2dcontour"
           }
          ],
          "mesh3d": [
           {
            "colorbar": {
             "outlinewidth": 0,
             "ticks": ""
            },
            "type": "mesh3d"
           }
          ],
          "parcoords": [
           {
            "line": {
             "colorbar": {
              "outlinewidth": 0,
              "ticks": ""
             }
            },
            "type": "parcoords"
           }
          ],
          "pie": [
           {
            "automargin": true,
            "type": "pie"
           }
          ],
          "scatter": [
           {
            "fillpattern": {
             "fillmode": "overlay",
             "size": 10,
             "solidity": 0.2
            },
            "type": "scatter"
           }
          ],
          "scatter3d": [
           {
            "line": {
             "colorbar": {
              "outlinewidth": 0,
              "ticks": ""
             }
            },
            "marker": {
             "colorbar": {
              "outlinewidth": 0,
              "ticks": ""
             }
            },
            "type": "scatter3d"
           }
          ],
          "scattercarpet": [
           {
            "marker": {
             "colorbar": {
              "outlinewidth": 0,
              "ticks": ""
             }
            },
            "type": "scattercarpet"
           }
          ],
          "scattergeo": [
           {
            "marker": {
             "colorbar": {
              "outlinewidth": 0,
              "ticks": ""
             }
            },
            "type": "scattergeo"
           }
          ],
          "scattergl": [
           {
            "marker": {
             "colorbar": {
              "outlinewidth": 0,
              "ticks": ""
             }
            },
            "type": "scattergl"
           }
          ],
          "scattermapbox": [
           {
            "marker": {
             "colorbar": {
              "outlinewidth": 0,
              "ticks": ""
             }
            },
            "type": "scattermapbox"
           }
          ],
          "scatterpolar": [
           {
            "marker": {
             "colorbar": {
              "outlinewidth": 0,
              "ticks": ""
             }
            },
            "type": "scatterpolar"
           }
          ],
          "scatterpolargl": [
           {
            "marker": {
             "colorbar": {
              "outlinewidth": 0,
              "ticks": ""
             }
            },
            "type": "scatterpolargl"
           }
          ],
          "scatterternary": [
           {
            "marker": {
             "colorbar": {
              "outlinewidth": 0,
              "ticks": ""
             }
            },
            "type": "scatterternary"
           }
          ],
          "surface": [
           {
            "colorbar": {
             "outlinewidth": 0,
             "ticks": ""
            },
            "colorscale": [
             [
              0,
              "#0d0887"
             ],
             [
              0.1111111111111111,
              "#46039f"
             ],
             [
              0.2222222222222222,
              "#7201a8"
             ],
             [
              0.3333333333333333,
              "#9c179e"
             ],
             [
              0.4444444444444444,
              "#bd3786"
             ],
             [
              0.5555555555555556,
              "#d8576b"
             ],
             [
              0.6666666666666666,
              "#ed7953"
             ],
             [
              0.7777777777777778,
              "#fb9f3a"
             ],
             [
              0.8888888888888888,
              "#fdca26"
             ],
             [
              1,
              "#f0f921"
             ]
            ],
            "type": "surface"
           }
          ],
          "table": [
           {
            "cells": {
             "fill": {
              "color": "#EBF0F8"
             },
             "line": {
              "color": "white"
             }
            },
            "header": {
             "fill": {
              "color": "#C8D4E3"
             },
             "line": {
              "color": "white"
             }
            },
            "type": "table"
           }
          ]
         },
         "layout": {
          "annotationdefaults": {
           "arrowcolor": "#2a3f5f",
           "arrowhead": 0,
           "arrowwidth": 1
          },
          "autotypenumbers": "strict",
          "coloraxis": {
           "colorbar": {
            "outlinewidth": 0,
            "ticks": ""
           }
          },
          "colorscale": {
           "diverging": [
            [
             0,
             "#8e0152"
            ],
            [
             0.1,
             "#c51b7d"
            ],
            [
             0.2,
             "#de77ae"
            ],
            [
             0.3,
             "#f1b6da"
            ],
            [
             0.4,
             "#fde0ef"
            ],
            [
             0.5,
             "#f7f7f7"
            ],
            [
             0.6,
             "#e6f5d0"
            ],
            [
             0.7,
             "#b8e186"
            ],
            [
             0.8,
             "#7fbc41"
            ],
            [
             0.9,
             "#4d9221"
            ],
            [
             1,
             "#276419"
            ]
           ],
           "sequential": [
            [
             0,
             "#0d0887"
            ],
            [
             0.1111111111111111,
             "#46039f"
            ],
            [
             0.2222222222222222,
             "#7201a8"
            ],
            [
             0.3333333333333333,
             "#9c179e"
            ],
            [
             0.4444444444444444,
             "#bd3786"
            ],
            [
             0.5555555555555556,
             "#d8576b"
            ],
            [
             0.6666666666666666,
             "#ed7953"
            ],
            [
             0.7777777777777778,
             "#fb9f3a"
            ],
            [
             0.8888888888888888,
             "#fdca26"
            ],
            [
             1,
             "#f0f921"
            ]
           ],
           "sequentialminus": [
            [
             0,
             "#0d0887"
            ],
            [
             0.1111111111111111,
             "#46039f"
            ],
            [
             0.2222222222222222,
             "#7201a8"
            ],
            [
             0.3333333333333333,
             "#9c179e"
            ],
            [
             0.4444444444444444,
             "#bd3786"
            ],
            [
             0.5555555555555556,
             "#d8576b"
            ],
            [
             0.6666666666666666,
             "#ed7953"
            ],
            [
             0.7777777777777778,
             "#fb9f3a"
            ],
            [
             0.8888888888888888,
             "#fdca26"
            ],
            [
             1,
             "#f0f921"
            ]
           ]
          },
          "colorway": [
           "#636efa",
           "#EF553B",
           "#00cc96",
           "#ab63fa",
           "#FFA15A",
           "#19d3f3",
           "#FF6692",
           "#B6E880",
           "#FF97FF",
           "#FECB52"
          ],
          "font": {
           "color": "#2a3f5f"
          },
          "geo": {
           "bgcolor": "white",
           "lakecolor": "white",
           "landcolor": "#E5ECF6",
           "showlakes": true,
           "showland": true,
           "subunitcolor": "white"
          },
          "hoverlabel": {
           "align": "left"
          },
          "hovermode": "closest",
          "mapbox": {
           "style": "light"
          },
          "paper_bgcolor": "white",
          "plot_bgcolor": "#E5ECF6",
          "polar": {
           "angularaxis": {
            "gridcolor": "white",
            "linecolor": "white",
            "ticks": ""
           },
           "bgcolor": "#E5ECF6",
           "radialaxis": {
            "gridcolor": "white",
            "linecolor": "white",
            "ticks": ""
           }
          },
          "scene": {
           "xaxis": {
            "backgroundcolor": "#E5ECF6",
            "gridcolor": "white",
            "gridwidth": 2,
            "linecolor": "white",
            "showbackground": true,
            "ticks": "",
            "zerolinecolor": "white"
           },
           "yaxis": {
            "backgroundcolor": "#E5ECF6",
            "gridcolor": "white",
            "gridwidth": 2,
            "linecolor": "white",
            "showbackground": true,
            "ticks": "",
            "zerolinecolor": "white"
           },
           "zaxis": {
            "backgroundcolor": "#E5ECF6",
            "gridcolor": "white",
            "gridwidth": 2,
            "linecolor": "white",
            "showbackground": true,
            "ticks": "",
            "zerolinecolor": "white"
           }
          },
          "shapedefaults": {
           "line": {
            "color": "#2a3f5f"
           }
          },
          "ternary": {
           "aaxis": {
            "gridcolor": "white",
            "linecolor": "white",
            "ticks": ""
           },
           "baxis": {
            "gridcolor": "white",
            "linecolor": "white",
            "ticks": ""
           },
           "bgcolor": "#E5ECF6",
           "caxis": {
            "gridcolor": "white",
            "linecolor": "white",
            "ticks": ""
           }
          },
          "title": {
           "x": 0.05
          },
          "xaxis": {
           "automargin": true,
           "gridcolor": "white",
           "linecolor": "white",
           "ticks": "",
           "title": {
            "standoff": 15
           },
           "zerolinecolor": "white",
           "zerolinewidth": 2
          },
          "yaxis": {
           "automargin": true,
           "gridcolor": "white",
           "linecolor": "white",
           "ticks": "",
           "title": {
            "standoff": 15
           },
           "zerolinecolor": "white",
           "zerolinewidth": 2
          }
         }
        },
        "title": {
         "text": "Prediction vs Actual Values for Location 5 (MAPE: 0.09842, RMSE: 90.22283)"
        },
        "xaxis": {
         "anchor": "y",
         "domain": [
          0,
          1
         ],
         "title": {
          "text": "Datetime"
         }
        },
        "yaxis": {
         "anchor": "x",
         "domain": [
          0,
          1
         ],
         "title": {
          "text": "Value"
         }
        }
       }
      }
     },
     "metadata": {},
     "output_type": "display_data"
    },
    {
     "data": {
      "application/vnd.plotly.v1+json": {
       "config": {
        "plotlyServerURL": "https://plot.ly"
       },
       "data": [
        {
         "hovertemplate": "variable=VALUE<br>Datetime=%{x}<br>Value=%{y}<extra></extra>",
         "legendgroup": "VALUE",
         "line": {
          "color": "#636efa",
          "dash": "solid"
         },
         "marker": {
          "symbol": "circle"
         },
         "mode": "lines",
         "name": "VALUE",
         "orientation": "v",
         "showlegend": true,
         "type": "scatter",
         "x": [
          "2010-07-01T00:00:00",
          "2010-07-01T00:05:00",
          "2010-07-01T00:10:00",
          "2010-07-01T00:15:00",
          "2010-07-01T00:20:00",
          "2010-07-01T00:25:00",
          "2010-07-01T00:30:00",
          "2010-07-01T00:35:00",
          "2010-07-01T00:40:00",
          "2010-07-01T00:45:00",
          "2010-07-01T00:50:00",
          "2010-07-01T00:55:00",
          "2010-07-01T01:00:00",
          "2010-07-01T01:05:00",
          "2010-07-01T01:10:00",
          "2010-07-01T01:15:00",
          "2010-07-01T01:20:00",
          "2010-07-01T01:25:00",
          "2010-07-01T01:30:00",
          "2010-07-01T01:35:00",
          "2010-07-01T01:40:00",
          "2010-07-01T01:45:00",
          "2010-07-01T01:50:00",
          "2010-07-01T01:55:00",
          "2010-07-01T02:00:00",
          "2010-07-01T02:05:00",
          "2010-07-01T02:10:00",
          "2010-07-01T02:15:00",
          "2010-07-01T02:20:00",
          "2010-07-01T02:25:00",
          "2010-07-01T02:30:00",
          "2010-07-01T02:35:00",
          "2010-07-01T02:40:00",
          "2010-07-01T02:45:00",
          "2010-07-01T02:50:00",
          "2010-07-01T02:55:00",
          "2010-07-01T03:00:00",
          "2010-07-01T03:05:00",
          "2010-07-01T03:10:00",
          "2010-07-01T03:15:00",
          "2010-07-01T03:20:00",
          "2010-07-01T03:25:00",
          "2010-07-01T03:30:00",
          "2010-07-01T03:35:00",
          "2010-07-01T03:40:00",
          "2010-07-01T03:45:00",
          "2010-07-01T03:50:00",
          "2010-07-01T03:55:00",
          "2010-07-01T04:00:00",
          "2010-07-01T04:05:00",
          "2010-07-01T04:10:00",
          "2010-07-01T04:15:00",
          "2010-07-01T04:20:00",
          "2010-07-01T04:25:00",
          "2010-07-01T04:30:00",
          "2010-07-01T04:35:00",
          "2010-07-01T04:40:00",
          "2010-07-01T04:45:00",
          "2010-07-01T04:50:00",
          "2010-07-01T04:55:00",
          "2010-07-01T05:00:00",
          "2010-07-01T05:05:00",
          "2010-07-01T05:10:00",
          "2010-07-01T05:15:00",
          "2010-07-01T05:20:00",
          "2010-07-01T05:25:00",
          "2010-07-01T05:30:00",
          "2010-07-01T05:35:00",
          "2010-07-01T05:40:00",
          "2010-07-01T05:45:00",
          "2010-07-01T05:50:00",
          "2010-07-01T05:55:00",
          "2010-07-01T06:00:00",
          "2010-07-01T06:05:00",
          "2010-07-01T06:10:00",
          "2010-07-01T06:15:00",
          "2010-07-01T06:20:00",
          "2010-07-01T06:25:00",
          "2010-07-01T06:30:00",
          "2010-07-01T06:35:00",
          "2010-07-01T06:40:00",
          "2010-07-01T06:45:00",
          "2010-07-01T06:50:00",
          "2010-07-01T06:55:00",
          "2010-07-01T07:00:00",
          "2010-07-01T07:05:00",
          "2010-07-01T07:10:00",
          "2010-07-01T07:15:00",
          "2010-07-01T07:20:00",
          "2010-07-01T07:25:00",
          "2010-07-01T07:30:00",
          "2010-07-01T07:35:00",
          "2010-07-01T07:40:00",
          "2010-07-01T07:45:00",
          "2010-07-01T07:50:00",
          "2010-07-01T07:55:00",
          "2010-07-01T08:00:00",
          "2010-07-01T08:05:00",
          "2010-07-01T08:10:00",
          "2010-07-01T08:15:00",
          "2010-07-01T08:20:00",
          "2010-07-01T08:25:00",
          "2010-07-01T08:30:00",
          "2010-07-01T08:35:00",
          "2010-07-01T08:40:00",
          "2010-07-01T08:45:00",
          "2010-07-01T08:50:00",
          "2010-07-01T08:55:00",
          "2010-07-01T09:00:00",
          "2010-07-01T09:05:00",
          "2010-07-01T09:10:00",
          "2010-07-01T09:15:00",
          "2010-07-01T09:20:00",
          "2010-07-01T09:25:00",
          "2010-07-01T09:30:00",
          "2010-07-01T09:35:00",
          "2010-07-01T09:40:00",
          "2010-07-01T09:45:00",
          "2010-07-01T09:50:00",
          "2010-07-01T09:55:00",
          "2010-07-01T10:00:00",
          "2010-07-01T10:05:00",
          "2010-07-01T10:10:00",
          "2010-07-01T10:15:00",
          "2010-07-01T10:20:00",
          "2010-07-01T10:25:00",
          "2010-07-01T10:30:00",
          "2010-07-01T10:35:00",
          "2010-07-01T10:40:00",
          "2010-07-01T10:45:00",
          "2010-07-01T10:50:00",
          "2010-07-01T10:55:00",
          "2010-07-01T11:00:00",
          "2010-07-01T11:05:00",
          "2010-07-01T11:10:00",
          "2010-07-01T11:15:00",
          "2010-07-01T11:20:00",
          "2010-07-01T11:25:00",
          "2010-07-01T11:30:00",
          "2010-07-01T11:35:00",
          "2010-07-01T11:40:00",
          "2010-07-01T11:45:00",
          "2010-07-01T11:50:00",
          "2010-07-01T11:55:00",
          "2010-07-01T12:00:00",
          "2010-07-01T12:05:00",
          "2010-07-01T12:10:00",
          "2010-07-01T12:15:00",
          "2010-07-01T12:20:00",
          "2010-07-01T12:25:00",
          "2010-07-01T12:30:00",
          "2010-07-01T12:35:00",
          "2010-07-01T12:40:00",
          "2010-07-01T12:45:00",
          "2010-07-01T12:50:00",
          "2010-07-01T12:55:00",
          "2010-07-01T13:00:00",
          "2010-07-01T13:05:00",
          "2010-07-01T13:10:00",
          "2010-07-01T13:15:00",
          "2010-07-01T13:20:00",
          "2010-07-01T13:25:00",
          "2010-07-01T13:30:00",
          "2010-07-01T13:35:00",
          "2010-07-01T13:40:00",
          "2010-07-01T13:45:00",
          "2010-07-01T13:50:00",
          "2010-07-01T13:55:00",
          "2010-07-01T14:00:00",
          "2010-07-01T14:05:00",
          "2010-07-01T14:10:00",
          "2010-07-01T14:15:00",
          "2010-07-01T14:20:00",
          "2010-07-01T14:25:00",
          "2010-07-01T14:30:00",
          "2010-07-01T14:35:00",
          "2010-07-01T14:40:00",
          "2010-07-01T14:45:00",
          "2010-07-01T14:50:00",
          "2010-07-01T14:55:00",
          "2010-07-01T15:00:00",
          "2010-07-01T15:05:00",
          "2010-07-01T15:10:00",
          "2010-07-01T15:15:00",
          "2010-07-01T15:20:00",
          "2010-07-01T15:25:00",
          "2010-07-01T15:30:00",
          "2010-07-01T15:35:00",
          "2010-07-01T15:40:00",
          "2010-07-01T15:45:00",
          "2010-07-01T15:50:00",
          "2010-07-01T15:55:00",
          "2010-07-01T16:00:00",
          "2010-07-01T16:05:00",
          "2010-07-01T16:10:00",
          "2010-07-01T16:15:00",
          "2010-07-01T16:20:00",
          "2010-07-01T16:25:00",
          "2010-07-01T16:30:00",
          "2010-07-01T16:35:00",
          "2010-07-01T16:40:00",
          "2010-07-01T16:45:00",
          "2010-07-01T16:50:00",
          "2010-07-01T16:55:00",
          "2010-07-01T17:00:00",
          "2010-07-01T17:05:00",
          "2010-07-01T17:10:00",
          "2010-07-01T17:15:00",
          "2010-07-01T17:20:00",
          "2010-07-01T17:25:00",
          "2010-07-01T17:30:00",
          "2010-07-01T17:35:00",
          "2010-07-01T17:40:00",
          "2010-07-01T17:45:00",
          "2010-07-01T17:50:00",
          "2010-07-01T17:55:00",
          "2010-07-01T18:00:00",
          "2010-07-01T18:05:00",
          "2010-07-01T18:10:00",
          "2010-07-01T18:15:00",
          "2010-07-01T18:20:00",
          "2010-07-01T18:25:00",
          "2010-07-01T18:30:00",
          "2010-07-01T18:35:00",
          "2010-07-01T18:40:00",
          "2010-07-01T18:45:00",
          "2010-07-01T18:50:00",
          "2010-07-01T18:55:00",
          "2010-07-01T19:00:00",
          "2010-07-01T19:05:00",
          "2010-07-01T19:10:00",
          "2010-07-01T19:15:00",
          "2010-07-01T19:20:00",
          "2010-07-01T19:25:00",
          "2010-07-01T19:30:00",
          "2010-07-01T19:35:00",
          "2010-07-01T19:40:00",
          "2010-07-01T19:45:00",
          "2010-07-01T19:50:00",
          "2010-07-01T19:55:00",
          "2010-07-01T20:00:00",
          "2010-07-01T20:05:00",
          "2010-07-01T20:10:00",
          "2010-07-01T20:15:00",
          "2010-07-01T20:20:00",
          "2010-07-01T20:25:00",
          "2010-07-01T20:30:00",
          "2010-07-01T20:35:00",
          "2010-07-01T20:40:00",
          "2010-07-01T20:45:00",
          "2010-07-01T20:50:00",
          "2010-07-01T20:55:00",
          "2010-07-01T21:00:00",
          "2010-07-01T21:05:00",
          "2010-07-01T21:10:00",
          "2010-07-01T21:15:00",
          "2010-07-01T21:20:00",
          "2010-07-01T21:25:00",
          "2010-07-01T21:30:00",
          "2010-07-01T21:35:00",
          "2010-07-01T21:40:00",
          "2010-07-01T21:45:00",
          "2010-07-01T21:50:00",
          "2010-07-01T21:55:00",
          "2010-07-01T22:00:00",
          "2010-07-01T22:05:00",
          "2010-07-01T22:10:00",
          "2010-07-01T22:15:00",
          "2010-07-01T22:20:00",
          "2010-07-01T22:25:00",
          "2010-07-01T22:30:00",
          "2010-07-01T22:35:00",
          "2010-07-01T22:40:00",
          "2010-07-01T22:45:00",
          "2010-07-01T22:50:00",
          "2010-07-01T22:55:00",
          "2010-07-01T23:00:00",
          "2010-07-01T23:05:00",
          "2010-07-01T23:10:00",
          "2010-07-01T23:15:00",
          "2010-07-01T23:20:00",
          "2010-07-01T23:25:00",
          "2010-07-01T23:30:00",
          "2010-07-01T23:35:00",
          "2010-07-01T23:40:00",
          "2010-07-01T23:45:00",
          "2010-07-01T23:50:00",
          "2010-07-01T23:55:00"
         ],
         "xaxis": "x",
         "y": [
          875.91,
          966.59,
          1023.27,
          1057.56,
          1054.3,
          1038.46,
          1059.4,
          1043.38,
          989.64,
          974.52,
          1004.56,
          996.68,
          1019.75,
          1052.12,
          1028.13,
          990.65,
          984.1,
          957.87,
          941.18,
          948.4,
          954.09,
          964.05,
          983.46,
          977.21,
          999.67,
          1013.34,
          1047.69,
          1062.64,
          1072.15,
          1052.09,
          1048.66,
          1047.17,
          1034.96,
          1087.86,
          1074.36,
          1058.36,
          1079.44,
          1092.52,
          1083.53,
          1076.02,
          1087.47,
          1078.79,
          1094.11,
          1061.74,
          1084.76,
          1073.61,
          1101.39,
          1084.37,
          1095.63,
          1110.67,
          1119.17,
          1098.93,
          1112.24,
          1132.14,
          1120.73,
          1109.32,
          1096.9,
          1101.91,
          1122.25,
          1104.65,
          1102.75,
          1132.72,
          1150.34,
          1183.3,
          1151.16,
          1147.67,
          1152.2,
          1149.31,
          1159.92,
          1131.97,
          1146.94,
          1159.77,
          1152.77,
          1186.02,
          1199.34,
          1187.95,
          1203.89,
          1221.03,
          1177.76,
          1224.4,
          1210.31,
          1219.03,
          1222.69,
          1197.92,
          1223.12,
          1250.29,
          1229.07,
          1251.3,
          1254.15,
          1298.45,
          1300.64,
          1355.58,
          1295.13,
          1318.23,
          1341.88,
          1334.49,
          1278.84,
          1224.08,
          1269.37,
          1237.54,
          1288.76,
          1297.26,
          1306,
          1304.23,
          1282.2,
          1264.64,
          1277.94,
          1271.68,
          1177.65,
          1116.9,
          1096.1,
          1109.72,
          1119.47,
          1129.22,
          1160.95,
          1171.065,
          1181.18,
          1172.5,
          1179.04,
          1144.66,
          1090.49,
          1041.35,
          967.32,
          1015.48,
          982.47,
          987.93,
          989.08,
          997.14,
          987.05,
          989.81,
          994.29,
          980.97,
          930.69,
          923.04,
          933.75,
          928.48,
          914.66,
          904.11,
          930.95,
          929.78,
          919.37,
          897.08,
          906.44,
          889.73,
          877.44,
          815.01,
          747.24,
          798.11,
          801.95,
          786.1,
          786.27,
          770.45,
          787,
          786.76,
          788.87,
          748.15,
          782.08,
          770.49,
          774.36,
          768.32,
          754.28,
          743.64,
          729.66,
          786.72,
          795.23,
          806.8,
          800.57,
          786.06,
          756.29,
          764.38,
          728.6,
          755.26,
          753.37,
          760.86,
          764.26,
          760.66,
          745.81,
          733.87,
          716.49,
          719.45,
          729.29,
          758.39,
          746.94,
          759.07,
          781.18,
          775.77,
          748.52,
          759.7,
          747.59,
          751.03,
          767.13,
          744.37,
          765.61,
          777.55,
          766.84,
          766.5,
          774.53,
          761.95,
          771.91,
          787.01,
          776.81,
          798.06,
          768.32,
          769.99,
          865.38,
          896.27,
          920.11,
          894.13,
          886.49,
          923.81,
          898.56,
          893.42,
          897.33,
          897.64,
          872.86,
          876.31,
          861.72,
          925.15,
          911.15,
          923.55,
          937.26,
          933.13,
          940.27,
          931.94,
          926.84,
          935.16,
          936.81,
          945.2,
          994.21,
          1053.98,
          1061.04,
          1070.21,
          1081.54,
          1077.76,
          1031.43,
          1028.7,
          1022.96,
          1039.92,
          1050.23,
          1021.74,
          1053.7,
          1012.84,
          1009.2,
          991.99,
          1020.1,
          1034.48,
          994.95,
          984.48,
          1007.6,
          987.7,
          1031.19,
          1029.47,
          1065.88,
          1105.61,
          1069.51,
          1020.76,
          1089.07,
          1070.41,
          1072.22,
          1061.6,
          1049.05,
          1072.69,
          1019,
          1025.74,
          989.59,
          1037.51,
          1046.65,
          1036.98,
          1072.19,
          1018.85,
          970.42,
          928.23,
          921.65,
          972.86,
          979.72,
          953.87,
          1000.8,
          1047.09,
          1052.98,
          1055.47,
          1082.75,
          1017.73,
          1004.13,
          965.7,
          993.98,
          994.59,
          972.62,
          906.81
         ],
         "yaxis": "y"
        },
        {
         "hovertemplate": "variable=prediction<br>Datetime=%{x}<br>Value=%{y}<extra></extra>",
         "legendgroup": "prediction",
         "line": {
          "color": "#EF553B",
          "dash": "solid"
         },
         "marker": {
          "symbol": "circle"
         },
         "mode": "lines",
         "name": "prediction",
         "orientation": "v",
         "showlegend": true,
         "type": "scatter",
         "x": [
          "2010-07-01T00:00:00",
          "2010-07-01T00:05:00",
          "2010-07-01T00:10:00",
          "2010-07-01T00:15:00",
          "2010-07-01T00:20:00",
          "2010-07-01T00:25:00",
          "2010-07-01T00:30:00",
          "2010-07-01T00:35:00",
          "2010-07-01T00:40:00",
          "2010-07-01T00:45:00",
          "2010-07-01T00:50:00",
          "2010-07-01T00:55:00",
          "2010-07-01T01:00:00",
          "2010-07-01T01:05:00",
          "2010-07-01T01:10:00",
          "2010-07-01T01:15:00",
          "2010-07-01T01:20:00",
          "2010-07-01T01:25:00",
          "2010-07-01T01:30:00",
          "2010-07-01T01:35:00",
          "2010-07-01T01:40:00",
          "2010-07-01T01:45:00",
          "2010-07-01T01:50:00",
          "2010-07-01T01:55:00",
          "2010-07-01T02:00:00",
          "2010-07-01T02:05:00",
          "2010-07-01T02:10:00",
          "2010-07-01T02:15:00",
          "2010-07-01T02:20:00",
          "2010-07-01T02:25:00",
          "2010-07-01T02:30:00",
          "2010-07-01T02:35:00",
          "2010-07-01T02:40:00",
          "2010-07-01T02:45:00",
          "2010-07-01T02:50:00",
          "2010-07-01T02:55:00",
          "2010-07-01T03:00:00",
          "2010-07-01T03:05:00",
          "2010-07-01T03:10:00",
          "2010-07-01T03:15:00",
          "2010-07-01T03:20:00",
          "2010-07-01T03:25:00",
          "2010-07-01T03:30:00",
          "2010-07-01T03:35:00",
          "2010-07-01T03:40:00",
          "2010-07-01T03:45:00",
          "2010-07-01T03:50:00",
          "2010-07-01T03:55:00",
          "2010-07-01T04:00:00",
          "2010-07-01T04:05:00",
          "2010-07-01T04:10:00",
          "2010-07-01T04:15:00",
          "2010-07-01T04:20:00",
          "2010-07-01T04:25:00",
          "2010-07-01T04:30:00",
          "2010-07-01T04:35:00",
          "2010-07-01T04:40:00",
          "2010-07-01T04:45:00",
          "2010-07-01T04:50:00",
          "2010-07-01T04:55:00",
          "2010-07-01T05:00:00",
          "2010-07-01T05:05:00",
          "2010-07-01T05:10:00",
          "2010-07-01T05:15:00",
          "2010-07-01T05:20:00",
          "2010-07-01T05:25:00",
          "2010-07-01T05:30:00",
          "2010-07-01T05:35:00",
          "2010-07-01T05:40:00",
          "2010-07-01T05:45:00",
          "2010-07-01T05:50:00",
          "2010-07-01T05:55:00",
          "2010-07-01T06:00:00",
          "2010-07-01T06:05:00",
          "2010-07-01T06:10:00",
          "2010-07-01T06:15:00",
          "2010-07-01T06:20:00",
          "2010-07-01T06:25:00",
          "2010-07-01T06:30:00",
          "2010-07-01T06:35:00",
          "2010-07-01T06:40:00",
          "2010-07-01T06:45:00",
          "2010-07-01T06:50:00",
          "2010-07-01T06:55:00",
          "2010-07-01T07:00:00",
          "2010-07-01T07:05:00",
          "2010-07-01T07:10:00",
          "2010-07-01T07:15:00",
          "2010-07-01T07:20:00",
          "2010-07-01T07:25:00",
          "2010-07-01T07:30:00",
          "2010-07-01T07:35:00",
          "2010-07-01T07:40:00",
          "2010-07-01T07:45:00",
          "2010-07-01T07:50:00",
          "2010-07-01T07:55:00",
          "2010-07-01T08:00:00",
          "2010-07-01T08:05:00",
          "2010-07-01T08:10:00",
          "2010-07-01T08:15:00",
          "2010-07-01T08:20:00",
          "2010-07-01T08:25:00",
          "2010-07-01T08:30:00",
          "2010-07-01T08:35:00",
          "2010-07-01T08:40:00",
          "2010-07-01T08:45:00",
          "2010-07-01T08:50:00",
          "2010-07-01T08:55:00",
          "2010-07-01T09:00:00",
          "2010-07-01T09:05:00",
          "2010-07-01T09:10:00",
          "2010-07-01T09:15:00",
          "2010-07-01T09:20:00",
          "2010-07-01T09:25:00",
          "2010-07-01T09:30:00",
          "2010-07-01T09:35:00",
          "2010-07-01T09:40:00",
          "2010-07-01T09:45:00",
          "2010-07-01T09:50:00",
          "2010-07-01T09:55:00",
          "2010-07-01T10:00:00",
          "2010-07-01T10:05:00",
          "2010-07-01T10:10:00",
          "2010-07-01T10:15:00",
          "2010-07-01T10:20:00",
          "2010-07-01T10:25:00",
          "2010-07-01T10:30:00",
          "2010-07-01T10:35:00",
          "2010-07-01T10:40:00",
          "2010-07-01T10:45:00",
          "2010-07-01T10:50:00",
          "2010-07-01T10:55:00",
          "2010-07-01T11:00:00",
          "2010-07-01T11:05:00",
          "2010-07-01T11:10:00",
          "2010-07-01T11:15:00",
          "2010-07-01T11:20:00",
          "2010-07-01T11:25:00",
          "2010-07-01T11:30:00",
          "2010-07-01T11:35:00",
          "2010-07-01T11:40:00",
          "2010-07-01T11:45:00",
          "2010-07-01T11:50:00",
          "2010-07-01T11:55:00",
          "2010-07-01T12:00:00",
          "2010-07-01T12:05:00",
          "2010-07-01T12:10:00",
          "2010-07-01T12:15:00",
          "2010-07-01T12:20:00",
          "2010-07-01T12:25:00",
          "2010-07-01T12:30:00",
          "2010-07-01T12:35:00",
          "2010-07-01T12:40:00",
          "2010-07-01T12:45:00",
          "2010-07-01T12:50:00",
          "2010-07-01T12:55:00",
          "2010-07-01T13:00:00",
          "2010-07-01T13:05:00",
          "2010-07-01T13:10:00",
          "2010-07-01T13:15:00",
          "2010-07-01T13:20:00",
          "2010-07-01T13:25:00",
          "2010-07-01T13:30:00",
          "2010-07-01T13:35:00",
          "2010-07-01T13:40:00",
          "2010-07-01T13:45:00",
          "2010-07-01T13:50:00",
          "2010-07-01T13:55:00",
          "2010-07-01T14:00:00",
          "2010-07-01T14:05:00",
          "2010-07-01T14:10:00",
          "2010-07-01T14:15:00",
          "2010-07-01T14:20:00",
          "2010-07-01T14:25:00",
          "2010-07-01T14:30:00",
          "2010-07-01T14:35:00",
          "2010-07-01T14:40:00",
          "2010-07-01T14:45:00",
          "2010-07-01T14:50:00",
          "2010-07-01T14:55:00",
          "2010-07-01T15:00:00",
          "2010-07-01T15:05:00",
          "2010-07-01T15:10:00",
          "2010-07-01T15:15:00",
          "2010-07-01T15:20:00",
          "2010-07-01T15:25:00",
          "2010-07-01T15:30:00",
          "2010-07-01T15:35:00",
          "2010-07-01T15:40:00",
          "2010-07-01T15:45:00",
          "2010-07-01T15:50:00",
          "2010-07-01T15:55:00",
          "2010-07-01T16:00:00",
          "2010-07-01T16:05:00",
          "2010-07-01T16:10:00",
          "2010-07-01T16:15:00",
          "2010-07-01T16:20:00",
          "2010-07-01T16:25:00",
          "2010-07-01T16:30:00",
          "2010-07-01T16:35:00",
          "2010-07-01T16:40:00",
          "2010-07-01T16:45:00",
          "2010-07-01T16:50:00",
          "2010-07-01T16:55:00",
          "2010-07-01T17:00:00",
          "2010-07-01T17:05:00",
          "2010-07-01T17:10:00",
          "2010-07-01T17:15:00",
          "2010-07-01T17:20:00",
          "2010-07-01T17:25:00",
          "2010-07-01T17:30:00",
          "2010-07-01T17:35:00",
          "2010-07-01T17:40:00",
          "2010-07-01T17:45:00",
          "2010-07-01T17:50:00",
          "2010-07-01T17:55:00",
          "2010-07-01T18:00:00",
          "2010-07-01T18:05:00",
          "2010-07-01T18:10:00",
          "2010-07-01T18:15:00",
          "2010-07-01T18:20:00",
          "2010-07-01T18:25:00",
          "2010-07-01T18:30:00",
          "2010-07-01T18:35:00",
          "2010-07-01T18:40:00",
          "2010-07-01T18:45:00",
          "2010-07-01T18:50:00",
          "2010-07-01T18:55:00",
          "2010-07-01T19:00:00",
          "2010-07-01T19:05:00",
          "2010-07-01T19:10:00",
          "2010-07-01T19:15:00",
          "2010-07-01T19:20:00",
          "2010-07-01T19:25:00",
          "2010-07-01T19:30:00",
          "2010-07-01T19:35:00",
          "2010-07-01T19:40:00",
          "2010-07-01T19:45:00",
          "2010-07-01T19:50:00",
          "2010-07-01T19:55:00",
          "2010-07-01T20:00:00",
          "2010-07-01T20:05:00",
          "2010-07-01T20:10:00",
          "2010-07-01T20:15:00",
          "2010-07-01T20:20:00",
          "2010-07-01T20:25:00",
          "2010-07-01T20:30:00",
          "2010-07-01T20:35:00",
          "2010-07-01T20:40:00",
          "2010-07-01T20:45:00",
          "2010-07-01T20:50:00",
          "2010-07-01T20:55:00",
          "2010-07-01T21:00:00",
          "2010-07-01T21:05:00",
          "2010-07-01T21:10:00",
          "2010-07-01T21:15:00",
          "2010-07-01T21:20:00",
          "2010-07-01T21:25:00",
          "2010-07-01T21:30:00",
          "2010-07-01T21:35:00",
          "2010-07-01T21:40:00",
          "2010-07-01T21:45:00",
          "2010-07-01T21:50:00",
          "2010-07-01T21:55:00",
          "2010-07-01T22:00:00",
          "2010-07-01T22:05:00",
          "2010-07-01T22:10:00",
          "2010-07-01T22:15:00",
          "2010-07-01T22:20:00",
          "2010-07-01T22:25:00",
          "2010-07-01T22:30:00",
          "2010-07-01T22:35:00",
          "2010-07-01T22:40:00",
          "2010-07-01T22:45:00",
          "2010-07-01T22:50:00",
          "2010-07-01T22:55:00",
          "2010-07-01T23:00:00",
          "2010-07-01T23:05:00",
          "2010-07-01T23:10:00",
          "2010-07-01T23:15:00",
          "2010-07-01T23:20:00",
          "2010-07-01T23:25:00",
          "2010-07-01T23:30:00",
          "2010-07-01T23:35:00",
          "2010-07-01T23:40:00",
          "2010-07-01T23:45:00",
          "2010-07-01T23:50:00",
          "2010-07-01T23:55:00"
         ],
         "xaxis": "x",
         "y": [
          982.5652056731057,
          1141.1958050021392,
          1202.8027176005985,
          1238.4341499882667,
          1232.180452417479,
          1202.2194459641855,
          1153.2346465789353,
          1209.0564151713863,
          1177.73993017507,
          1174.4982003936166,
          1184.794206455674,
          1118.6328276166494,
          1117.0848813159555,
          1153.8179182153483,
          1058.7763628919242,
          1060.3243091926179,
          1064.2500913578613,
          1072.129490283877,
          1127.98164613093,
          1070.2563993433114,
          1035.9634794171952,
          1054.117522928207,
          1075.945767272589,
          1069.2171304726082,
          1082.7786424163896,
          1081.0663916670076,
          1057.6780603429042,
          1084.9856197075537,
          1122.1841215944505,
          1032.7610130066685,
          947.89082210011,
          802.6154800064015,
          807.9019522505616,
          865.6479961890574,
          959.256937283133,
          982.4982614670566,
          1032.1393296805995,
          1050.7948960716787,
          1064.1448721285358,
          1058.3887278558102,
          1065.450892180545,
          1060.2809212866741,
          1064.1448721285358,
          1060.2809212866741,
          1064.1448721285358,
          1058.3887278558102,
          1065.450892180545,
          1064.1448721285358,
          1067.85967503216,
          1170.4784293049827,
          1140.9592539291843,
          1170.4784293049827,
          1155.7259226246165,
          1186.7764476091013,
          1172.0097789136692,
          1185.2450980004148,
          1180.4747634428072,
          1180.4747634428072,
          1182.0061130514935,
          1185.2450980004148,
          1148.635364143924,
          1065.2485084074156,
          1167.8517980651513,
          1168.395705495389,
          1167.8517980651513,
          1166.1033780483613,
          1200.7668719773387,
          1106.20132169102,
          1098.702605316093,
          1170.0557562188935,
          1171.5351006537771,
          1258.0351897979895,
          1261.805369933503,
          1264.5857674037109,
          1288.7746414229928,
          1315.208106213225,
          1294.0958938203116,
          1327.8401676781452,
          1339.8896314683357,
          1401.3244289900317,
          1385.5577686578372,
          1387.267760233317,
          1406.5469754730932,
          1365.2098916701143,
          1377.0769685615462,
          1365.4565230614435,
          1378.7905314552488,
          1392.998770486762,
          1407.616613586637,
          1406.5979998850253,
          1408.3706829942498,
          1417.2661343417567,
          1417.2661343417567,
          1417.2661343417567,
          1422.3999133585132,
          1417.2661343417567,
          1373.48204509169,
          1304.3007093539875,
          1338.9371481479845,
          1321.307494039049,
          1368.2596151197229,
          1375.1347912245585,
          1380.975938734314,
          1371.0630434806671,
          1374.6171255439774,
          1181.0098963446942,
          1168.3208401851382,
          1181.1431586266058,
          994.7084726508521,
          947.0361770729967,
          916.0579635303129,
          905.8581030488356,
          921.2991133503364,
          925.5875440425442,
          969.1870230815205,
          992.2635864126361,
          1007.167450413478,
          977.1862258181492,
          962.1816676677163,
          970.1783980816083,
          889.9861852677768,
          877.5494800555462,
          909.086454138782,
          876.770868819243,
          871.1687627290854,
          865.7121884122391,
          880.5446969752169,
          878.5635294110157,
          873.5462130263567,
          843.9165337897273,
          863.8762268450226,
          871.8116124553111,
          838.154464008569,
          852.3038027495396,
          845.4618392595336,
          875.2293000320476,
          832.1947297762115,
          865.8515904471273,
          832.7559246219416,
          849.5485069568535,
          867.5073073542102,
          825.1256127800344,
          856.8832994640474,
          793.4959071584124,
          783.888105994957,
          746.6419856906065,
          729.0129766247509,
          729.8769757250079,
          764.3093314152092,
          756.5983917297829,
          742.0214982889185,
          744.6679548917739,
          736.7584684765261,
          732.3593441709799,
          736.4292044920451,
          733.7634402268146,
          722.2237154425569,
          716.8493731527421,
          694.7659204347257,
          708.7704125686553,
          708.7704125686553,
          709.9905041228632,
          689.6098929730176,
          711.8700182656502,
          687.7879721920642,
          655.2390892486928,
          651.7726653427744,
          653.0522898438777,
          640.7907071391392,
          696.0254159721841,
          642.8873890823269,
          643.0308855671697,
          656.6796718406844,
          658.8664712454994,
          649.4213809130828,
          649.4213809130828,
          649.27788442824,
          672.8642644605018,
          682.6072477832478,
          648.6240572251716,
          671.2069624066389,
          740.0817641789995,
          748.5234950572411,
          751.0582730059751,
          753.2360908698704,
          755.4839629872668,
          755.4839629872668,
          768.864826557701,
          782.1752310906217,
          753.2360908698704,
          755.4839629872668,
          755.4839629872668,
          782.1752310906217,
          782.1752310906217,
          783.5012888461406,
          783.7700565967741,
          795.7860621689598,
          757.1391035772602,
          757.1391035772602,
          761.633192413432,
          761.633192413432,
          776.4226574304422,
          770.9368172101773,
          758.3156426572388,
          797.7243800783344,
          850.5460852068439,
          849.4317632907781,
          843.4500968294004,
          837.9218575010984,
          855.2087630851187,
          850.5460852068439,
          848.534933235981,
          861.7089011094372,
          850.5460852068439,
          842.225255879362,
          855.102509387921,
          841.5330924916008,
          854.5165996973581,
          845.1054018773648,
          854.1607527744588,
          826.0242395304441,
          826.7248222593655,
          811.6035713600306,
          844.6041066913974,
          811.6035713600306,
          811.6035713600306,
          829.3571553745554,
          848.724753861349,
          865.8416592356949,
          947.5956836425146,
          961.6758639925163,
          961.6758639925163,
          961.6758639925163,
          967.3854456309773,
          967.3854456309773,
          963.9186232839016,
          963.6022982612842,
          967.3854456309773,
          967.3854456309773,
          963.6022982612842,
          983.198844195978,
          1054.6013617610574,
          1085.4386319269393,
          1082.8039345110578,
          1087.9062180823973,
          1081.255988210364,
          1071.2150389033893,
          1102.7272130822546,
          1071.2150389033893,
          1078.2992338784713,
          1108.8423802239859,
          1061.8765006704753,
          1062.6703915523192,
          1196.4307354637874,
          1087.050477881625,
          1210.1951510820536,
          1287.6328277961204,
          1253.4006751611244,
          1250.7319296379321,
          1239.5728858989341,
          1240.7355955001078,
          1240.7355955001078,
          1211.357860683227,
          1200.954918754701,
          1158.1625166537044,
          1075.9915364274163,
          1024.7575867116755,
          998.4369080260598,
          1023.7109083104816,
          940.5289845990833,
          952.2131398822355,
          906.6564702792264,
          902.9572691405203,
          921.844798801745,
          946.6407838284799,
          928.4415800995287,
          947.5387016899235,
          937.6632830539511,
          937.4708210827232,
          956.6210289381553,
          940.1731376761841,
          937.6632830539511,
          945.9438761837711,
          920.1064768107499,
          920.2499732955927,
          922.5979667322222,
          922.5979667322222,
          954.5794482017557
         ],
         "yaxis": "y"
        }
       ],
       "layout": {
        "legend": {
         "title": {
          "text": "variable"
         },
         "tracegroupgap": 0
        },
        "template": {
         "data": {
          "bar": [
           {
            "error_x": {
             "color": "#2a3f5f"
            },
            "error_y": {
             "color": "#2a3f5f"
            },
            "marker": {
             "line": {
              "color": "#E5ECF6",
              "width": 0.5
             },
             "pattern": {
              "fillmode": "overlay",
              "size": 10,
              "solidity": 0.2
             }
            },
            "type": "bar"
           }
          ],
          "barpolar": [
           {
            "marker": {
             "line": {
              "color": "#E5ECF6",
              "width": 0.5
             },
             "pattern": {
              "fillmode": "overlay",
              "size": 10,
              "solidity": 0.2
             }
            },
            "type": "barpolar"
           }
          ],
          "carpet": [
           {
            "aaxis": {
             "endlinecolor": "#2a3f5f",
             "gridcolor": "white",
             "linecolor": "white",
             "minorgridcolor": "white",
             "startlinecolor": "#2a3f5f"
            },
            "baxis": {
             "endlinecolor": "#2a3f5f",
             "gridcolor": "white",
             "linecolor": "white",
             "minorgridcolor": "white",
             "startlinecolor": "#2a3f5f"
            },
            "type": "carpet"
           }
          ],
          "choropleth": [
           {
            "colorbar": {
             "outlinewidth": 0,
             "ticks": ""
            },
            "type": "choropleth"
           }
          ],
          "contour": [
           {
            "colorbar": {
             "outlinewidth": 0,
             "ticks": ""
            },
            "colorscale": [
             [
              0,
              "#0d0887"
             ],
             [
              0.1111111111111111,
              "#46039f"
             ],
             [
              0.2222222222222222,
              "#7201a8"
             ],
             [
              0.3333333333333333,
              "#9c179e"
             ],
             [
              0.4444444444444444,
              "#bd3786"
             ],
             [
              0.5555555555555556,
              "#d8576b"
             ],
             [
              0.6666666666666666,
              "#ed7953"
             ],
             [
              0.7777777777777778,
              "#fb9f3a"
             ],
             [
              0.8888888888888888,
              "#fdca26"
             ],
             [
              1,
              "#f0f921"
             ]
            ],
            "type": "contour"
           }
          ],
          "contourcarpet": [
           {
            "colorbar": {
             "outlinewidth": 0,
             "ticks": ""
            },
            "type": "contourcarpet"
           }
          ],
          "heatmap": [
           {
            "colorbar": {
             "outlinewidth": 0,
             "ticks": ""
            },
            "colorscale": [
             [
              0,
              "#0d0887"
             ],
             [
              0.1111111111111111,
              "#46039f"
             ],
             [
              0.2222222222222222,
              "#7201a8"
             ],
             [
              0.3333333333333333,
              "#9c179e"
             ],
             [
              0.4444444444444444,
              "#bd3786"
             ],
             [
              0.5555555555555556,
              "#d8576b"
             ],
             [
              0.6666666666666666,
              "#ed7953"
             ],
             [
              0.7777777777777778,
              "#fb9f3a"
             ],
             [
              0.8888888888888888,
              "#fdca26"
             ],
             [
              1,
              "#f0f921"
             ]
            ],
            "type": "heatmap"
           }
          ],
          "heatmapgl": [
           {
            "colorbar": {
             "outlinewidth": 0,
             "ticks": ""
            },
            "colorscale": [
             [
              0,
              "#0d0887"
             ],
             [
              0.1111111111111111,
              "#46039f"
             ],
             [
              0.2222222222222222,
              "#7201a8"
             ],
             [
              0.3333333333333333,
              "#9c179e"
             ],
             [
              0.4444444444444444,
              "#bd3786"
             ],
             [
              0.5555555555555556,
              "#d8576b"
             ],
             [
              0.6666666666666666,
              "#ed7953"
             ],
             [
              0.7777777777777778,
              "#fb9f3a"
             ],
             [
              0.8888888888888888,
              "#fdca26"
             ],
             [
              1,
              "#f0f921"
             ]
            ],
            "type": "heatmapgl"
           }
          ],
          "histogram": [
           {
            "marker": {
             "pattern": {
              "fillmode": "overlay",
              "size": 10,
              "solidity": 0.2
             }
            },
            "type": "histogram"
           }
          ],
          "histogram2d": [
           {
            "colorbar": {
             "outlinewidth": 0,
             "ticks": ""
            },
            "colorscale": [
             [
              0,
              "#0d0887"
             ],
             [
              0.1111111111111111,
              "#46039f"
             ],
             [
              0.2222222222222222,
              "#7201a8"
             ],
             [
              0.3333333333333333,
              "#9c179e"
             ],
             [
              0.4444444444444444,
              "#bd3786"
             ],
             [
              0.5555555555555556,
              "#d8576b"
             ],
             [
              0.6666666666666666,
              "#ed7953"
             ],
             [
              0.7777777777777778,
              "#fb9f3a"
             ],
             [
              0.8888888888888888,
              "#fdca26"
             ],
             [
              1,
              "#f0f921"
             ]
            ],
            "type": "histogram2d"
           }
          ],
          "histogram2dcontour": [
           {
            "colorbar": {
             "outlinewidth": 0,
             "ticks": ""
            },
            "colorscale": [
             [
              0,
              "#0d0887"
             ],
             [
              0.1111111111111111,
              "#46039f"
             ],
             [
              0.2222222222222222,
              "#7201a8"
             ],
             [
              0.3333333333333333,
              "#9c179e"
             ],
             [
              0.4444444444444444,
              "#bd3786"
             ],
             [
              0.5555555555555556,
              "#d8576b"
             ],
             [
              0.6666666666666666,
              "#ed7953"
             ],
             [
              0.7777777777777778,
              "#fb9f3a"
             ],
             [
              0.8888888888888888,
              "#fdca26"
             ],
             [
              1,
              "#f0f921"
             ]
            ],
            "type": "histogram2dcontour"
           }
          ],
          "mesh3d": [
           {
            "colorbar": {
             "outlinewidth": 0,
             "ticks": ""
            },
            "type": "mesh3d"
           }
          ],
          "parcoords": [
           {
            "line": {
             "colorbar": {
              "outlinewidth": 0,
              "ticks": ""
             }
            },
            "type": "parcoords"
           }
          ],
          "pie": [
           {
            "automargin": true,
            "type": "pie"
           }
          ],
          "scatter": [
           {
            "fillpattern": {
             "fillmode": "overlay",
             "size": 10,
             "solidity": 0.2
            },
            "type": "scatter"
           }
          ],
          "scatter3d": [
           {
            "line": {
             "colorbar": {
              "outlinewidth": 0,
              "ticks": ""
             }
            },
            "marker": {
             "colorbar": {
              "outlinewidth": 0,
              "ticks": ""
             }
            },
            "type": "scatter3d"
           }
          ],
          "scattercarpet": [
           {
            "marker": {
             "colorbar": {
              "outlinewidth": 0,
              "ticks": ""
             }
            },
            "type": "scattercarpet"
           }
          ],
          "scattergeo": [
           {
            "marker": {
             "colorbar": {
              "outlinewidth": 0,
              "ticks": ""
             }
            },
            "type": "scattergeo"
           }
          ],
          "scattergl": [
           {
            "marker": {
             "colorbar": {
              "outlinewidth": 0,
              "ticks": ""
             }
            },
            "type": "scattergl"
           }
          ],
          "scattermapbox": [
           {
            "marker": {
             "colorbar": {
              "outlinewidth": 0,
              "ticks": ""
             }
            },
            "type": "scattermapbox"
           }
          ],
          "scatterpolar": [
           {
            "marker": {
             "colorbar": {
              "outlinewidth": 0,
              "ticks": ""
             }
            },
            "type": "scatterpolar"
           }
          ],
          "scatterpolargl": [
           {
            "marker": {
             "colorbar": {
              "outlinewidth": 0,
              "ticks": ""
             }
            },
            "type": "scatterpolargl"
           }
          ],
          "scatterternary": [
           {
            "marker": {
             "colorbar": {
              "outlinewidth": 0,
              "ticks": ""
             }
            },
            "type": "scatterternary"
           }
          ],
          "surface": [
           {
            "colorbar": {
             "outlinewidth": 0,
             "ticks": ""
            },
            "colorscale": [
             [
              0,
              "#0d0887"
             ],
             [
              0.1111111111111111,
              "#46039f"
             ],
             [
              0.2222222222222222,
              "#7201a8"
             ],
             [
              0.3333333333333333,
              "#9c179e"
             ],
             [
              0.4444444444444444,
              "#bd3786"
             ],
             [
              0.5555555555555556,
              "#d8576b"
             ],
             [
              0.6666666666666666,
              "#ed7953"
             ],
             [
              0.7777777777777778,
              "#fb9f3a"
             ],
             [
              0.8888888888888888,
              "#fdca26"
             ],
             [
              1,
              "#f0f921"
             ]
            ],
            "type": "surface"
           }
          ],
          "table": [
           {
            "cells": {
             "fill": {
              "color": "#EBF0F8"
             },
             "line": {
              "color": "white"
             }
            },
            "header": {
             "fill": {
              "color": "#C8D4E3"
             },
             "line": {
              "color": "white"
             }
            },
            "type": "table"
           }
          ]
         },
         "layout": {
          "annotationdefaults": {
           "arrowcolor": "#2a3f5f",
           "arrowhead": 0,
           "arrowwidth": 1
          },
          "autotypenumbers": "strict",
          "coloraxis": {
           "colorbar": {
            "outlinewidth": 0,
            "ticks": ""
           }
          },
          "colorscale": {
           "diverging": [
            [
             0,
             "#8e0152"
            ],
            [
             0.1,
             "#c51b7d"
            ],
            [
             0.2,
             "#de77ae"
            ],
            [
             0.3,
             "#f1b6da"
            ],
            [
             0.4,
             "#fde0ef"
            ],
            [
             0.5,
             "#f7f7f7"
            ],
            [
             0.6,
             "#e6f5d0"
            ],
            [
             0.7,
             "#b8e186"
            ],
            [
             0.8,
             "#7fbc41"
            ],
            [
             0.9,
             "#4d9221"
            ],
            [
             1,
             "#276419"
            ]
           ],
           "sequential": [
            [
             0,
             "#0d0887"
            ],
            [
             0.1111111111111111,
             "#46039f"
            ],
            [
             0.2222222222222222,
             "#7201a8"
            ],
            [
             0.3333333333333333,
             "#9c179e"
            ],
            [
             0.4444444444444444,
             "#bd3786"
            ],
            [
             0.5555555555555556,
             "#d8576b"
            ],
            [
             0.6666666666666666,
             "#ed7953"
            ],
            [
             0.7777777777777778,
             "#fb9f3a"
            ],
            [
             0.8888888888888888,
             "#fdca26"
            ],
            [
             1,
             "#f0f921"
            ]
           ],
           "sequentialminus": [
            [
             0,
             "#0d0887"
            ],
            [
             0.1111111111111111,
             "#46039f"
            ],
            [
             0.2222222222222222,
             "#7201a8"
            ],
            [
             0.3333333333333333,
             "#9c179e"
            ],
            [
             0.4444444444444444,
             "#bd3786"
            ],
            [
             0.5555555555555556,
             "#d8576b"
            ],
            [
             0.6666666666666666,
             "#ed7953"
            ],
            [
             0.7777777777777778,
             "#fb9f3a"
            ],
            [
             0.8888888888888888,
             "#fdca26"
            ],
            [
             1,
             "#f0f921"
            ]
           ]
          },
          "colorway": [
           "#636efa",
           "#EF553B",
           "#00cc96",
           "#ab63fa",
           "#FFA15A",
           "#19d3f3",
           "#FF6692",
           "#B6E880",
           "#FF97FF",
           "#FECB52"
          ],
          "font": {
           "color": "#2a3f5f"
          },
          "geo": {
           "bgcolor": "white",
           "lakecolor": "white",
           "landcolor": "#E5ECF6",
           "showlakes": true,
           "showland": true,
           "subunitcolor": "white"
          },
          "hoverlabel": {
           "align": "left"
          },
          "hovermode": "closest",
          "mapbox": {
           "style": "light"
          },
          "paper_bgcolor": "white",
          "plot_bgcolor": "#E5ECF6",
          "polar": {
           "angularaxis": {
            "gridcolor": "white",
            "linecolor": "white",
            "ticks": ""
           },
           "bgcolor": "#E5ECF6",
           "radialaxis": {
            "gridcolor": "white",
            "linecolor": "white",
            "ticks": ""
           }
          },
          "scene": {
           "xaxis": {
            "backgroundcolor": "#E5ECF6",
            "gridcolor": "white",
            "gridwidth": 2,
            "linecolor": "white",
            "showbackground": true,
            "ticks": "",
            "zerolinecolor": "white"
           },
           "yaxis": {
            "backgroundcolor": "#E5ECF6",
            "gridcolor": "white",
            "gridwidth": 2,
            "linecolor": "white",
            "showbackground": true,
            "ticks": "",
            "zerolinecolor": "white"
           },
           "zaxis": {
            "backgroundcolor": "#E5ECF6",
            "gridcolor": "white",
            "gridwidth": 2,
            "linecolor": "white",
            "showbackground": true,
            "ticks": "",
            "zerolinecolor": "white"
           }
          },
          "shapedefaults": {
           "line": {
            "color": "#2a3f5f"
           }
          },
          "ternary": {
           "aaxis": {
            "gridcolor": "white",
            "linecolor": "white",
            "ticks": ""
           },
           "baxis": {
            "gridcolor": "white",
            "linecolor": "white",
            "ticks": ""
           },
           "bgcolor": "#E5ECF6",
           "caxis": {
            "gridcolor": "white",
            "linecolor": "white",
            "ticks": ""
           }
          },
          "title": {
           "x": 0.05
          },
          "xaxis": {
           "automargin": true,
           "gridcolor": "white",
           "linecolor": "white",
           "ticks": "",
           "title": {
            "standoff": 15
           },
           "zerolinecolor": "white",
           "zerolinewidth": 2
          },
          "yaxis": {
           "automargin": true,
           "gridcolor": "white",
           "linecolor": "white",
           "ticks": "",
           "title": {
            "standoff": 15
           },
           "zerolinecolor": "white",
           "zerolinewidth": 2
          }
         }
        },
        "title": {
         "text": "Prediction vs Actual Values for Location 6 (MAPE: 0.08346, RMSE: 101.04119)"
        },
        "xaxis": {
         "anchor": "y",
         "domain": [
          0,
          1
         ],
         "title": {
          "text": "Datetime"
         }
        },
        "yaxis": {
         "anchor": "x",
         "domain": [
          0,
          1
         ],
         "title": {
          "text": "Value"
         }
        }
       }
      }
     },
     "metadata": {},
     "output_type": "display_data"
    }
   ],
   "source": [
    "def plot_location(location_id):\n",
    "    location_data = a[a['LOCATION'] == location_id]\n",
    "    mape_value = stat_df[stat_df['LOCATION'] == location_id]['MAPE'].values[0]\n",
    "    rmse_value = stat_df[stat_df['LOCATION'] == location_id]['RMSE'].values[0]\n",
    "    fig = px.line(location_data, x='DATETIME', y=['VALUE', 'prediction'], labels={\n",
    "        'DATETIME': 'Datetime',\n",
    "        'value': 'Value',\n",
    "        'prediction': 'Prediction'\n",
    "    }, title=f'Prediction vs Actual Values for Location {location_id} (MAPE: {mape_value:.5f}, RMSE: {rmse_value:.5f})')\n",
    "    fig.show()\n",
    "\n",
    "for loc in range(3,7,1):\n",
    "    plot_location(loc)"
   ]
  },
  {
   "cell_type": "code",
   "execution_count": 21,
   "metadata": {},
   "outputs": [],
   "source": [
    "prediction_output_path = '/Users/szejozsef00/Desktop/MSC/MSC 2. félév/DS Lab I/DSLAB1/data/predictions/'"
   ]
  },
  {
   "cell_type": "code",
   "execution_count": 22,
   "metadata": {},
   "outputs": [],
   "source": [
    "prediction.to_csv(prediction_output_path + 'pred_2010_07_01_0.7_2.csv', index=False)"
   ]
  }
 ],
 "metadata": {
  "kernelspec": {
   "display_name": "Python 3",
   "language": "python",
   "name": "python3"
  },
  "language_info": {
   "codemirror_mode": {
    "name": "ipython",
    "version": 3
   },
   "file_extension": ".py",
   "mimetype": "text/x-python",
   "name": "python",
   "nbconvert_exporter": "python",
   "pygments_lexer": "ipython3",
   "version": "3.11.4"
  }
 },
 "nbformat": 4,
 "nbformat_minor": 2
}
