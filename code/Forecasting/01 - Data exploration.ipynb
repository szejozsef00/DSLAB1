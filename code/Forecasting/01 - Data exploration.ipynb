{
 "cells": [
  {
   "cell_type": "markdown",
   "metadata": {},
   "source": [
    "# 01 - Data exploration"
   ]
  },
  {
   "cell_type": "markdown",
   "metadata": {},
   "source": [
    "### Import packages and load the data"
   ]
  },
  {
   "cell_type": "code",
   "execution_count": 1,
   "metadata": {},
   "outputs": [],
   "source": [
    "import pandas as pd\n",
    "import numpy as np\n",
    "from tslearn.clustering import TimeSeriesKMeans\n",
    "import matplotlib.pyplot as plt\n",
    "import plotly.express as px\n",
    "import datetime\n",
    "import plotly.graph_objects as go\n",
    "\n",
    "from statsmodels.graphics.tsaplots import plot_acf, plot_pacf"
   ]
  },
  {
   "cell_type": "code",
   "execution_count": 2,
   "metadata": {},
   "outputs": [],
   "source": [
    "data_input_path = '/Users/szejozsef00/Desktop/MSC/MSC 2. félév/DS Lab I/DSLAB1/data/processed/'"
   ]
  },
  {
   "cell_type": "code",
   "execution_count": 3,
   "metadata": {},
   "outputs": [],
   "source": [
    "df = pd.read_csv(data_input_path + 'processed_data.csv',sep=';',decimal=',')\n",
    "df['DATETIME'] = pd.to_datetime(df['DATETIME'])\n",
    "df = df.fillna(0)"
   ]
  },
  {
   "cell_type": "markdown",
   "metadata": {},
   "source": [
    "### Transform the data"
   ]
  },
  {
   "cell_type": "code",
   "execution_count": 4,
   "metadata": {},
   "outputs": [],
   "source": [
    "# Add Date column\n",
    "df['DATE'] = pd.to_datetime(df['DATETIME']).dt.date"
   ]
  },
  {
   "cell_type": "code",
   "execution_count": 5,
   "metadata": {},
   "outputs": [
    {
     "data": {
      "text/plain": [
       "datetime.date(2010, 9, 24)"
      ]
     },
     "execution_count": 5,
     "metadata": {},
     "output_type": "execute_result"
    }
   ],
   "source": [
    "df['DATE'].max()"
   ]
  },
  {
   "cell_type": "code",
   "execution_count": 6,
   "metadata": {},
   "outputs": [
    {
     "data": {
      "text/html": [
       "<div>\n",
       "<style scoped>\n",
       "    .dataframe tbody tr th:only-of-type {\n",
       "        vertical-align: middle;\n",
       "    }\n",
       "\n",
       "    .dataframe tbody tr th {\n",
       "        vertical-align: top;\n",
       "    }\n",
       "\n",
       "    .dataframe thead th {\n",
       "        text-align: right;\n",
       "    }\n",
       "</style>\n",
       "<table border=\"1\" class=\"dataframe\">\n",
       "  <thead>\n",
       "    <tr style=\"text-align: right;\">\n",
       "      <th></th>\n",
       "      <th>DATE</th>\n",
       "      <th>DATETIME</th>\n",
       "      <th>LOCATION</th>\n",
       "      <th>VALUE</th>\n",
       "    </tr>\n",
       "  </thead>\n",
       "  <tbody>\n",
       "    <tr>\n",
       "      <th>0</th>\n",
       "      <td>2009-07-02</td>\n",
       "      <td>2009-07-02 00:00:00</td>\n",
       "      <td>0</td>\n",
       "      <td>-79.50</td>\n",
       "    </tr>\n",
       "    <tr>\n",
       "      <th>1</th>\n",
       "      <td>2009-07-02</td>\n",
       "      <td>2009-07-02 00:05:00</td>\n",
       "      <td>0</td>\n",
       "      <td>-22.81</td>\n",
       "    </tr>\n",
       "    <tr>\n",
       "      <th>2</th>\n",
       "      <td>2009-07-02</td>\n",
       "      <td>2009-07-02 00:10:00</td>\n",
       "      <td>0</td>\n",
       "      <td>23.02</td>\n",
       "    </tr>\n",
       "    <tr>\n",
       "      <th>3</th>\n",
       "      <td>2009-07-02</td>\n",
       "      <td>2009-07-02 00:15:00</td>\n",
       "      <td>0</td>\n",
       "      <td>21.36</td>\n",
       "    </tr>\n",
       "    <tr>\n",
       "      <th>4</th>\n",
       "      <td>2009-07-02</td>\n",
       "      <td>2009-07-02 00:20:00</td>\n",
       "      <td>0</td>\n",
       "      <td>25.18</td>\n",
       "    </tr>\n",
       "  </tbody>\n",
       "</table>\n",
       "</div>"
      ],
      "text/plain": [
       "         DATE            DATETIME  LOCATION  VALUE\n",
       "0  2009-07-02 2009-07-02 00:00:00         0 -79.50\n",
       "1  2009-07-02 2009-07-02 00:05:00         0 -22.81\n",
       "2  2009-07-02 2009-07-02 00:10:00         0  23.02\n",
       "3  2009-07-02 2009-07-02 00:15:00         0  21.36\n",
       "4  2009-07-02 2009-07-02 00:20:00         0  25.18"
      ]
     },
     "execution_count": 6,
     "metadata": {},
     "output_type": "execute_result"
    }
   ],
   "source": [
    "# Melt the dataframe to DATE-DATETIME-LOCATION-VALUE format\n",
    "melted_fact_df = pd.melt(df, id_vars=['DATE','DATETIME'],var_name='LOCATION', value_name='VALUE')\n",
    "melted_fact_df['LOCATION'] = melted_fact_df['LOCATION'].astype(int)\n",
    "lmelted_fact_df = melted_fact_df.sort_values('LOCATION')\n",
    "melted_fact_df.head(5)"
   ]
  },
  {
   "cell_type": "code",
   "execution_count": 7,
   "metadata": {},
   "outputs": [
    {
     "data": {
      "text/plain": [
       "1916"
      ]
     },
     "execution_count": 7,
     "metadata": {},
     "output_type": "execute_result"
    }
   ],
   "source": [
    "melted_fact_df['LOCATION'].nunique()"
   ]
  },
  {
   "cell_type": "code",
   "execution_count": 8,
   "metadata": {},
   "outputs": [],
   "source": [
    "melted_fact_df = melted_fact_df[melted_fact_df['LOCATION'] < 197]"
   ]
  },
  {
   "cell_type": "code",
   "execution_count": 9,
   "metadata": {},
   "outputs": [
    {
     "data": {
      "text/plain": [
       "288"
      ]
     },
     "execution_count": 9,
     "metadata": {},
     "output_type": "execute_result"
    }
   ],
   "source": [
    "len(melted_fact_df[(melted_fact_df['DATE'] == datetime.date(2009, 7, 2)) & (melted_fact_df['LOCATION'] == 1)])"
   ]
  },
  {
   "cell_type": "markdown",
   "metadata": {},
   "source": [
    "### Scale the data"
   ]
  },
  {
   "cell_type": "code",
   "execution_count": 11,
   "metadata": {},
   "outputs": [
    {
     "data": {
      "text/html": [
       "<div>\n",
       "<style scoped>\n",
       "    .dataframe tbody tr th:only-of-type {\n",
       "        vertical-align: middle;\n",
       "    }\n",
       "\n",
       "    .dataframe tbody tr th {\n",
       "        vertical-align: top;\n",
       "    }\n",
       "\n",
       "    .dataframe thead th {\n",
       "        text-align: right;\n",
       "    }\n",
       "</style>\n",
       "<table border=\"1\" class=\"dataframe\">\n",
       "  <thead>\n",
       "    <tr style=\"text-align: right;\">\n",
       "      <th></th>\n",
       "      <th>DATE</th>\n",
       "      <th>DATETIME</th>\n",
       "      <th>LOCATION</th>\n",
       "      <th>VALUE</th>\n",
       "      <th>VALUE_SCALED</th>\n",
       "    </tr>\n",
       "  </thead>\n",
       "  <tbody>\n",
       "    <tr>\n",
       "      <th>0</th>\n",
       "      <td>2009-07-02</td>\n",
       "      <td>2009-07-02 00:00:00</td>\n",
       "      <td>0</td>\n",
       "      <td>-79.50</td>\n",
       "      <td>0.425602</td>\n",
       "    </tr>\n",
       "    <tr>\n",
       "      <th>1</th>\n",
       "      <td>2009-07-02</td>\n",
       "      <td>2009-07-02 00:05:00</td>\n",
       "      <td>0</td>\n",
       "      <td>-22.81</td>\n",
       "      <td>0.463518</td>\n",
       "    </tr>\n",
       "    <tr>\n",
       "      <th>2</th>\n",
       "      <td>2009-07-02</td>\n",
       "      <td>2009-07-02 00:10:00</td>\n",
       "      <td>0</td>\n",
       "      <td>23.02</td>\n",
       "      <td>0.494171</td>\n",
       "    </tr>\n",
       "    <tr>\n",
       "      <th>3</th>\n",
       "      <td>2009-07-02</td>\n",
       "      <td>2009-07-02 00:15:00</td>\n",
       "      <td>0</td>\n",
       "      <td>21.36</td>\n",
       "      <td>0.493061</td>\n",
       "    </tr>\n",
       "    <tr>\n",
       "      <th>4</th>\n",
       "      <td>2009-07-02</td>\n",
       "      <td>2009-07-02 00:20:00</td>\n",
       "      <td>0</td>\n",
       "      <td>25.18</td>\n",
       "      <td>0.495616</td>\n",
       "    </tr>\n",
       "  </tbody>\n",
       "</table>\n",
       "</div>"
      ],
      "text/plain": [
       "         DATE            DATETIME  LOCATION  VALUE  VALUE_SCALED\n",
       "0  2009-07-02 2009-07-02 00:00:00         0 -79.50      0.425602\n",
       "1  2009-07-02 2009-07-02 00:05:00         0 -22.81      0.463518\n",
       "2  2009-07-02 2009-07-02 00:10:00         0  23.02      0.494171\n",
       "3  2009-07-02 2009-07-02 00:15:00         0  21.36      0.493061\n",
       "4  2009-07-02 2009-07-02 00:20:00         0  25.18      0.495616"
      ]
     },
     "execution_count": 11,
     "metadata": {},
     "output_type": "execute_result"
    }
   ],
   "source": [
    "import pickle\n",
    "from sklearn.preprocessing import MinMaxScaler\n",
    "\n",
    "def min_max_scale_by_location(df, value_col='VALUE', location_col='LOCATION'):\n",
    "    scalers = {}\n",
    "    df_scaled = df.copy()\n",
    "\n",
    "    # Iterate over each unique location\n",
    "    for location in df[location_col].unique():\n",
    "        # Filter the dataframe for the current location\n",
    "        location_df = df[df[location_col] == location]\n",
    "        \n",
    "        # Create a MinMaxScaler for the current location\n",
    "        scaler = MinMaxScaler()\n",
    "        \n",
    "        # Fit and transform the VALUE column for the current location\n",
    "        df_scaled.loc[df[location_col] == location, 'VALUE_SCALED'] = scaler.fit_transform(location_df[[value_col]])\n",
    "        \n",
    "        # Store the scaler for the current location\n",
    "        scalers[location] = scaler\n",
    "\n",
    "    # Save the scaler dictionary to a file\n",
    "    with open(data_input_path + 'scalers.pkl', 'wb') as f:\n",
    "        pickle.dump(scalers, f)\n",
    "    \n",
    "    return df_scaled\n",
    "\n",
    "df_scaled = min_max_scale_by_location(melted_fact_df)\n",
    "\n",
    "df_scaled.head()"
   ]
  },
  {
   "cell_type": "markdown",
   "metadata": {},
   "source": [
    "### Check autocorrelation"
   ]
  },
  {
   "cell_type": "code",
   "execution_count": 13,
   "metadata": {},
   "outputs": [],
   "source": [
    "def plot_acf_pacf(location_id, data, lags):\n",
    "    # Filter the data for the given location\n",
    "    location_data = data[data['LOCATION'] == location_id]['VALUE_SCALED']\n",
    "\n",
    "    # Plot ACF\n",
    "    plt.figure(figsize=(12, 6))\n",
    "    plt.subplot(121)\n",
    "    plot_acf(location_data, ax=plt.gca(), lags=lags)\n",
    "    plt.title(f'ACF for Location {location_id}')\n",
    "\n",
    "    # Plot PACF\n",
    "    plt.subplot(122)\n",
    "    plot_pacf(location_data, ax=plt.gca(), lags=lags)\n",
    "    plt.title(f'PACF for Location {location_id}')\n",
    "\n",
    "    plt.tight_layout()\n",
    "    plt.show()"
   ]
  },
  {
   "cell_type": "code",
   "execution_count": 14,
   "metadata": {},
   "outputs": [],
   "source": [
    "plot_acf_pacf(0, df_scaled,2016)"
   ]
  },
  {
   "cell_type": "code",
   "execution_count": 15,
   "metadata": {},
   "outputs": [
    {
     "data": {
      "text/html": [
       "<div>\n",
       "<style scoped>\n",
       "    .dataframe tbody tr th:only-of-type {\n",
       "        vertical-align: middle;\n",
       "    }\n",
       "\n",
       "    .dataframe tbody tr th {\n",
       "        vertical-align: top;\n",
       "    }\n",
       "\n",
       "    .dataframe thead th {\n",
       "        text-align: right;\n",
       "    }\n",
       "</style>\n",
       "<table border=\"1\" class=\"dataframe\">\n",
       "  <thead>\n",
       "    <tr style=\"text-align: right;\">\n",
       "      <th></th>\n",
       "      <th>DATE</th>\n",
       "      <th>DATETIME</th>\n",
       "      <th>LOCATION</th>\n",
       "      <th>VALUE</th>\n",
       "      <th>VALUE_SCALED</th>\n",
       "      <th>YEAR</th>\n",
       "      <th>MONTH</th>\n",
       "      <th>DAY_OF_WEEK</th>\n",
       "      <th>DAY</th>\n",
       "      <th>HOUR</th>\n",
       "      <th>MINUTE</th>\n",
       "    </tr>\n",
       "  </thead>\n",
       "  <tbody>\n",
       "    <tr>\n",
       "      <th>0</th>\n",
       "      <td>2009-07-02</td>\n",
       "      <td>2009-07-02 00:00:00</td>\n",
       "      <td>0</td>\n",
       "      <td>-79.50</td>\n",
       "      <td>0.425602</td>\n",
       "      <td>2009</td>\n",
       "      <td>7</td>\n",
       "      <td>3</td>\n",
       "      <td>2</td>\n",
       "      <td>0</td>\n",
       "      <td>0</td>\n",
       "    </tr>\n",
       "    <tr>\n",
       "      <th>1</th>\n",
       "      <td>2009-07-02</td>\n",
       "      <td>2009-07-02 00:05:00</td>\n",
       "      <td>0</td>\n",
       "      <td>-22.81</td>\n",
       "      <td>0.463518</td>\n",
       "      <td>2009</td>\n",
       "      <td>7</td>\n",
       "      <td>3</td>\n",
       "      <td>2</td>\n",
       "      <td>0</td>\n",
       "      <td>5</td>\n",
       "    </tr>\n",
       "    <tr>\n",
       "      <th>2</th>\n",
       "      <td>2009-07-02</td>\n",
       "      <td>2009-07-02 00:10:00</td>\n",
       "      <td>0</td>\n",
       "      <td>23.02</td>\n",
       "      <td>0.494171</td>\n",
       "      <td>2009</td>\n",
       "      <td>7</td>\n",
       "      <td>3</td>\n",
       "      <td>2</td>\n",
       "      <td>0</td>\n",
       "      <td>10</td>\n",
       "    </tr>\n",
       "    <tr>\n",
       "      <th>3</th>\n",
       "      <td>2009-07-02</td>\n",
       "      <td>2009-07-02 00:15:00</td>\n",
       "      <td>0</td>\n",
       "      <td>21.36</td>\n",
       "      <td>0.493061</td>\n",
       "      <td>2009</td>\n",
       "      <td>7</td>\n",
       "      <td>3</td>\n",
       "      <td>2</td>\n",
       "      <td>0</td>\n",
       "      <td>15</td>\n",
       "    </tr>\n",
       "    <tr>\n",
       "      <th>4</th>\n",
       "      <td>2009-07-02</td>\n",
       "      <td>2009-07-02 00:20:00</td>\n",
       "      <td>0</td>\n",
       "      <td>25.18</td>\n",
       "      <td>0.495616</td>\n",
       "      <td>2009</td>\n",
       "      <td>7</td>\n",
       "      <td>3</td>\n",
       "      <td>2</td>\n",
       "      <td>0</td>\n",
       "      <td>20</td>\n",
       "    </tr>\n",
       "  </tbody>\n",
       "</table>\n",
       "</div>"
      ],
      "text/plain": [
       "         DATE            DATETIME  LOCATION  VALUE  VALUE_SCALED  YEAR  MONTH  \\\n",
       "0  2009-07-02 2009-07-02 00:00:00         0 -79.50      0.425602  2009      7   \n",
       "1  2009-07-02 2009-07-02 00:05:00         0 -22.81      0.463518  2009      7   \n",
       "2  2009-07-02 2009-07-02 00:10:00         0  23.02      0.494171  2009      7   \n",
       "3  2009-07-02 2009-07-02 00:15:00         0  21.36      0.493061  2009      7   \n",
       "4  2009-07-02 2009-07-02 00:20:00         0  25.18      0.495616  2009      7   \n",
       "\n",
       "   DAY_OF_WEEK  DAY  HOUR  MINUTE  \n",
       "0            3    2     0       0  \n",
       "1            3    2     0       5  \n",
       "2            3    2     0      10  \n",
       "3            3    2     0      15  \n",
       "4            3    2     0      20  "
      ]
     },
     "execution_count": 15,
     "metadata": {},
     "output_type": "execute_result"
    }
   ],
   "source": [
    "# Extracting features from DATETIME\n",
    "df_scaled['YEAR'] = df_scaled['DATETIME'].dt.year\n",
    "df_scaled['MONTH'] = df_scaled['DATETIME'].dt.month\n",
    "df_scaled['DAY_OF_WEEK'] = df_scaled['DATETIME'].dt.day_of_week\n",
    "df_scaled['DAY'] = df_scaled['DATETIME'].dt.day\n",
    "df_scaled['HOUR'] = df_scaled['DATETIME'].dt.hour\n",
    "df_scaled['MINUTE'] = df_scaled['DATETIME'].dt.minute\n",
    "\n",
    "df_scaled.head()"
   ]
  },
  {
   "cell_type": "code",
   "execution_count": 16,
   "metadata": {},
   "outputs": [],
   "source": [
    "hourly_summary = df_scaled.groupby(['LOCATION','YEAR','MONTH','DAY','HOUR']).agg({'VALUE_SCALED':'sum'}).reset_index()\n",
    "location_0_data = hourly_summary[hourly_summary['LOCATION'] == 0]\n",
    "\n",
    "# Run the plot_acf_pacf function for location 0 and lags = 12\n",
    "plot_acf_pacf(0, location_0_data, lags=168)"
   ]
  },
  {
   "cell_type": "code",
   "execution_count": 17,
   "metadata": {},
   "outputs": [],
   "source": [
    "hourly_summary = df_scaled.groupby(['LOCATION','YEAR','MONTH','DAY','HOUR']).agg({'VALUE_SCALED':'sum'}).reset_index()\n",
    "location_0_data = hourly_summary[hourly_summary['LOCATION'] == 0]\n",
    "\n",
    "# Run the plot_acf_pacf function for location 0 and lags = 12\n",
    "plot_acf_pacf(0, location_0_data, lags=168*2)"
   ]
  },
  {
   "cell_type": "code",
   "execution_count": 18,
   "metadata": {},
   "outputs": [
    {
     "data": {
      "text/html": [
       "<div>\n",
       "<style scoped>\n",
       "    .dataframe tbody tr th:only-of-type {\n",
       "        vertical-align: middle;\n",
       "    }\n",
       "\n",
       "    .dataframe tbody tr th {\n",
       "        vertical-align: top;\n",
       "    }\n",
       "\n",
       "    .dataframe thead th {\n",
       "        text-align: right;\n",
       "    }\n",
       "</style>\n",
       "<table border=\"1\" class=\"dataframe\">\n",
       "  <thead>\n",
       "    <tr style=\"text-align: right;\">\n",
       "      <th></th>\n",
       "      <th>DATE</th>\n",
       "      <th>DATETIME</th>\n",
       "      <th>LOCATION</th>\n",
       "      <th>VALUE</th>\n",
       "      <th>VALUE_SCALED</th>\n",
       "      <th>YEAR</th>\n",
       "      <th>MONTH</th>\n",
       "      <th>DAY_OF_WEEK</th>\n",
       "      <th>DAY</th>\n",
       "      <th>HOUR</th>\n",
       "      <th>MINUTE</th>\n",
       "    </tr>\n",
       "  </thead>\n",
       "  <tbody>\n",
       "    <tr>\n",
       "      <th>0</th>\n",
       "      <td>2009-07-02</td>\n",
       "      <td>2009-07-02 00:00:00</td>\n",
       "      <td>0</td>\n",
       "      <td>-79.50</td>\n",
       "      <td>0.425602</td>\n",
       "      <td>2009</td>\n",
       "      <td>7</td>\n",
       "      <td>3</td>\n",
       "      <td>2</td>\n",
       "      <td>0</td>\n",
       "      <td>0</td>\n",
       "    </tr>\n",
       "    <tr>\n",
       "      <th>1</th>\n",
       "      <td>2009-07-02</td>\n",
       "      <td>2009-07-02 00:05:00</td>\n",
       "      <td>0</td>\n",
       "      <td>-22.81</td>\n",
       "      <td>0.463518</td>\n",
       "      <td>2009</td>\n",
       "      <td>7</td>\n",
       "      <td>3</td>\n",
       "      <td>2</td>\n",
       "      <td>0</td>\n",
       "      <td>5</td>\n",
       "    </tr>\n",
       "    <tr>\n",
       "      <th>2</th>\n",
       "      <td>2009-07-02</td>\n",
       "      <td>2009-07-02 00:10:00</td>\n",
       "      <td>0</td>\n",
       "      <td>23.02</td>\n",
       "      <td>0.494171</td>\n",
       "      <td>2009</td>\n",
       "      <td>7</td>\n",
       "      <td>3</td>\n",
       "      <td>2</td>\n",
       "      <td>0</td>\n",
       "      <td>10</td>\n",
       "    </tr>\n",
       "    <tr>\n",
       "      <th>3</th>\n",
       "      <td>2009-07-02</td>\n",
       "      <td>2009-07-02 00:15:00</td>\n",
       "      <td>0</td>\n",
       "      <td>21.36</td>\n",
       "      <td>0.493061</td>\n",
       "      <td>2009</td>\n",
       "      <td>7</td>\n",
       "      <td>3</td>\n",
       "      <td>2</td>\n",
       "      <td>0</td>\n",
       "      <td>15</td>\n",
       "    </tr>\n",
       "    <tr>\n",
       "      <th>4</th>\n",
       "      <td>2009-07-02</td>\n",
       "      <td>2009-07-02 00:20:00</td>\n",
       "      <td>0</td>\n",
       "      <td>25.18</td>\n",
       "      <td>0.495616</td>\n",
       "      <td>2009</td>\n",
       "      <td>7</td>\n",
       "      <td>3</td>\n",
       "      <td>2</td>\n",
       "      <td>0</td>\n",
       "      <td>20</td>\n",
       "    </tr>\n",
       "  </tbody>\n",
       "</table>\n",
       "</div>"
      ],
      "text/plain": [
       "         DATE            DATETIME  LOCATION  VALUE  VALUE_SCALED  YEAR  MONTH  \\\n",
       "0  2009-07-02 2009-07-02 00:00:00         0 -79.50      0.425602  2009      7   \n",
       "1  2009-07-02 2009-07-02 00:05:00         0 -22.81      0.463518  2009      7   \n",
       "2  2009-07-02 2009-07-02 00:10:00         0  23.02      0.494171  2009      7   \n",
       "3  2009-07-02 2009-07-02 00:15:00         0  21.36      0.493061  2009      7   \n",
       "4  2009-07-02 2009-07-02 00:20:00         0  25.18      0.495616  2009      7   \n",
       "\n",
       "   DAY_OF_WEEK  DAY  HOUR  MINUTE  \n",
       "0            3    2     0       0  \n",
       "1            3    2     0       5  \n",
       "2            3    2     0      10  \n",
       "3            3    2     0      15  \n",
       "4            3    2     0      20  "
      ]
     },
     "execution_count": 18,
     "metadata": {},
     "output_type": "execute_result"
    }
   ],
   "source": [
    "loc_0_df = df_scaled[df_scaled['LOCATION'] == 0]\n",
    "loc_0_df.head()"
   ]
  },
  {
   "cell_type": "markdown",
   "metadata": {},
   "source": [
    "### Add holiday feature"
   ]
  },
  {
   "cell_type": "code",
   "execution_count": 19,
   "metadata": {},
   "outputs": [],
   "source": [
    "from prophet.make_holidays import make_holidays_df\n",
    "import re\n",
    "\n",
    "hu_holidays = make_holidays_df(\n",
    "    year_list=[2009, 2010],\n",
    "    country='HU'\n",
    ")\n",
    "\n",
    "hu_holidays['holiday'] = hu_holidays.holiday.apply(lambda x: re.sub(\"[\\(\\[].*?[\\)\\]]\", \"\", x).strip())\n",
    "\n",
    "aut_holidays = make_holidays_df(\n",
    "    year_list=[2009, 2010],\n",
    "    country='AT'\n",
    ")\n",
    "\n",
    "aut_holidays['holiday'] = aut_holidays.holiday.apply(lambda x: re.sub(\"[\\(\\[].*?[\\)\\]]\", \"\", x).strip())\n",
    "\n",
    "holidays = pd.merge(hu_holidays, aut_holidays, how='inner', on=['ds', 'holiday'])\n",
    "holidays.columns = ['DATE', 'holiday']\n",
    "holidays['DATE'] = pd.to_datetime(holidays['DATE'])\n",
    "df_scaled['DATE'] = pd.to_datetime(df_scaled['DATE'])\n",
    "\n",
    "df_scaled = df_scaled.merge(holidays, on = 'DATE', how = 'left', validate='m:1')"
   ]
  },
  {
   "cell_type": "code",
   "execution_count": 20,
   "metadata": {},
   "outputs": [
    {
     "data": {
      "text/html": [
       "<div>\n",
       "<style scoped>\n",
       "    .dataframe tbody tr th:only-of-type {\n",
       "        vertical-align: middle;\n",
       "    }\n",
       "\n",
       "    .dataframe tbody tr th {\n",
       "        vertical-align: top;\n",
       "    }\n",
       "\n",
       "    .dataframe thead th {\n",
       "        text-align: right;\n",
       "    }\n",
       "</style>\n",
       "<table border=\"1\" class=\"dataframe\">\n",
       "  <thead>\n",
       "    <tr style=\"text-align: right;\">\n",
       "      <th></th>\n",
       "      <th>DATE</th>\n",
       "      <th>DATETIME</th>\n",
       "      <th>LOCATION</th>\n",
       "      <th>VALUE</th>\n",
       "      <th>VALUE_SCALED</th>\n",
       "      <th>YEAR</th>\n",
       "      <th>MONTH</th>\n",
       "      <th>DAY_OF_WEEK</th>\n",
       "      <th>DAY</th>\n",
       "      <th>HOUR</th>\n",
       "      <th>MINUTE</th>\n",
       "      <th>holiday</th>\n",
       "    </tr>\n",
       "  </thead>\n",
       "  <tbody>\n",
       "    <tr>\n",
       "      <th>0</th>\n",
       "      <td>2009-07-02</td>\n",
       "      <td>2009-07-02 00:00:00</td>\n",
       "      <td>0</td>\n",
       "      <td>-79.50</td>\n",
       "      <td>0.425602</td>\n",
       "      <td>2009</td>\n",
       "      <td>7</td>\n",
       "      <td>3</td>\n",
       "      <td>2</td>\n",
       "      <td>0</td>\n",
       "      <td>0</td>\n",
       "      <td>NaN</td>\n",
       "    </tr>\n",
       "    <tr>\n",
       "      <th>1</th>\n",
       "      <td>2009-07-02</td>\n",
       "      <td>2009-07-02 00:05:00</td>\n",
       "      <td>0</td>\n",
       "      <td>-22.81</td>\n",
       "      <td>0.463518</td>\n",
       "      <td>2009</td>\n",
       "      <td>7</td>\n",
       "      <td>3</td>\n",
       "      <td>2</td>\n",
       "      <td>0</td>\n",
       "      <td>5</td>\n",
       "      <td>NaN</td>\n",
       "    </tr>\n",
       "    <tr>\n",
       "      <th>2</th>\n",
       "      <td>2009-07-02</td>\n",
       "      <td>2009-07-02 00:10:00</td>\n",
       "      <td>0</td>\n",
       "      <td>23.02</td>\n",
       "      <td>0.494171</td>\n",
       "      <td>2009</td>\n",
       "      <td>7</td>\n",
       "      <td>3</td>\n",
       "      <td>2</td>\n",
       "      <td>0</td>\n",
       "      <td>10</td>\n",
       "      <td>NaN</td>\n",
       "    </tr>\n",
       "    <tr>\n",
       "      <th>3</th>\n",
       "      <td>2009-07-02</td>\n",
       "      <td>2009-07-02 00:15:00</td>\n",
       "      <td>0</td>\n",
       "      <td>21.36</td>\n",
       "      <td>0.493061</td>\n",
       "      <td>2009</td>\n",
       "      <td>7</td>\n",
       "      <td>3</td>\n",
       "      <td>2</td>\n",
       "      <td>0</td>\n",
       "      <td>15</td>\n",
       "      <td>NaN</td>\n",
       "    </tr>\n",
       "    <tr>\n",
       "      <th>4</th>\n",
       "      <td>2009-07-02</td>\n",
       "      <td>2009-07-02 00:20:00</td>\n",
       "      <td>0</td>\n",
       "      <td>25.18</td>\n",
       "      <td>0.495616</td>\n",
       "      <td>2009</td>\n",
       "      <td>7</td>\n",
       "      <td>3</td>\n",
       "      <td>2</td>\n",
       "      <td>0</td>\n",
       "      <td>20</td>\n",
       "      <td>NaN</td>\n",
       "    </tr>\n",
       "  </tbody>\n",
       "</table>\n",
       "</div>"
      ],
      "text/plain": [
       "        DATE            DATETIME  LOCATION  VALUE  VALUE_SCALED  YEAR  MONTH  \\\n",
       "0 2009-07-02 2009-07-02 00:00:00         0 -79.50      0.425602  2009      7   \n",
       "1 2009-07-02 2009-07-02 00:05:00         0 -22.81      0.463518  2009      7   \n",
       "2 2009-07-02 2009-07-02 00:10:00         0  23.02      0.494171  2009      7   \n",
       "3 2009-07-02 2009-07-02 00:15:00         0  21.36      0.493061  2009      7   \n",
       "4 2009-07-02 2009-07-02 00:20:00         0  25.18      0.495616  2009      7   \n",
       "\n",
       "   DAY_OF_WEEK  DAY  HOUR  MINUTE holiday  \n",
       "0            3    2     0       0     NaN  \n",
       "1            3    2     0       5     NaN  \n",
       "2            3    2     0      10     NaN  \n",
       "3            3    2     0      15     NaN  \n",
       "4            3    2     0      20     NaN  "
      ]
     },
     "execution_count": 20,
     "metadata": {},
     "output_type": "execute_result"
    }
   ],
   "source": [
    "df_scaled.head()"
   ]
  },
  {
   "cell_type": "markdown",
   "metadata": {},
   "source": [
    "### Encode the date base features"
   ]
  },
  {
   "cell_type": "code",
   "execution_count": 21,
   "metadata": {},
   "outputs": [],
   "source": [
    "#encode the values\n",
    "df_encoded = pd.concat([\n",
    "  df_scaled,\n",
    "  # pd.get_dummies(df_scaled['LOCATION'], dtype=int, prefix='LOC'),\n",
    "  pd.get_dummies(df_scaled['holiday'], dtype=int),\n",
    "  pd.get_dummies(df_scaled['MONTH'], dtype=int, prefix='month'),\n",
    "  pd.get_dummies(df_scaled['DAY_OF_WEEK'], dtype=int, prefix='weekday'),\n",
    "  pd.get_dummies(df_scaled['DAY'], dtype=int, prefix='day'),\n",
    "  pd.get_dummies(df_scaled['HOUR'], dtype=int, prefix='hour'),\n",
    "  pd.get_dummies(df_scaled['MINUTE'], dtype=int, prefix='minute'),\n",
    "], axis=1)"
   ]
  },
  {
   "cell_type": "code",
   "execution_count": 24,
   "metadata": {},
   "outputs": [
    {
     "data": {
      "text/plain": [
       "Index(['DATE', 'DATETIME', 'LOCATION', 'VALUE', 'VALUE_SCALED', 'YEAR',\n",
       "       'MONTH', 'DAY_OF_WEEK', 'DAY', 'HOUR', 'MINUTE', 'holiday',\n",
       "       'All Saints' Day', 'Christmas Day', 'Easter Monday', 'Labor Day',\n",
       "       'New Year's Day', 'Whit Monday', 'month_1', 'month_2'],\n",
       "      dtype='object')"
      ]
     },
     "execution_count": 24,
     "metadata": {},
     "output_type": "execute_result"
    }
   ],
   "source": [
    "df_encoded.columns[:20]"
   ]
  },
  {
   "cell_type": "code",
   "execution_count": 26,
   "metadata": {},
   "outputs": [],
   "source": [
    "df_encoded.drop(columns=['YEAR','MONTH','DAY_OF_WEEK','DAY','HOUR', 'MINUTE','holiday']).to_csv(data_input_path + 'modelling_df_0120.csv',index=False)"
   ]
  }
 ],
 "metadata": {
  "kernelspec": {
   "display_name": "Python 3",
   "language": "python",
   "name": "python3"
  },
  "language_info": {
   "codemirror_mode": {
    "name": "ipython",
    "version": 3
   },
   "file_extension": ".py",
   "mimetype": "text/x-python",
   "name": "python",
   "nbconvert_exporter": "python",
   "pygments_lexer": "ipython3",
   "version": "3.11.4"
  }
 },
 "nbformat": 4,
 "nbformat_minor": 2
}
